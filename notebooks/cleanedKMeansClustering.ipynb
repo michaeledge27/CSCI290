{
  "nbformat": 4,
  "nbformat_minor": 0,
  "metadata": {
    "colab": {
      "provenance": [],
      "authorship_tag": "ABX9TyOt5cAqMHgEyF768fpBmLnL",
      "include_colab_link": true
    },
    "kernelspec": {
      "name": "python3",
      "display_name": "Python 3"
    },
    "language_info": {
      "name": "python"
    }
  },
  "cells": [
    {
      "cell_type": "markdown",
      "metadata": {
        "id": "view-in-github",
        "colab_type": "text"
      },
      "source": [
        "<a href=\"https://colab.research.google.com/github/michaeledge27/CSCI290/blob/main/notebooks/cleanedKMeansClustering.ipynb\" target=\"_parent\"><img src=\"https://colab.research.google.com/assets/colab-badge.svg\" alt=\"Open In Colab\"/></a>"
      ]
    },
    {
      "cell_type": "markdown",
      "source": [
        "# k-Means Method"
      ],
      "metadata": {
        "id": "CwKhxOWjfsXS"
      }
    },
    {
      "cell_type": "code",
      "execution_count": 16,
      "metadata": {
        "id": "v-VJySmSflBq"
      },
      "outputs": [],
      "source": [
        "import pandas as pd\n",
        "import seaborn as sns\n",
        "import numpy as np\n",
        "import matplotlib.pyplot as plt\n",
        "from IPython.display import clear_output\n",
        "from matplotlib.ticker import FixedLocator, FixedFormatter"
      ]
    },
    {
      "cell_type": "code",
      "source": [
        "def euclidean_distance(x1, x2):\n",
        "    return np.sqrt(np.sum((x1 - x2)**2))"
      ],
      "metadata": {
        "id": "r76_9J10fvUE"
      },
      "execution_count": 1,
      "outputs": []
    },
    {
      "cell_type": "code",
      "source": [
        "# return random sample of k initial centroids\n",
        "def get_random_centroids(df, k):\n",
        "    return df.sample(k)[df.columns[:-1]]"
      ],
      "metadata": {
        "id": "EF8obOnJfz3Q"
      },
      "execution_count": 3,
      "outputs": []
    },
    {
      "cell_type": "code",
      "source": [
        "# compare old centroids to new centroids to see if the algorithm has converged yet\n",
        "# return true if new_centroids is equal to old_centroids, false otherwise\n",
        "def check_new_centroids(old_centroids, new_centroids):\n",
        "    if old_centroids.empty:\n",
        "        return False  # Return False at start of loop\n",
        "    return np.allclose(old_centroids.values, new_centroids.values, atol=0.001)"
      ],
      "metadata": {
        "id": "Iu6JtlE4f4UI"
      },
      "execution_count": 4,
      "outputs": []
    },
    {
      "cell_type": "code",
      "source": [
        "def update_centroids(df):\n",
        "    return df.groupby(\"current_cluster\").mean()[df.columns[:-1]]"
      ],
      "metadata": {
        "id": "jLDlIJBQf61p"
      },
      "execution_count": 5,
      "outputs": []
    },
    {
      "cell_type": "code",
      "source": [
        "# plot data and centroids for each iteration\n",
        "def plot_clusters(df, centroids, iteration, x, y):\n",
        "    plt.figure(figsize=(5, 3))\n",
        "\n",
        "    # Plot each cluster\n",
        "    sns.scatterplot(x, y, data = df, hue = \"current_cluster\");\n",
        "\n",
        "    # Plot the centroids\n",
        "    plt.scatter(\n",
        "        centroids[x], centroids[y],\n",
        "        color=\"red\", marker=\"X\", s=200, label=\"Centroids\"\n",
        "    )\n",
        "\n",
        "    plt.title(f'Iteration {iteration}')\n",
        "    plt.xlabel(x)\n",
        "    plt.ylabel(y)\n",
        "    plt.legend()\n",
        "    plt.show()\n",
        "    plt.pause(1)\n",
        "    clear_output(wait=True)"
      ],
      "metadata": {
        "id": "kJxtIE2BgP1g"
      },
      "execution_count": 6,
      "outputs": []
    },
    {
      "cell_type": "code",
      "source": [
        "def get_cluster(df, centroids, x=None, y=None, plot=True):\n",
        "    # initialize old centroids as an empty dataframe\n",
        "    old_centroids = pd.DataFrame()\n",
        "    # keep track of what iteration we are on for plotting\n",
        "    iteration = 0\n",
        "    # run iteratively while the new centroids are different from the old ones\n",
        "    while not check_new_centroids(old_centroids, centroids):\n",
        "        # update the old centroids\n",
        "        old_centroids = centroids.copy()\n",
        "        # iterate over each point in the data frame\n",
        "        for i in df.index:\n",
        "            # store distances from current point to each centroid\n",
        "            distances = []\n",
        "            # iterate over each centroid\n",
        "            for _, centroid in centroids.iterrows():\n",
        "                # calculate euclidean distance from current point to current centroid\n",
        "                distances.append(euclidean_distance(df.loc[i, df.columns[:-1]], centroid))\n",
        "            # assign the point to the cluster with the closest centroid\n",
        "            closest_cluster = np.argmin(distances)\n",
        "            df.loc[i, 'current_cluster'] = closest_cluster\n",
        "\n",
        "        if plot:\n",
        "          # plot clusters and centroids\n",
        "          plot_clusters(df, centroids, iteration, x, y)\n",
        "        #update centroids\n",
        "        centroids = update_centroids(df)\n",
        "        iteration += 1\n",
        "    return df\n"
      ],
      "metadata": {
        "id": "JbLenE7-geRS"
      },
      "execution_count": 10,
      "outputs": []
    },
    {
      "cell_type": "code",
      "source": [
        "def calculate_accuracy(df, clustered_df, target):\n",
        "    accuracy = 0\n",
        "    for i in df.index:\n",
        "        if df.loc[i, target] == clustered_df.loc[i, 'current_cluster']:\n",
        "            accuracy += 1\n",
        "    return accuracy / len(df)"
      ],
      "metadata": {
        "id": "1lckoC4sgmo-"
      },
      "execution_count": 8,
      "outputs": []
    },
    {
      "cell_type": "code",
      "source": [
        "def get_inertia(df, centroids):\n",
        "    # initialize as 0\n",
        "    inertia = 0\n",
        "    # loop through each point\n",
        "    for i in df.index:\n",
        "        # get cluster assignment\n",
        "        cluster = df.loc[i, 'current_cluster']\n",
        "        # calculate euclidean distance between the point and its assigned centroid\n",
        "        distance = euclidean_distance(df.loc[i, df.columns[:-1]], centroids.loc[cluster])\n",
        "        # add the squared distance to the total inertia\n",
        "        inertia += distance**2\n",
        "    return inertia"
      ],
      "metadata": {
        "id": "UYuOOOoXgsSC"
      },
      "execution_count": 9,
      "outputs": []
    },
    {
      "cell_type": "code",
      "source": [
        "def plot_intertia(df):\n",
        "  inertias = []\n",
        "  for i in range(1, 11):\n",
        "      centroids = get_random_centroids(df, i)\n",
        "      clustered_df = get_cluster(df, centroids, plot=False)\n",
        "      inertia = get_inertia(clustered_df, update_centroids(clustered_df))\n",
        "      inertias.append(inertia)\n",
        "\n",
        "\n",
        "  plt.plot(range(1, 11), inertias, marker='o')\n",
        "  plt.title('Elbow Method')\n",
        "  plt.xlabel('Number of Clusters')\n",
        "  plt.ylabel('Inertia')\n",
        "  plt.show()"
      ],
      "metadata": {
        "id": "8oXfWwFWgybj"
      },
      "execution_count": 11,
      "outputs": []
    },
    {
      "cell_type": "code",
      "source": [
        "def initialize_centroids(df, k):\n",
        "    # initialize list to hold k centroids\n",
        "    centroids = []\n",
        "    # randomly select first centroid\n",
        "    first_centroid = df.sample(1).iloc[0]\n",
        "    # add it to the centroid list\n",
        "    centroids.append(first_centroid)\n",
        "    # get remaining k-1 centroids\n",
        "    for i in range(1, k):     # k is exclusive\n",
        "        # initialize list to hold distances from new centroids to the first centroid\n",
        "        distances = []\n",
        "        # loop through each point in the data frame\n",
        "        for i in df.index:\n",
        "            point = df.loc[i, df.columns[:-1]]\n",
        "            # Calculate the distance from the current point to each centroid\n",
        "            min_distance = min(euclidean_distance(point, centroid) for centroid in centroids)\n",
        "            distances.append(min_distance**2)  # Append squared distance\n",
        "        # compute probabilities\n",
        "        probabilities = distances / np.sum(distances)\n",
        "        # select new centroid\n",
        "        new_centroid = df.sample(1, weights=probabilities).iloc[0]\n",
        "        # add new centroid to list\n",
        "        centroids.append(new_centroid)\n",
        "\n",
        "    return pd.DataFrame(centroids, columns=df.columns[:-1])"
      ],
      "metadata": {
        "id": "Bzvw_OathOHy"
      },
      "execution_count": 12,
      "outputs": []
    },
    {
      "cell_type": "code",
      "source": [
        "# calculate mean inter cluster distance (a_i)\n",
        "def mean_icd(df, point_index):\n",
        "    distances = []\n",
        "    # get the current cluster of the point\n",
        "    current_cluster = df.loc[point_index, 'current_cluster']\n",
        "    # get all points in the current cluster\n",
        "    cluster_points = df[df['current_cluster'] == current_cluster]\n",
        "    # loop through all points in current cluster\n",
        "    for i in cluster_points.index:\n",
        "        # exclude the point itself\n",
        "        if i != point_index:\n",
        "            # calculate and append mean distance between the current point and all other points\n",
        "            distances.append(euclidean_distance(df.loc[i, df.columns[:-1]], df.loc[point_index, df.columns[:-1]]))\n",
        "\n",
        "    return np.mean(distances) if distances else 0"
      ],
      "metadata": {
        "id": "AHcC7i1shR4N"
      },
      "execution_count": 13,
      "outputs": []
    },
    {
      "cell_type": "code",
      "source": [
        "# calculate mean nearest cluster distance (b_i)\n",
        "def mean_ncd(df, point_index):\n",
        "    total_distances = []\n",
        "    # get the current cluster\n",
        "    current_cluster = df.loc[point_index, 'current_cluster']\n",
        "    # get all other clusters\n",
        "    other_clusters = df[df['current_cluster'] != current_cluster]\n",
        "    # loop through each unique cluster in other_clusters\n",
        "    for cluster in other_clusters['current_cluster'].unique():\n",
        "        # get all points belonging to the cluster being considered\n",
        "        cluster_points = df[df['current_cluster'] == cluster]\n",
        "        # compute distance to all points in the current cluster\n",
        "        distances = []\n",
        "        for i in cluster_points.index:\n",
        "            # calculate distance between this point and each point in the current cluster\n",
        "            distances.append(euclidean_distance(df.loc[i, df.columns[:-1]], df.loc[point_index, df.columns[:-1]]))\n",
        "        # calculate mean distance to the current cluster\n",
        "        total_distances.append(np.mean(distances))\n",
        "    # return minimum mean distance among all clusters\n",
        "    return min(total_distances)\n"
      ],
      "metadata": {
        "id": "Zyx87A6bhUwX"
      },
      "execution_count": 14,
      "outputs": []
    },
    {
      "cell_type": "code",
      "source": [
        "def get_silhouette_coefficients(df):\n",
        "    # get all points in the current cluster\n",
        "    # df = df[df['current_cluster'] == cluster]\n",
        "    # store coefficients for a cluster\n",
        "    silhouette_coefficients = []\n",
        "    # loop through each point in the cluster\n",
        "    for i in df.index:\n",
        "        # calculate mean inter cluster distance\n",
        "        a = mean_icd(df, i)\n",
        "        # calculate mean nearest cluster distance\n",
        "        b = mean_ncd(df, i)\n",
        "        # compute silhouette coefficient for each point\n",
        "        silhouette_coefficients.append((b - a) / max(a, b))\n",
        "    new_df = pd.DataFrame( { 'silhouette coefficient': silhouette_coefficients,\n",
        "                                 'current_cluster': df['current_cluster'] } )\n",
        "    # return silhouette coefficients for all points in the cluster\n",
        "    return new_df"
      ],
      "metadata": {
        "id": "0YWm_mqLhWqO"
      },
      "execution_count": 15,
      "outputs": []
    },
    {
      "cell_type": "code",
      "source": [
        "def silhouette_plots(df):\n",
        "    for k in range(2, 6):\n",
        "        plt.subplot(2, 2, k-1)\n",
        "        centroids = initialize_centroids(df, k)\n",
        "        clustered_df = get_cluster(df, centroids, plot=False)\n",
        "        new_df = get_silhouette_coefficients(clustered_df)\n",
        "        silhouette_score = np.mean(new_df['silhouette coefficient'])\n",
        "        padding = len(new_df) // 30\n",
        "        pos = padding\n",
        "        ticks = []\n",
        "        for i in range(k):\n",
        "            coeffs = new_df[new_df['current_cluster'] == i]['silhouette coefficient']\n",
        "            coeffs = list(coeffs)\n",
        "            coeffs.sort()\n",
        "            color = plt.cm.Spectral(i / k)\n",
        "            plt.fill_betweenx(np.arange(pos, pos + len(coeffs)), 0, coeffs,\n",
        "                              facecolor=color, edgecolor=color, alpha=0.7)\n",
        "            ticks.append(pos + len(coeffs) // 2)\n",
        "            pos += len(coeffs) + padding\n",
        "\n",
        "        plt.gca().yaxis.set_major_locator(FixedLocator(ticks))\n",
        "        plt.gca().yaxis.set_major_formatter(FixedFormatter(range(k)))\n",
        "        plt.ylabel(\"Cluster\")\n",
        "\n",
        "        plt.gca().set_xticks([-0.1, 0, 0.2, 0.4, 0.6, 0.8, 1])\n",
        "\n",
        "        plt.axvline(x=silhouette_score, color=\"red\", linestyle=\"--\")\n",
        "        plt.title(f\"$k={k}$\")\n",
        "\n",
        "    plt.show()"
      ],
      "metadata": {
        "id": "d4YH4RLwhaiA"
      },
      "execution_count": 17,
      "outputs": []
    },
    {
      "cell_type": "code",
      "source": [],
      "metadata": {
        "id": "J4roOqWRhuMJ"
      },
      "execution_count": null,
      "outputs": []
    }
  ]
}