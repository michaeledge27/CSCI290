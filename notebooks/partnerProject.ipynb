{
  "nbformat": 4,
  "nbformat_minor": 0,
  "metadata": {
    "colab": {
      "provenance": [],
      "toc_visible": true,
      "include_colab_link": true
    },
    "kernelspec": {
      "name": "python3",
      "display_name": "Python 3"
    },
    "language_info": {
      "name": "python"
    }
  },
  "cells": [
    {
      "cell_type": "markdown",
      "metadata": {
        "id": "view-in-github",
        "colab_type": "text"
      },
      "source": [
        "<a href=\"https://colab.research.google.com/github/michaeledge27/CSCI290/blob/main/notebooks/partnerProject.ipynb\" target=\"_parent\"><img src=\"https://colab.research.google.com/assets/colab-badge.svg\" alt=\"Open In Colab\"/></a>"
      ]
    },
    {
      "cell_type": "code",
      "source": [
        "import pandas as pd"
      ],
      "metadata": {
        "id": "amSrA3xR5i8s"
      },
      "execution_count": 1,
      "outputs": []
    },
    {
      "cell_type": "code",
      "execution_count": 2,
      "metadata": {
        "id": "GlTPR22lsVXO"
      },
      "outputs": [],
      "source": [
        "url = \"https://github.com/michaeledge27/CSCI290/raw/refs/heads/main/data/MBA.csv\"\n",
        "MBAdf = pd.read_csv(url)"
      ]
    },
    {
      "cell_type": "code",
      "source": [
        "MBAdf.head()"
      ],
      "metadata": {
        "colab": {
          "base_uri": "https://localhost:8080/",
          "height": 206
        },
        "id": "uDhZUf2ZLaTY",
        "outputId": "7a83909c-583f-4f0d-f008-319d7f21b417"
      },
      "execution_count": 3,
      "outputs": [
        {
          "output_type": "execute_result",
          "data": {
            "text/plain": [
              "   application_id  gender  international   gpa       major      race   gmat  \\\n",
              "0               1  Female          False  3.30    Business     Asian  620.0   \n",
              "1               2    Male          False  3.28  Humanities     Black  680.0   \n",
              "2               3  Female           True  3.30    Business       NaN  710.0   \n",
              "3               4    Male          False  3.47        STEM     Black  690.0   \n",
              "4               5    Male          False  3.35        STEM  Hispanic  590.0   \n",
              "\n",
              "   work_exp          work_industry admission  \n",
              "0       3.0     Financial Services     Admit  \n",
              "1       5.0  Investment Management       NaN  \n",
              "2       5.0             Technology     Admit  \n",
              "3       6.0             Technology       NaN  \n",
              "4       5.0             Consulting       NaN  "
            ],
            "text/html": [
              "\n",
              "  <div id=\"df-d1bb7bd5-9311-4b5b-9760-c74330240b0e\" class=\"colab-df-container\">\n",
              "    <div>\n",
              "<style scoped>\n",
              "    .dataframe tbody tr th:only-of-type {\n",
              "        vertical-align: middle;\n",
              "    }\n",
              "\n",
              "    .dataframe tbody tr th {\n",
              "        vertical-align: top;\n",
              "    }\n",
              "\n",
              "    .dataframe thead th {\n",
              "        text-align: right;\n",
              "    }\n",
              "</style>\n",
              "<table border=\"1\" class=\"dataframe\">\n",
              "  <thead>\n",
              "    <tr style=\"text-align: right;\">\n",
              "      <th></th>\n",
              "      <th>application_id</th>\n",
              "      <th>gender</th>\n",
              "      <th>international</th>\n",
              "      <th>gpa</th>\n",
              "      <th>major</th>\n",
              "      <th>race</th>\n",
              "      <th>gmat</th>\n",
              "      <th>work_exp</th>\n",
              "      <th>work_industry</th>\n",
              "      <th>admission</th>\n",
              "    </tr>\n",
              "  </thead>\n",
              "  <tbody>\n",
              "    <tr>\n",
              "      <th>0</th>\n",
              "      <td>1</td>\n",
              "      <td>Female</td>\n",
              "      <td>False</td>\n",
              "      <td>3.30</td>\n",
              "      <td>Business</td>\n",
              "      <td>Asian</td>\n",
              "      <td>620.0</td>\n",
              "      <td>3.0</td>\n",
              "      <td>Financial Services</td>\n",
              "      <td>Admit</td>\n",
              "    </tr>\n",
              "    <tr>\n",
              "      <th>1</th>\n",
              "      <td>2</td>\n",
              "      <td>Male</td>\n",
              "      <td>False</td>\n",
              "      <td>3.28</td>\n",
              "      <td>Humanities</td>\n",
              "      <td>Black</td>\n",
              "      <td>680.0</td>\n",
              "      <td>5.0</td>\n",
              "      <td>Investment Management</td>\n",
              "      <td>NaN</td>\n",
              "    </tr>\n",
              "    <tr>\n",
              "      <th>2</th>\n",
              "      <td>3</td>\n",
              "      <td>Female</td>\n",
              "      <td>True</td>\n",
              "      <td>3.30</td>\n",
              "      <td>Business</td>\n",
              "      <td>NaN</td>\n",
              "      <td>710.0</td>\n",
              "      <td>5.0</td>\n",
              "      <td>Technology</td>\n",
              "      <td>Admit</td>\n",
              "    </tr>\n",
              "    <tr>\n",
              "      <th>3</th>\n",
              "      <td>4</td>\n",
              "      <td>Male</td>\n",
              "      <td>False</td>\n",
              "      <td>3.47</td>\n",
              "      <td>STEM</td>\n",
              "      <td>Black</td>\n",
              "      <td>690.0</td>\n",
              "      <td>6.0</td>\n",
              "      <td>Technology</td>\n",
              "      <td>NaN</td>\n",
              "    </tr>\n",
              "    <tr>\n",
              "      <th>4</th>\n",
              "      <td>5</td>\n",
              "      <td>Male</td>\n",
              "      <td>False</td>\n",
              "      <td>3.35</td>\n",
              "      <td>STEM</td>\n",
              "      <td>Hispanic</td>\n",
              "      <td>590.0</td>\n",
              "      <td>5.0</td>\n",
              "      <td>Consulting</td>\n",
              "      <td>NaN</td>\n",
              "    </tr>\n",
              "  </tbody>\n",
              "</table>\n",
              "</div>\n",
              "    <div class=\"colab-df-buttons\">\n",
              "\n",
              "  <div class=\"colab-df-container\">\n",
              "    <button class=\"colab-df-convert\" onclick=\"convertToInteractive('df-d1bb7bd5-9311-4b5b-9760-c74330240b0e')\"\n",
              "            title=\"Convert this dataframe to an interactive table.\"\n",
              "            style=\"display:none;\">\n",
              "\n",
              "  <svg xmlns=\"http://www.w3.org/2000/svg\" height=\"24px\" viewBox=\"0 -960 960 960\">\n",
              "    <path d=\"M120-120v-720h720v720H120Zm60-500h600v-160H180v160Zm220 220h160v-160H400v160Zm0 220h160v-160H400v160ZM180-400h160v-160H180v160Zm440 0h160v-160H620v160ZM180-180h160v-160H180v160Zm440 0h160v-160H620v160Z\"/>\n",
              "  </svg>\n",
              "    </button>\n",
              "\n",
              "  <style>\n",
              "    .colab-df-container {\n",
              "      display:flex;\n",
              "      gap: 12px;\n",
              "    }\n",
              "\n",
              "    .colab-df-convert {\n",
              "      background-color: #E8F0FE;\n",
              "      border: none;\n",
              "      border-radius: 50%;\n",
              "      cursor: pointer;\n",
              "      display: none;\n",
              "      fill: #1967D2;\n",
              "      height: 32px;\n",
              "      padding: 0 0 0 0;\n",
              "      width: 32px;\n",
              "    }\n",
              "\n",
              "    .colab-df-convert:hover {\n",
              "      background-color: #E2EBFA;\n",
              "      box-shadow: 0px 1px 2px rgba(60, 64, 67, 0.3), 0px 1px 3px 1px rgba(60, 64, 67, 0.15);\n",
              "      fill: #174EA6;\n",
              "    }\n",
              "\n",
              "    .colab-df-buttons div {\n",
              "      margin-bottom: 4px;\n",
              "    }\n",
              "\n",
              "    [theme=dark] .colab-df-convert {\n",
              "      background-color: #3B4455;\n",
              "      fill: #D2E3FC;\n",
              "    }\n",
              "\n",
              "    [theme=dark] .colab-df-convert:hover {\n",
              "      background-color: #434B5C;\n",
              "      box-shadow: 0px 1px 3px 1px rgba(0, 0, 0, 0.15);\n",
              "      filter: drop-shadow(0px 1px 2px rgba(0, 0, 0, 0.3));\n",
              "      fill: #FFFFFF;\n",
              "    }\n",
              "  </style>\n",
              "\n",
              "    <script>\n",
              "      const buttonEl =\n",
              "        document.querySelector('#df-d1bb7bd5-9311-4b5b-9760-c74330240b0e button.colab-df-convert');\n",
              "      buttonEl.style.display =\n",
              "        google.colab.kernel.accessAllowed ? 'block' : 'none';\n",
              "\n",
              "      async function convertToInteractive(key) {\n",
              "        const element = document.querySelector('#df-d1bb7bd5-9311-4b5b-9760-c74330240b0e');\n",
              "        const dataTable =\n",
              "          await google.colab.kernel.invokeFunction('convertToInteractive',\n",
              "                                                    [key], {});\n",
              "        if (!dataTable) return;\n",
              "\n",
              "        const docLinkHtml = 'Like what you see? Visit the ' +\n",
              "          '<a target=\"_blank\" href=https://colab.research.google.com/notebooks/data_table.ipynb>data table notebook</a>'\n",
              "          + ' to learn more about interactive tables.';\n",
              "        element.innerHTML = '';\n",
              "        dataTable['output_type'] = 'display_data';\n",
              "        await google.colab.output.renderOutput(dataTable, element);\n",
              "        const docLink = document.createElement('div');\n",
              "        docLink.innerHTML = docLinkHtml;\n",
              "        element.appendChild(docLink);\n",
              "      }\n",
              "    </script>\n",
              "  </div>\n",
              "\n",
              "\n",
              "<div id=\"df-17ce8576-a679-4cd2-aada-ca680808a102\">\n",
              "  <button class=\"colab-df-quickchart\" onclick=\"quickchart('df-17ce8576-a679-4cd2-aada-ca680808a102')\"\n",
              "            title=\"Suggest charts\"\n",
              "            style=\"display:none;\">\n",
              "\n",
              "<svg xmlns=\"http://www.w3.org/2000/svg\" height=\"24px\"viewBox=\"0 0 24 24\"\n",
              "     width=\"24px\">\n",
              "    <g>\n",
              "        <path d=\"M19 3H5c-1.1 0-2 .9-2 2v14c0 1.1.9 2 2 2h14c1.1 0 2-.9 2-2V5c0-1.1-.9-2-2-2zM9 17H7v-7h2v7zm4 0h-2V7h2v10zm4 0h-2v-4h2v4z\"/>\n",
              "    </g>\n",
              "</svg>\n",
              "  </button>\n",
              "\n",
              "<style>\n",
              "  .colab-df-quickchart {\n",
              "      --bg-color: #E8F0FE;\n",
              "      --fill-color: #1967D2;\n",
              "      --hover-bg-color: #E2EBFA;\n",
              "      --hover-fill-color: #174EA6;\n",
              "      --disabled-fill-color: #AAA;\n",
              "      --disabled-bg-color: #DDD;\n",
              "  }\n",
              "\n",
              "  [theme=dark] .colab-df-quickchart {\n",
              "      --bg-color: #3B4455;\n",
              "      --fill-color: #D2E3FC;\n",
              "      --hover-bg-color: #434B5C;\n",
              "      --hover-fill-color: #FFFFFF;\n",
              "      --disabled-bg-color: #3B4455;\n",
              "      --disabled-fill-color: #666;\n",
              "  }\n",
              "\n",
              "  .colab-df-quickchart {\n",
              "    background-color: var(--bg-color);\n",
              "    border: none;\n",
              "    border-radius: 50%;\n",
              "    cursor: pointer;\n",
              "    display: none;\n",
              "    fill: var(--fill-color);\n",
              "    height: 32px;\n",
              "    padding: 0;\n",
              "    width: 32px;\n",
              "  }\n",
              "\n",
              "  .colab-df-quickchart:hover {\n",
              "    background-color: var(--hover-bg-color);\n",
              "    box-shadow: 0 1px 2px rgba(60, 64, 67, 0.3), 0 1px 3px 1px rgba(60, 64, 67, 0.15);\n",
              "    fill: var(--button-hover-fill-color);\n",
              "  }\n",
              "\n",
              "  .colab-df-quickchart-complete:disabled,\n",
              "  .colab-df-quickchart-complete:disabled:hover {\n",
              "    background-color: var(--disabled-bg-color);\n",
              "    fill: var(--disabled-fill-color);\n",
              "    box-shadow: none;\n",
              "  }\n",
              "\n",
              "  .colab-df-spinner {\n",
              "    border: 2px solid var(--fill-color);\n",
              "    border-color: transparent;\n",
              "    border-bottom-color: var(--fill-color);\n",
              "    animation:\n",
              "      spin 1s steps(1) infinite;\n",
              "  }\n",
              "\n",
              "  @keyframes spin {\n",
              "    0% {\n",
              "      border-color: transparent;\n",
              "      border-bottom-color: var(--fill-color);\n",
              "      border-left-color: var(--fill-color);\n",
              "    }\n",
              "    20% {\n",
              "      border-color: transparent;\n",
              "      border-left-color: var(--fill-color);\n",
              "      border-top-color: var(--fill-color);\n",
              "    }\n",
              "    30% {\n",
              "      border-color: transparent;\n",
              "      border-left-color: var(--fill-color);\n",
              "      border-top-color: var(--fill-color);\n",
              "      border-right-color: var(--fill-color);\n",
              "    }\n",
              "    40% {\n",
              "      border-color: transparent;\n",
              "      border-right-color: var(--fill-color);\n",
              "      border-top-color: var(--fill-color);\n",
              "    }\n",
              "    60% {\n",
              "      border-color: transparent;\n",
              "      border-right-color: var(--fill-color);\n",
              "    }\n",
              "    80% {\n",
              "      border-color: transparent;\n",
              "      border-right-color: var(--fill-color);\n",
              "      border-bottom-color: var(--fill-color);\n",
              "    }\n",
              "    90% {\n",
              "      border-color: transparent;\n",
              "      border-bottom-color: var(--fill-color);\n",
              "    }\n",
              "  }\n",
              "</style>\n",
              "\n",
              "  <script>\n",
              "    async function quickchart(key) {\n",
              "      const quickchartButtonEl =\n",
              "        document.querySelector('#' + key + ' button');\n",
              "      quickchartButtonEl.disabled = true;  // To prevent multiple clicks.\n",
              "      quickchartButtonEl.classList.add('colab-df-spinner');\n",
              "      try {\n",
              "        const charts = await google.colab.kernel.invokeFunction(\n",
              "            'suggestCharts', [key], {});\n",
              "      } catch (error) {\n",
              "        console.error('Error during call to suggestCharts:', error);\n",
              "      }\n",
              "      quickchartButtonEl.classList.remove('colab-df-spinner');\n",
              "      quickchartButtonEl.classList.add('colab-df-quickchart-complete');\n",
              "    }\n",
              "    (() => {\n",
              "      let quickchartButtonEl =\n",
              "        document.querySelector('#df-17ce8576-a679-4cd2-aada-ca680808a102 button');\n",
              "      quickchartButtonEl.style.display =\n",
              "        google.colab.kernel.accessAllowed ? 'block' : 'none';\n",
              "    })();\n",
              "  </script>\n",
              "</div>\n",
              "\n",
              "    </div>\n",
              "  </div>\n"
            ],
            "application/vnd.google.colaboratory.intrinsic+json": {
              "type": "dataframe",
              "variable_name": "MBAdf",
              "summary": "{\n  \"name\": \"MBAdf\",\n  \"rows\": 6194,\n  \"fields\": [\n    {\n      \"column\": \"application_id\",\n      \"properties\": {\n        \"dtype\": \"number\",\n        \"std\": 1788,\n        \"min\": 1,\n        \"max\": 6194,\n        \"num_unique_values\": 6194,\n        \"samples\": [\n          4371,\n          3471,\n          4954\n        ],\n        \"semantic_type\": \"\",\n        \"description\": \"\"\n      }\n    },\n    {\n      \"column\": \"gender\",\n      \"properties\": {\n        \"dtype\": \"category\",\n        \"num_unique_values\": 2,\n        \"samples\": [\n          \"Male\",\n          \"Female\"\n        ],\n        \"semantic_type\": \"\",\n        \"description\": \"\"\n      }\n    },\n    {\n      \"column\": \"international\",\n      \"properties\": {\n        \"dtype\": \"boolean\",\n        \"num_unique_values\": 2,\n        \"samples\": [\n          true,\n          false\n        ],\n        \"semantic_type\": \"\",\n        \"description\": \"\"\n      }\n    },\n    {\n      \"column\": \"gpa\",\n      \"properties\": {\n        \"dtype\": \"number\",\n        \"std\": 0.15154111487341657,\n        \"min\": 2.65,\n        \"max\": 3.77,\n        \"num_unique_values\": 101,\n        \"samples\": [\n          2.81,\n          2.97\n        ],\n        \"semantic_type\": \"\",\n        \"description\": \"\"\n      }\n    },\n    {\n      \"column\": \"major\",\n      \"properties\": {\n        \"dtype\": \"category\",\n        \"num_unique_values\": 3,\n        \"samples\": [\n          \"Business\",\n          \"Humanities\"\n        ],\n        \"semantic_type\": \"\",\n        \"description\": \"\"\n      }\n    },\n    {\n      \"column\": \"race\",\n      \"properties\": {\n        \"dtype\": \"category\",\n        \"num_unique_values\": 5,\n        \"samples\": [\n          \"Black\",\n          \"Other\"\n        ],\n        \"semantic_type\": \"\",\n        \"description\": \"\"\n      }\n    },\n    {\n      \"column\": \"gmat\",\n      \"properties\": {\n        \"dtype\": \"number\",\n        \"std\": 49.294883485510994,\n        \"min\": 570.0,\n        \"max\": 780.0,\n        \"num_unique_values\": 22,\n        \"samples\": [\n          620.0,\n          730.0\n        ],\n        \"semantic_type\": \"\",\n        \"description\": \"\"\n      }\n    },\n    {\n      \"column\": \"work_exp\",\n      \"properties\": {\n        \"dtype\": \"number\",\n        \"std\": 1.0324322571091784,\n        \"min\": 1.0,\n        \"max\": 9.0,\n        \"num_unique_values\": 9,\n        \"samples\": [\n          9.0,\n          5.0\n        ],\n        \"semantic_type\": \"\",\n        \"description\": \"\"\n      }\n    },\n    {\n      \"column\": \"work_industry\",\n      \"properties\": {\n        \"dtype\": \"category\",\n        \"num_unique_values\": 14,\n        \"samples\": [\n          \"Retail\",\n          \"CPG\"\n        ],\n        \"semantic_type\": \"\",\n        \"description\": \"\"\n      }\n    },\n    {\n      \"column\": \"admission\",\n      \"properties\": {\n        \"dtype\": \"category\",\n        \"num_unique_values\": 2,\n        \"samples\": [\n          \"Waitlist\",\n          \"Admit\"\n        ],\n        \"semantic_type\": \"\",\n        \"description\": \"\"\n      }\n    }\n  ]\n}"
            }
          },
          "metadata": {},
          "execution_count": 3
        }
      ]
    },
    {
      "cell_type": "code",
      "source": [
        "MBAdf['gmat'].nunique()"
      ],
      "metadata": {
        "colab": {
          "base_uri": "https://localhost:8080/"
        },
        "id": "414DwbOOMk-R",
        "outputId": "ac4c697d-5811-40b5-ed8c-c92e45ded48e"
      },
      "execution_count": 4,
      "outputs": [
        {
          "output_type": "execute_result",
          "data": {
            "text/plain": [
              "22"
            ]
          },
          "metadata": {},
          "execution_count": 4
        }
      ]
    },
    {
      "cell_type": "code",
      "source": [
        "colsInUse = ['gender', 'international', 'gpa', 'major', 'race', 'gmat', 'work_exp', 'work_industry', 'admission']\n",
        "mbadf = MBAdf[colsInUse]\n",
        "mbadf.head()"
      ],
      "metadata": {
        "id": "jwVdQ3T85gpz",
        "outputId": "9d0350c7-651d-4072-c0e3-e564a125a8b2",
        "colab": {
          "base_uri": "https://localhost:8080/",
          "height": 206
        }
      },
      "execution_count": 5,
      "outputs": [
        {
          "output_type": "execute_result",
          "data": {
            "text/plain": [
              "   gender  international   gpa       major      race   gmat  work_exp  \\\n",
              "0  Female          False  3.30    Business     Asian  620.0       3.0   \n",
              "1    Male          False  3.28  Humanities     Black  680.0       5.0   \n",
              "2  Female           True  3.30    Business       NaN  710.0       5.0   \n",
              "3    Male          False  3.47        STEM     Black  690.0       6.0   \n",
              "4    Male          False  3.35        STEM  Hispanic  590.0       5.0   \n",
              "\n",
              "           work_industry admission  \n",
              "0     Financial Services     Admit  \n",
              "1  Investment Management       NaN  \n",
              "2             Technology     Admit  \n",
              "3             Technology       NaN  \n",
              "4             Consulting       NaN  "
            ],
            "text/html": [
              "\n",
              "  <div id=\"df-9a07fce2-dfe2-4cb2-8526-d58354faa88f\" class=\"colab-df-container\">\n",
              "    <div>\n",
              "<style scoped>\n",
              "    .dataframe tbody tr th:only-of-type {\n",
              "        vertical-align: middle;\n",
              "    }\n",
              "\n",
              "    .dataframe tbody tr th {\n",
              "        vertical-align: top;\n",
              "    }\n",
              "\n",
              "    .dataframe thead th {\n",
              "        text-align: right;\n",
              "    }\n",
              "</style>\n",
              "<table border=\"1\" class=\"dataframe\">\n",
              "  <thead>\n",
              "    <tr style=\"text-align: right;\">\n",
              "      <th></th>\n",
              "      <th>gender</th>\n",
              "      <th>international</th>\n",
              "      <th>gpa</th>\n",
              "      <th>major</th>\n",
              "      <th>race</th>\n",
              "      <th>gmat</th>\n",
              "      <th>work_exp</th>\n",
              "      <th>work_industry</th>\n",
              "      <th>admission</th>\n",
              "    </tr>\n",
              "  </thead>\n",
              "  <tbody>\n",
              "    <tr>\n",
              "      <th>0</th>\n",
              "      <td>Female</td>\n",
              "      <td>False</td>\n",
              "      <td>3.30</td>\n",
              "      <td>Business</td>\n",
              "      <td>Asian</td>\n",
              "      <td>620.0</td>\n",
              "      <td>3.0</td>\n",
              "      <td>Financial Services</td>\n",
              "      <td>Admit</td>\n",
              "    </tr>\n",
              "    <tr>\n",
              "      <th>1</th>\n",
              "      <td>Male</td>\n",
              "      <td>False</td>\n",
              "      <td>3.28</td>\n",
              "      <td>Humanities</td>\n",
              "      <td>Black</td>\n",
              "      <td>680.0</td>\n",
              "      <td>5.0</td>\n",
              "      <td>Investment Management</td>\n",
              "      <td>NaN</td>\n",
              "    </tr>\n",
              "    <tr>\n",
              "      <th>2</th>\n",
              "      <td>Female</td>\n",
              "      <td>True</td>\n",
              "      <td>3.30</td>\n",
              "      <td>Business</td>\n",
              "      <td>NaN</td>\n",
              "      <td>710.0</td>\n",
              "      <td>5.0</td>\n",
              "      <td>Technology</td>\n",
              "      <td>Admit</td>\n",
              "    </tr>\n",
              "    <tr>\n",
              "      <th>3</th>\n",
              "      <td>Male</td>\n",
              "      <td>False</td>\n",
              "      <td>3.47</td>\n",
              "      <td>STEM</td>\n",
              "      <td>Black</td>\n",
              "      <td>690.0</td>\n",
              "      <td>6.0</td>\n",
              "      <td>Technology</td>\n",
              "      <td>NaN</td>\n",
              "    </tr>\n",
              "    <tr>\n",
              "      <th>4</th>\n",
              "      <td>Male</td>\n",
              "      <td>False</td>\n",
              "      <td>3.35</td>\n",
              "      <td>STEM</td>\n",
              "      <td>Hispanic</td>\n",
              "      <td>590.0</td>\n",
              "      <td>5.0</td>\n",
              "      <td>Consulting</td>\n",
              "      <td>NaN</td>\n",
              "    </tr>\n",
              "  </tbody>\n",
              "</table>\n",
              "</div>\n",
              "    <div class=\"colab-df-buttons\">\n",
              "\n",
              "  <div class=\"colab-df-container\">\n",
              "    <button class=\"colab-df-convert\" onclick=\"convertToInteractive('df-9a07fce2-dfe2-4cb2-8526-d58354faa88f')\"\n",
              "            title=\"Convert this dataframe to an interactive table.\"\n",
              "            style=\"display:none;\">\n",
              "\n",
              "  <svg xmlns=\"http://www.w3.org/2000/svg\" height=\"24px\" viewBox=\"0 -960 960 960\">\n",
              "    <path d=\"M120-120v-720h720v720H120Zm60-500h600v-160H180v160Zm220 220h160v-160H400v160Zm0 220h160v-160H400v160ZM180-400h160v-160H180v160Zm440 0h160v-160H620v160ZM180-180h160v-160H180v160Zm440 0h160v-160H620v160Z\"/>\n",
              "  </svg>\n",
              "    </button>\n",
              "\n",
              "  <style>\n",
              "    .colab-df-container {\n",
              "      display:flex;\n",
              "      gap: 12px;\n",
              "    }\n",
              "\n",
              "    .colab-df-convert {\n",
              "      background-color: #E8F0FE;\n",
              "      border: none;\n",
              "      border-radius: 50%;\n",
              "      cursor: pointer;\n",
              "      display: none;\n",
              "      fill: #1967D2;\n",
              "      height: 32px;\n",
              "      padding: 0 0 0 0;\n",
              "      width: 32px;\n",
              "    }\n",
              "\n",
              "    .colab-df-convert:hover {\n",
              "      background-color: #E2EBFA;\n",
              "      box-shadow: 0px 1px 2px rgba(60, 64, 67, 0.3), 0px 1px 3px 1px rgba(60, 64, 67, 0.15);\n",
              "      fill: #174EA6;\n",
              "    }\n",
              "\n",
              "    .colab-df-buttons div {\n",
              "      margin-bottom: 4px;\n",
              "    }\n",
              "\n",
              "    [theme=dark] .colab-df-convert {\n",
              "      background-color: #3B4455;\n",
              "      fill: #D2E3FC;\n",
              "    }\n",
              "\n",
              "    [theme=dark] .colab-df-convert:hover {\n",
              "      background-color: #434B5C;\n",
              "      box-shadow: 0px 1px 3px 1px rgba(0, 0, 0, 0.15);\n",
              "      filter: drop-shadow(0px 1px 2px rgba(0, 0, 0, 0.3));\n",
              "      fill: #FFFFFF;\n",
              "    }\n",
              "  </style>\n",
              "\n",
              "    <script>\n",
              "      const buttonEl =\n",
              "        document.querySelector('#df-9a07fce2-dfe2-4cb2-8526-d58354faa88f button.colab-df-convert');\n",
              "      buttonEl.style.display =\n",
              "        google.colab.kernel.accessAllowed ? 'block' : 'none';\n",
              "\n",
              "      async function convertToInteractive(key) {\n",
              "        const element = document.querySelector('#df-9a07fce2-dfe2-4cb2-8526-d58354faa88f');\n",
              "        const dataTable =\n",
              "          await google.colab.kernel.invokeFunction('convertToInteractive',\n",
              "                                                    [key], {});\n",
              "        if (!dataTable) return;\n",
              "\n",
              "        const docLinkHtml = 'Like what you see? Visit the ' +\n",
              "          '<a target=\"_blank\" href=https://colab.research.google.com/notebooks/data_table.ipynb>data table notebook</a>'\n",
              "          + ' to learn more about interactive tables.';\n",
              "        element.innerHTML = '';\n",
              "        dataTable['output_type'] = 'display_data';\n",
              "        await google.colab.output.renderOutput(dataTable, element);\n",
              "        const docLink = document.createElement('div');\n",
              "        docLink.innerHTML = docLinkHtml;\n",
              "        element.appendChild(docLink);\n",
              "      }\n",
              "    </script>\n",
              "  </div>\n",
              "\n",
              "\n",
              "<div id=\"df-430d9222-a7c9-43d8-aad9-82af0244e009\">\n",
              "  <button class=\"colab-df-quickchart\" onclick=\"quickchart('df-430d9222-a7c9-43d8-aad9-82af0244e009')\"\n",
              "            title=\"Suggest charts\"\n",
              "            style=\"display:none;\">\n",
              "\n",
              "<svg xmlns=\"http://www.w3.org/2000/svg\" height=\"24px\"viewBox=\"0 0 24 24\"\n",
              "     width=\"24px\">\n",
              "    <g>\n",
              "        <path d=\"M19 3H5c-1.1 0-2 .9-2 2v14c0 1.1.9 2 2 2h14c1.1 0 2-.9 2-2V5c0-1.1-.9-2-2-2zM9 17H7v-7h2v7zm4 0h-2V7h2v10zm4 0h-2v-4h2v4z\"/>\n",
              "    </g>\n",
              "</svg>\n",
              "  </button>\n",
              "\n",
              "<style>\n",
              "  .colab-df-quickchart {\n",
              "      --bg-color: #E8F0FE;\n",
              "      --fill-color: #1967D2;\n",
              "      --hover-bg-color: #E2EBFA;\n",
              "      --hover-fill-color: #174EA6;\n",
              "      --disabled-fill-color: #AAA;\n",
              "      --disabled-bg-color: #DDD;\n",
              "  }\n",
              "\n",
              "  [theme=dark] .colab-df-quickchart {\n",
              "      --bg-color: #3B4455;\n",
              "      --fill-color: #D2E3FC;\n",
              "      --hover-bg-color: #434B5C;\n",
              "      --hover-fill-color: #FFFFFF;\n",
              "      --disabled-bg-color: #3B4455;\n",
              "      --disabled-fill-color: #666;\n",
              "  }\n",
              "\n",
              "  .colab-df-quickchart {\n",
              "    background-color: var(--bg-color);\n",
              "    border: none;\n",
              "    border-radius: 50%;\n",
              "    cursor: pointer;\n",
              "    display: none;\n",
              "    fill: var(--fill-color);\n",
              "    height: 32px;\n",
              "    padding: 0;\n",
              "    width: 32px;\n",
              "  }\n",
              "\n",
              "  .colab-df-quickchart:hover {\n",
              "    background-color: var(--hover-bg-color);\n",
              "    box-shadow: 0 1px 2px rgba(60, 64, 67, 0.3), 0 1px 3px 1px rgba(60, 64, 67, 0.15);\n",
              "    fill: var(--button-hover-fill-color);\n",
              "  }\n",
              "\n",
              "  .colab-df-quickchart-complete:disabled,\n",
              "  .colab-df-quickchart-complete:disabled:hover {\n",
              "    background-color: var(--disabled-bg-color);\n",
              "    fill: var(--disabled-fill-color);\n",
              "    box-shadow: none;\n",
              "  }\n",
              "\n",
              "  .colab-df-spinner {\n",
              "    border: 2px solid var(--fill-color);\n",
              "    border-color: transparent;\n",
              "    border-bottom-color: var(--fill-color);\n",
              "    animation:\n",
              "      spin 1s steps(1) infinite;\n",
              "  }\n",
              "\n",
              "  @keyframes spin {\n",
              "    0% {\n",
              "      border-color: transparent;\n",
              "      border-bottom-color: var(--fill-color);\n",
              "      border-left-color: var(--fill-color);\n",
              "    }\n",
              "    20% {\n",
              "      border-color: transparent;\n",
              "      border-left-color: var(--fill-color);\n",
              "      border-top-color: var(--fill-color);\n",
              "    }\n",
              "    30% {\n",
              "      border-color: transparent;\n",
              "      border-left-color: var(--fill-color);\n",
              "      border-top-color: var(--fill-color);\n",
              "      border-right-color: var(--fill-color);\n",
              "    }\n",
              "    40% {\n",
              "      border-color: transparent;\n",
              "      border-right-color: var(--fill-color);\n",
              "      border-top-color: var(--fill-color);\n",
              "    }\n",
              "    60% {\n",
              "      border-color: transparent;\n",
              "      border-right-color: var(--fill-color);\n",
              "    }\n",
              "    80% {\n",
              "      border-color: transparent;\n",
              "      border-right-color: var(--fill-color);\n",
              "      border-bottom-color: var(--fill-color);\n",
              "    }\n",
              "    90% {\n",
              "      border-color: transparent;\n",
              "      border-bottom-color: var(--fill-color);\n",
              "    }\n",
              "  }\n",
              "</style>\n",
              "\n",
              "  <script>\n",
              "    async function quickchart(key) {\n",
              "      const quickchartButtonEl =\n",
              "        document.querySelector('#' + key + ' button');\n",
              "      quickchartButtonEl.disabled = true;  // To prevent multiple clicks.\n",
              "      quickchartButtonEl.classList.add('colab-df-spinner');\n",
              "      try {\n",
              "        const charts = await google.colab.kernel.invokeFunction(\n",
              "            'suggestCharts', [key], {});\n",
              "      } catch (error) {\n",
              "        console.error('Error during call to suggestCharts:', error);\n",
              "      }\n",
              "      quickchartButtonEl.classList.remove('colab-df-spinner');\n",
              "      quickchartButtonEl.classList.add('colab-df-quickchart-complete');\n",
              "    }\n",
              "    (() => {\n",
              "      let quickchartButtonEl =\n",
              "        document.querySelector('#df-430d9222-a7c9-43d8-aad9-82af0244e009 button');\n",
              "      quickchartButtonEl.style.display =\n",
              "        google.colab.kernel.accessAllowed ? 'block' : 'none';\n",
              "    })();\n",
              "  </script>\n",
              "</div>\n",
              "\n",
              "    </div>\n",
              "  </div>\n"
            ],
            "application/vnd.google.colaboratory.intrinsic+json": {
              "type": "dataframe",
              "variable_name": "mbadf",
              "summary": "{\n  \"name\": \"mbadf\",\n  \"rows\": 6194,\n  \"fields\": [\n    {\n      \"column\": \"gender\",\n      \"properties\": {\n        \"dtype\": \"category\",\n        \"num_unique_values\": 2,\n        \"samples\": [\n          \"Male\",\n          \"Female\"\n        ],\n        \"semantic_type\": \"\",\n        \"description\": \"\"\n      }\n    },\n    {\n      \"column\": \"international\",\n      \"properties\": {\n        \"dtype\": \"boolean\",\n        \"num_unique_values\": 2,\n        \"samples\": [\n          true,\n          false\n        ],\n        \"semantic_type\": \"\",\n        \"description\": \"\"\n      }\n    },\n    {\n      \"column\": \"gpa\",\n      \"properties\": {\n        \"dtype\": \"number\",\n        \"std\": 0.15154111487341657,\n        \"min\": 2.65,\n        \"max\": 3.77,\n        \"num_unique_values\": 101,\n        \"samples\": [\n          2.81,\n          2.97\n        ],\n        \"semantic_type\": \"\",\n        \"description\": \"\"\n      }\n    },\n    {\n      \"column\": \"major\",\n      \"properties\": {\n        \"dtype\": \"category\",\n        \"num_unique_values\": 3,\n        \"samples\": [\n          \"Business\",\n          \"Humanities\"\n        ],\n        \"semantic_type\": \"\",\n        \"description\": \"\"\n      }\n    },\n    {\n      \"column\": \"race\",\n      \"properties\": {\n        \"dtype\": \"category\",\n        \"num_unique_values\": 5,\n        \"samples\": [\n          \"Black\",\n          \"Other\"\n        ],\n        \"semantic_type\": \"\",\n        \"description\": \"\"\n      }\n    },\n    {\n      \"column\": \"gmat\",\n      \"properties\": {\n        \"dtype\": \"number\",\n        \"std\": 49.294883485510994,\n        \"min\": 570.0,\n        \"max\": 780.0,\n        \"num_unique_values\": 22,\n        \"samples\": [\n          620.0,\n          730.0\n        ],\n        \"semantic_type\": \"\",\n        \"description\": \"\"\n      }\n    },\n    {\n      \"column\": \"work_exp\",\n      \"properties\": {\n        \"dtype\": \"number\",\n        \"std\": 1.0324322571091784,\n        \"min\": 1.0,\n        \"max\": 9.0,\n        \"num_unique_values\": 9,\n        \"samples\": [\n          9.0,\n          5.0\n        ],\n        \"semantic_type\": \"\",\n        \"description\": \"\"\n      }\n    },\n    {\n      \"column\": \"work_industry\",\n      \"properties\": {\n        \"dtype\": \"category\",\n        \"num_unique_values\": 14,\n        \"samples\": [\n          \"Retail\",\n          \"CPG\"\n        ],\n        \"semantic_type\": \"\",\n        \"description\": \"\"\n      }\n    },\n    {\n      \"column\": \"admission\",\n      \"properties\": {\n        \"dtype\": \"category\",\n        \"num_unique_values\": 2,\n        \"samples\": [\n          \"Waitlist\",\n          \"Admit\"\n        ],\n        \"semantic_type\": \"\",\n        \"description\": \"\"\n      }\n    }\n  ]\n}"
            }
          },
          "metadata": {},
          "execution_count": 5
        }
      ]
    },
    {
      "cell_type": "code",
      "source": [
        "mbadf.info()"
      ],
      "metadata": {
        "id": "vJj2Ipeu9FOl",
        "outputId": "eaa56cd1-6224-4d76-c228-738e5533106c",
        "colab": {
          "base_uri": "https://localhost:8080/"
        }
      },
      "execution_count": 6,
      "outputs": [
        {
          "output_type": "stream",
          "name": "stdout",
          "text": [
            "<class 'pandas.core.frame.DataFrame'>\n",
            "RangeIndex: 6194 entries, 0 to 6193\n",
            "Data columns (total 9 columns):\n",
            " #   Column         Non-Null Count  Dtype  \n",
            "---  ------         --------------  -----  \n",
            " 0   gender         6194 non-null   object \n",
            " 1   international  6194 non-null   bool   \n",
            " 2   gpa            6194 non-null   float64\n",
            " 3   major          6194 non-null   object \n",
            " 4   race           4352 non-null   object \n",
            " 5   gmat           6194 non-null   float64\n",
            " 6   work_exp       6194 non-null   float64\n",
            " 7   work_industry  6194 non-null   object \n",
            " 8   admission      1000 non-null   object \n",
            "dtypes: bool(1), float64(3), object(5)\n",
            "memory usage: 393.3+ KB\n"
          ]
        }
      ]
    },
    {
      "cell_type": "code",
      "source": [
        "colsInUseNotTarget = ['gender', 'international', 'gpa', 'major', 'race', 'gmat', 'work_exp', 'work_industry']"
      ],
      "metadata": {
        "id": "J5HwBLco6Kfr"
      },
      "execution_count": 7,
      "outputs": []
    },
    {
      "cell_type": "code",
      "source": [],
      "metadata": {
        "id": "Pb-dIkhR6Q6m"
      },
      "execution_count": 7,
      "outputs": []
    },
    {
      "cell_type": "markdown",
      "source": [
        "# Categorical Selection Method"
      ],
      "metadata": {
        "id": "CNvW_jBosXtY"
      }
    },
    {
      "cell_type": "code",
      "source": [
        "import numpy as np\n",
        "import math"
      ],
      "metadata": {
        "id": "bfj_nvUUsZ24"
      },
      "execution_count": 8,
      "outputs": []
    },
    {
      "cell_type": "code",
      "source": [
        "# Calculate the entropy for a categorical feature\n",
        "def categorical_entropy(df, target, feature):\n",
        "    entropyList = []  # List to store entropy values\n",
        "    uniqueVals = df[feature].unique()  # Get unique values for the feature\n",
        "    overall = len(df)  # Total number of rows\n",
        "    for val in uniqueVals:\n",
        "        entropy = 0  # Initialize entropy for each unique value\n",
        "        subset_size = len(df[df[feature] == val])  # Size of subset for the current value\n",
        "        weight = subset_size / overall  # Weight of the subset\n",
        "        props = df[df[feature] == val][target].value_counts(normalize=True)  # Get the proportion of target values\n",
        "        for p in props:\n",
        "          entropy -= weight * (p * math.log2(p))  # Calculate entropy for the current value\n",
        "          entropyList.append(entropy)  # Append entropy value to the list\n",
        "    return min(entropyList)  # Return the minimum entropy value"
      ],
      "metadata": {
        "id": "QQBI9p6rq8j9"
      },
      "execution_count": 9,
      "outputs": []
    },
    {
      "cell_type": "code",
      "source": [
        "# Calculate the Gini index for a categorical feature\n",
        "def categorical_gini(df, target, feature):\n",
        "    giniList = []  # List to store Gini values\n",
        "    uniqueVals = df[feature].unique()  # Get unique values for the feature\n",
        "    overall = len(df)  # Total number of rows\n",
        "    for val in uniqueVals:\n",
        "        subset_size = len(df[df[feature] == val])  # Size of subset for the current value\n",
        "        weight = subset_size / overall  # Weight of the subset\n",
        "        props = df[df[feature] == val][target].value_counts(normalize=True)  # Get the proportion of target values\n",
        "        gini = 1 - np.sum(np.square(props))  # Calculate Gini for the current value\n",
        "        giniList.append(weight * gini)  # Append weighted Gini value to the list\n",
        "    return min(giniList)  # Return the minimum Gini value"
      ],
      "metadata": {
        "id": "VcFrXMS-rCs0"
      },
      "execution_count": 10,
      "outputs": []
    },
    {
      "cell_type": "code",
      "source": [
        "# Calculate the entropy for a quantitative feature\n",
        "def quantitative_entropy(df, target, feature):\n",
        "    entropyList = []  # List to store entropy values\n",
        "    splitPoints = []  # List to store split points\n",
        "    uniqueVals = np.sort(df[feature].unique())  # Sorted unique values for the feature\n",
        "    overall = len(df)  # Total number of rows\n",
        "    for val in uniqueVals:\n",
        "        entropy = 0  # Initialize entropy for each unique value\n",
        "        # Split the data into two subsets: <= val and > val\n",
        "        left = df[df[feature] <= val][[feature, target]]\n",
        "        right = df[df[feature] > val][[feature, target]]\n",
        "\n",
        "        # Calculate the entropy for the left subset\n",
        "        props_left = left[target].value_counts(normalize=True)\n",
        "        weight_left = len(left) / overall\n",
        "        for prop in props_left:\n",
        "            if prop > 0:\n",
        "                entropy -= weight_left * prop * math.log2(prop)\n",
        "\n",
        "        # Calculate the entropy for the right subset\n",
        "        props_right = right[target].value_counts(normalize=True)\n",
        "        weight_right = len(right) / overall\n",
        "        for prop in props_right:\n",
        "            if prop > 0:\n",
        "                entropy -= weight_right * prop * math.log2(prop)\n",
        "\n",
        "        entropyList.append(entropy)  # Append entropy value to the list\n",
        "        splitPoints.append(val)  # Append split point to the list\n",
        "\n",
        "    min_entropy = np.min(entropyList)  # Get the minimum entropy value\n",
        "    best_split = splitPoints[np.argmin(entropyList)]  # Find the corresponding split point\n",
        "    return min_entropy, best_split\n"
      ],
      "metadata": {
        "id": "YMj_4LAmrbDo"
      },
      "execution_count": 11,
      "outputs": []
    },
    {
      "cell_type": "code",
      "source": [
        "# Calculate the Gini index for a quantitative feature\n",
        "def quantitative_gini(df, target, feature):\n",
        "    giniList = []  # List to store Gini values\n",
        "    splitPoints = []  # List to store split points\n",
        "    uniqueVals = np.sort(df[feature].unique())  # Sorted unique values for the feature\n",
        "    overall = len(df)  # Total number of rows\n",
        "    for val in uniqueVals:\n",
        "        gini = 0  # Initialize Gini index for each unique value\n",
        "        # Split the data into two subsets: <= val and > val\n",
        "        left = df[df[feature] <= val][[feature, target]]\n",
        "        right = df[df[feature] > val][[feature, target]]\n",
        "\n",
        "        # Calculate the Gini for the left subset\n",
        "        props_left = left[target].value_counts(normalize=True)\n",
        "        weight_left = len(left) / overall\n",
        "        gini_left = 1 - np.sum(np.square(props_left))\n",
        "\n",
        "        # Calculate the Gini for the right subset\n",
        "        props_right = right[target].value_counts(normalize=True)\n",
        "        weight_right = len(right) / overall\n",
        "        gini_right = 1 - np.sum(np.square(props_right))\n",
        "\n",
        "        # Combine Gini values and append to the list\n",
        "        gini = weight_left * gini_left + weight_right * gini_right\n",
        "        giniList.append(gini)\n",
        "        splitPoints.append(val)\n",
        "\n",
        "    min_gini = np.min(giniList)  # Get the minimum Gini value\n",
        "    best_split = splitPoints[np.argmin(giniList)]  # Find the corresponding split point\n",
        "    return min_gini, best_split"
      ],
      "metadata": {
        "id": "4J0RZ5jTsGZG"
      },
      "execution_count": 12,
      "outputs": []
    },
    {
      "cell_type": "code",
      "source": [
        "# Helper function to check if a feature is categorical\n",
        "def isCategorical(df, feature):\n",
        "    return df[feature].nunique() < 8  # A feature is considered categorical if it has fewer than 8 unique values\n"
      ],
      "metadata": {
        "id": "ktDb7968sJQ_"
      },
      "execution_count": 13,
      "outputs": []
    },
    {
      "cell_type": "code",
      "source": [
        "# Main attribute selection method function\n",
        "def classifcation_attribute_selection_method(df, target, measure):\n",
        "    categoricalList = []  # Store results for categorical features\n",
        "    categoricalFeatureList = []  # Store categorical feature names\n",
        "    quantitativeList = []  # Store results for quantitative features\n",
        "    quantitativeFeatureList = []  # Store quantitative feature names\n",
        "    splitList = []  # Store best split points for quantitative features\n",
        "    features = df.columns.drop(target)  # Get all features except the target\n",
        "\n",
        "    for feature in features:\n",
        "        if isCategorical(df, feature):  # If feature is categorical\n",
        "            if measure == 'entropy':\n",
        "                result = categorical_entropy(df, target, feature)\n",
        "            elif measure == 'gini':\n",
        "                result = categorical_gini(df, target, feature)\n",
        "            categoricalList.append(result)\n",
        "            categoricalFeatureList.append(feature)\n",
        "        else:  # If feature is quantitative\n",
        "            if measure == 'entropy':\n",
        "                min_entropy, best_split = quantitative_entropy(df, target, feature)\n",
        "                quantitativeList.append(min_entropy)\n",
        "                splitList.append(best_split)\n",
        "            elif measure == 'gini':\n",
        "                min_gini, best_split = quantitative_gini(df, target, feature)\n",
        "                quantitativeList.append(min_gini)\n",
        "                splitList.append(best_split)\n",
        "            quantitativeFeatureList.append(feature)\n",
        "\n",
        "    # Determine the best feature and split point\n",
        "    if categoricalList and min(categoricalList) <= min(quantitativeList):\n",
        "        return categoricalFeatureList[np.argmin(categoricalList)]\n",
        "    else:\n",
        "        best_index = np.argmin(quantitativeList)\n",
        "        return quantitativeFeatureList[best_index], splitList[best_index]"
      ],
      "metadata": {
        "id": "8f_5-V-6sL8t"
      },
      "execution_count": 14,
      "outputs": []
    },
    {
      "cell_type": "code",
      "source": [],
      "metadata": {
        "id": "mxitDf_8sRYJ"
      },
      "execution_count": 14,
      "outputs": []
    },
    {
      "cell_type": "markdown",
      "source": [
        "# Mean Squared Error"
      ],
      "metadata": {
        "id": "l36Mu2a5se3R"
      }
    },
    {
      "cell_type": "code",
      "source": [
        "# Mean Squared Error for quantitative features for regression\n",
        "def regression_mse_quantitative(df, target, feature):\n",
        "    mseList = []\n",
        "    splitPoints = []\n",
        "    uniqueVals = np.sort(df[feature].unique())\n",
        "    overall = len(df)\n",
        "\n",
        "    for val in uniqueVals:\n",
        "        # Split into left and right subsets\n",
        "        left = df[df[feature] <= val][target]\n",
        "        right = df[df[feature] > val][target]\n",
        "\n",
        "        # Calculate MSE for left and right subsets\n",
        "        if len(left) > 0:\n",
        "            mse_left = np.mean((left - left.mean()) ** 2)\n",
        "        else:\n",
        "            mse_left = 0\n",
        "\n",
        "        if len(right) > 0:\n",
        "            mse_right = np.mean((right - right.mean()) ** 2)\n",
        "        else:\n",
        "            mse_right = 0\n",
        "\n",
        "        # Weighted average of the MSEs\n",
        "        weight_left = len(left) / overall\n",
        "        weight_right = len(right) / overall\n",
        "        mse = weight_left * mse_left + weight_right * mse_right\n",
        "\n",
        "        mseList.append(mse)\n",
        "        splitPoints.append(val)\n",
        "\n",
        "    #return the minimum mean squared errror value as well as the split at the matching index\n",
        "    min_mse = np.min(mseList)\n",
        "    best_split = splitPoints[np.argmin(mseList)]\n",
        "    return min_mse, best_split"
      ],
      "metadata": {
        "id": "jTiWZOYkwuq5"
      },
      "execution_count": 15,
      "outputs": []
    },
    {
      "cell_type": "code",
      "source": [
        "# Mean Squared Error for regression with categorical features\n",
        "def regression_mse_categorical(df, target, feature):\n",
        "    mseList = []\n",
        "    splitPoints = []\n",
        "    uniqueVals = df[feature].unique()\n",
        "    overall = len(df)\n",
        "\n",
        "    for val in uniqueVals:\n",
        "        # Split into left (matching category) and right (not matching category) subsets\n",
        "        left = df[df[feature] == val][target]\n",
        "        right = df[df[feature] != val][target]\n",
        "\n",
        "        # Calculate MSE for left and right subsets\n",
        "        if len(left) > 0:\n",
        "            mse_left = np.mean((left - left.mean()) ** 2)\n",
        "        else:\n",
        "            mse_left = 0\n",
        "\n",
        "        if len(right) > 0:\n",
        "            mse_right = np.mean((right - right.mean()) ** 2)\n",
        "        else:\n",
        "            mse_right = 0\n",
        "\n",
        "        # Weighted average of the MSEs\n",
        "        weight_left = len(left) / overall\n",
        "        weight_right = len(right) / overall\n",
        "        mse = weight_left * mse_left + weight_right * mse_right\n",
        "\n",
        "        mseList.append(mse)\n",
        "        splitPoints.append(val)\n",
        "\n",
        "    # Return the minimum MSE value and the best category split\n",
        "    min_mse = np.min(mseList)\n",
        "    best_split = splitPoints[np.argmin(mseList)]\n",
        "    return min_mse, best_split"
      ],
      "metadata": {
        "id": "8SPxCyZU6AJp"
      },
      "execution_count": 16,
      "outputs": []
    },
    {
      "cell_type": "code",
      "source": [
        "regression_mse_quantitative(mbadf, 'gmat', 'gpa')"
      ],
      "metadata": {
        "id": "dI9z7LHg6XPl",
        "outputId": "ac1ebd97-26a3-4c59-a975-57542c11a4e6",
        "colab": {
          "base_uri": "https://localhost:8080/"
        }
      },
      "execution_count": 17,
      "outputs": [
        {
          "output_type": "execute_result",
          "data": {
            "text/plain": [
              "(1882.2081312947516, 3.25)"
            ]
          },
          "metadata": {},
          "execution_count": 17
        }
      ]
    },
    {
      "cell_type": "code",
      "source": [
        "regression_mse_quantitative(mbadf, 'gmat', 'major')"
      ],
      "metadata": {
        "id": "sP9ClCA06kNh",
        "outputId": "aafb4f4e-a7ee-4f2a-d5e0-4ddc52025097",
        "colab": {
          "base_uri": "https://localhost:8080/"
        }
      },
      "execution_count": 18,
      "outputs": [
        {
          "output_type": "execute_result",
          "data": {
            "text/plain": [
              "(2429.3693132952044, 'Business')"
            ]
          },
          "metadata": {},
          "execution_count": 18
        }
      ]
    },
    {
      "cell_type": "code",
      "source": [
        "regression_mse_categorical(mbadf, 'gmat', 'major')"
      ],
      "metadata": {
        "colab": {
          "base_uri": "https://localhost:8080/"
        },
        "id": "toumMVk86xFa",
        "outputId": "23441ac0-3faa-483e-afb8-c327e6730d0b"
      },
      "execution_count": 19,
      "outputs": [
        {
          "output_type": "execute_result",
          "data": {
            "text/plain": [
              "(2429.2303680295686, 'Humanities')"
            ]
          },
          "metadata": {},
          "execution_count": 19
        }
      ]
    },
    {
      "cell_type": "markdown",
      "source": [
        "# Regression Selection Method"
      ],
      "metadata": {
        "id": "MKI93VCbNxgO"
      }
    },
    {
      "cell_type": "markdown",
      "source": [],
      "metadata": {
        "id": "i6qMi1xTN9VF"
      }
    },
    {
      "cell_type": "code",
      "source": [
        "def regression_selection_method(df, target):\n",
        "    categoricalList = []  # Store results for categorical features\n",
        "    categoricalFeatureList = []  # Store categorical feature names\n",
        "    quantitativeList = []  # Store results for quantitative features\n",
        "    quantitativeFeatureList = []  # Store quantitative feature names\n",
        "    splitList = []  # Store best split points for quantitative features\n",
        "    features = df.columns.drop(target)  # Get all features except the target\n",
        "\n",
        "    for feature in features:\n",
        "        if isCategorical(df, feature):  # If feature is categorical\n",
        "            min_mse, _ = regression_mse_categorical(df, target, feature)\n",
        "            categoricalList.append(min_mse)\n",
        "            categoricalFeatureList.append(feature)\n",
        "\n",
        "        elif not isCategorical(df, feature):  # If feature is quantitative\n",
        "            min_mse, best_split = regression_mse_quantitative(df, target, feature)\n",
        "            quantitativeList.append(min_mse)\n",
        "            quantitativeFeatureList.append(feature)\n",
        "            splitList.append(best_split)\n",
        "\n",
        "\n",
        "     # Determine the best feature and split point\n",
        "    if categoricalList and min(categoricalList) <= min(quantitativeList):\n",
        "        return categoricalFeatureList[np.argmin(categoricalList)]\n",
        "    else:\n",
        "        best_index = np.argmin(quantitativeList)\n",
        "        return quantitativeFeatureList[best_index], splitList[best_index]"
      ],
      "metadata": {
        "id": "o6QfZfP-N0xE"
      },
      "execution_count": 20,
      "outputs": []
    },
    {
      "cell_type": "code",
      "source": [
        "regression_selection_method(MBAdf, 'gmat')"
      ],
      "metadata": {
        "colab": {
          "base_uri": "https://localhost:8080/"
        },
        "id": "ycD0o8VuScjY",
        "outputId": "b3ff8193-3dd0-44cf-f279-30caf8ef9332"
      },
      "execution_count": 21,
      "outputs": [
        {
          "output_type": "execute_result",
          "data": {
            "text/plain": [
              "('gpa', 3.25)"
            ]
          },
          "metadata": {},
          "execution_count": 21
        }
      ]
    },
    {
      "cell_type": "markdown",
      "source": [
        "# Attribute Selection Method"
      ],
      "metadata": {
        "id": "3e5XTOCWNhC2"
      }
    },
    {
      "cell_type": "code",
      "source": [
        "def attribute_selection_method(df, target, task, measure=None):\n",
        "    if task == 'classification':\n",
        "        return classifcation_attribute_selection_method(df, target, measure)\n",
        "    elif task == 'regression':\n",
        "        return regression_selection_method(df, target)\n",
        "    else:\n",
        "        raise ValueError(\"Invalid task. Must be 'classification' or 'regression'.\")"
      ],
      "metadata": {
        "id": "C5m9z5D-Nnib"
      },
      "execution_count": 22,
      "outputs": []
    },
    {
      "cell_type": "markdown",
      "source": [
        "# SciKit Learn Stuff"
      ],
      "metadata": {
        "id": "DPQH-goz8KzO"
      }
    },
    {
      "cell_type": "code",
      "source": [
        "from sklearn.model_selection import train_test_split"
      ],
      "metadata": {
        "id": "eAFkXGXg6mqx"
      },
      "execution_count": 23,
      "outputs": []
    },
    {
      "cell_type": "code",
      "source": [
        "train_set, test_set = train_test_split(MBAdf, test_size=0.2)"
      ],
      "metadata": {
        "id": "bs_w-4Kt680m"
      },
      "execution_count": 24,
      "outputs": []
    },
    {
      "cell_type": "code",
      "source": [
        "X_train = train_set[colsInUseNotTarget]\n",
        "y_train = train_set['gmat']\n",
        "X_test = test_set[colsInUseNotTarget]\n",
        "y_test = test_set['gmat']"
      ],
      "metadata": {
        "id": "9SrD201H7DyR"
      },
      "execution_count": 25,
      "outputs": []
    },
    {
      "cell_type": "code",
      "source": [
        "from sklearn.tree import DecisionTreeRegressor\n",
        "from sklearn.preprocessing import StandardScaler, OneHotEncoder\n",
        "from sklearn.pipeline import Pipeline\n",
        "from sklearn.compose import ColumnTransformer\n",
        "from sklearn.model_selection import cross_val_score\n",
        "from sklearn.tree import plot_tree"
      ],
      "metadata": {
        "id": "CCOLDzqv7SOK"
      },
      "execution_count": 26,
      "outputs": []
    },
    {
      "cell_type": "code",
      "source": [
        "X_train.info()"
      ],
      "metadata": {
        "id": "XWwaEvtX79pm",
        "outputId": "34645d0f-053b-46de-ef1d-9ee4d691a7fd",
        "colab": {
          "base_uri": "https://localhost:8080/"
        }
      },
      "execution_count": 27,
      "outputs": [
        {
          "output_type": "stream",
          "name": "stdout",
          "text": [
            "<class 'pandas.core.frame.DataFrame'>\n",
            "Index: 4955 entries, 1100 to 1093\n",
            "Data columns (total 8 columns):\n",
            " #   Column         Non-Null Count  Dtype  \n",
            "---  ------         --------------  -----  \n",
            " 0   gender         4955 non-null   object \n",
            " 1   international  4955 non-null   bool   \n",
            " 2   gpa            4955 non-null   float64\n",
            " 3   major          4955 non-null   object \n",
            " 4   race           3509 non-null   object \n",
            " 5   gmat           4955 non-null   float64\n",
            " 6   work_exp       4955 non-null   float64\n",
            " 7   work_industry  4955 non-null   object \n",
            "dtypes: bool(1), float64(3), object(4)\n",
            "memory usage: 314.5+ KB\n"
          ]
        }
      ]
    },
    {
      "cell_type": "code",
      "source": [
        "num_attributes = X_train.select_dtypes(include = ['float64']).columns\n",
        "cat_attributes = X_train.select_dtypes(include = ['object']).columns"
      ],
      "metadata": {
        "id": "6xYBZSbc8Adj"
      },
      "execution_count": 28,
      "outputs": []
    },
    {
      "cell_type": "code",
      "source": [
        "trf = [ ('num', StandardScaler(), num_attributes),\n",
        "       ('cat', OneHotEncoder( handle_unknown='ignore'), cat_attributes) ]\n",
        "col_transform = ColumnTransformer( transformers = trf )"
      ],
      "metadata": {
        "id": "CA83iAY-8JPI"
      },
      "execution_count": 29,
      "outputs": []
    },
    {
      "cell_type": "code",
      "source": [
        "reg_pipeline = Pipeline( steps = [('pre', col_transform),\n",
        " ('clf', DecisionTreeRegressor(max_depth=3))])"
      ],
      "metadata": {
        "id": "3bsCR_Uj8TPu"
      },
      "execution_count": 30,
      "outputs": []
    },
    {
      "cell_type": "code",
      "source": [
        "from sklearn.tree import DecisionTreeClassifier"
      ],
      "metadata": {
        "id": "MBgRa364QHea"
      },
      "execution_count": 31,
      "outputs": []
    },
    {
      "cell_type": "code",
      "source": [
        "class_pipeline = Pipeline( steps = [('pre', col_transform),\n",
        " ('clf', DecisionTreeClassifier(max_depth=3))])"
      ],
      "metadata": {
        "id": "0thYYu2vP__i"
      },
      "execution_count": 32,
      "outputs": []
    },
    {
      "cell_type": "code",
      "source": [
        "cv_scores = cross_val_score( reg_pipeline, X_train, y_train, cv=5, scoring='neg_mean_squared_error')\n",
        "cv_scores"
      ],
      "metadata": {
        "id": "8tPhuDxL8VzB",
        "outputId": "55d79e15-5b2a-4791-a1d1-7c2554f639cf",
        "colab": {
          "base_uri": "https://localhost:8080/"
        }
      },
      "execution_count": 33,
      "outputs": [
        {
          "output_type": "execute_result",
          "data": {
            "text/plain": [
              "array([-56.2742745 , -52.41520191, -48.62217601, -52.35657602,\n",
              "       -53.41514638])"
            ]
          },
          "metadata": {},
          "execution_count": 33
        }
      ]
    },
    {
      "cell_type": "code",
      "source": [],
      "metadata": {
        "id": "UADT8D8aQS7D"
      },
      "execution_count": 33,
      "outputs": []
    },
    {
      "cell_type": "code",
      "source": [
        "reg_pipeline.fit(X_train, y_train)\n",
        "reg_predictions = reg_pipeline.predict(X_test)"
      ],
      "metadata": {
        "id": "LQjdv3Gn9zuu"
      },
      "execution_count": 35,
      "outputs": []
    },
    {
      "cell_type": "code",
      "source": [
        "class_pipeline.fit(X_train, y_train)\n",
        "class_predictions = class_pipeline.predict(X_test)"
      ],
      "metadata": {
        "id": "RMmJobZSQbbx"
      },
      "execution_count": 36,
      "outputs": []
    },
    {
      "cell_type": "code",
      "source": [],
      "metadata": {
        "id": "9DbSZ6q2lrSv"
      },
      "execution_count": null,
      "outputs": []
    },
    {
      "cell_type": "code",
      "source": [
        "\n",
        "plot_tree(reg_pipeline.named_steps['clf'], filled=True, feature_names=X_train.columns)"
      ],
      "metadata": {
        "id": "uLrEPLnIA-Rs",
        "colab": {
          "base_uri": "https://localhost:8080/",
          "height": 710
        },
        "outputId": "fb578d62-0ffd-4b35-8c8e-94934779a2af"
      },
      "execution_count": 39,
      "outputs": [
        {
          "output_type": "execute_result",
          "data": {
            "text/plain": [
              "[Text(0.5, 0.875, 'international <= 0.085\\nsquared_error = 2434.853\\nsamples = 4955\\nvalue = 650.791'),\n",
              " Text(0.25, 0.625, 'international <= -0.928\\nsquared_error = 688.287\\nsamples = 2672\\nvalue = 613.417'),\n",
              " Text(0.375, 0.75, 'True  '),\n",
              " Text(0.125, 0.375, 'international <= -1.333\\nsquared_error = 145.796\\nsamples = 980\\nvalue = 583.714'),\n",
              " Text(0.0625, 0.125, 'squared_error = 22.704\\nsamples = 528\\nvalue = 573.485'),\n",
              " Text(0.1875, 0.125, 'squared_error = 24.559\\nsamples = 452\\nvalue = 595.664'),\n",
              " Text(0.375, 0.375, 'international <= -0.32\\nsquared_error = 195.537\\nsamples = 1692\\nvalue = 630.621'),\n",
              " Text(0.3125, 0.125, 'squared_error = 63.774\\nsamples = 982\\nvalue = 620.275'),\n",
              " Text(0.4375, 0.125, 'squared_error = 24.995\\nsamples = 710\\nvalue = 644.93'),\n",
              " Text(0.75, 0.625, 'international <= 1.099\\nsquared_error = 930.783\\nsamples = 2283\\nvalue = 694.534'),\n",
              " Text(0.625, 0.75, '  False'),\n",
              " Text(0.625, 0.375, 'international <= 0.491\\nsquared_error = 187.441\\nsamples = 1559\\nvalue = 677.081'),\n",
              " Text(0.5625, 0.125, 'squared_error = 24.975\\nsamples = 758\\nvalue = 664.842'),\n",
              " Text(0.6875, 0.125, 'squared_error = 65.257\\nsamples = 801\\nvalue = 688.664'),\n",
              " Text(0.875, 0.375, 'international <= 1.707\\nsquared_error = 463.352\\nsamples = 724\\nvalue = 732.113'),\n",
              " Text(0.8125, 0.125, 'squared_error = 62.341\\nsamples = 458\\nvalue = 717.991'),\n",
              " Text(0.9375, 0.125, 'squared_error = 219.2\\nsamples = 266\\nvalue = 756.429')]"
            ]
          },
          "metadata": {},
          "execution_count": 39
        },
        {
          "output_type": "display_data",
          "data": {
            "text/plain": [
              "<Figure size 640x480 with 1 Axes>"
            ],
            "image/png": "[encoded data removed]"
          },
          "metadata": {}
        }
      ]
    },
    {
      "cell_type": "code",
      "source": [
        "plot_tree(class_pipeline.named_steps['clf'], filled=True, feature_names=X_train.columns)"
      ],
      "metadata": {
        "colab": {
          "base_uri": "https://localhost:8080/",
          "height": 799
        },
        "id": "ppxlaWLDMfKj",
        "outputId": "627cb7a8-b0b9-432b-ac9a-a5d32f46fed2"
      },
      "execution_count": 40,
      "outputs": [
        {
          "output_type": "execute_result",
          "data": {
            "text/plain": [
              "[Text(0.375, 0.875, 'international <= -1.536\\ngini = 0.942\\nsamples = 4955\\nvalue = [344.0, 184.0, 196.0, 256.0, 300.0, 355.0, 327.0, 360.0\\n350.0, 391.0, 367.0, 322.0, 264.0, 215.0, 198.0, 154.0\\n106.0, 81.0, 61.0, 48.0, 24.0, 52.0]'),\n",
              " Text(0.25, 0.625, 'gini = 0.0\\nsamples = 344\\nvalue = [344, 0, 0, 0, 0, 0, 0, 0, 0, 0, 0, 0, 0, 0\\n0, 0, 0, 0, 0, 0, 0, 0]'),\n",
              " Text(0.3125, 0.75, 'True  '),\n",
              " Text(0.5, 0.625, 'international <= -0.117\\ngini = 0.938\\nsamples = 4611\\nvalue = [0.0, 184.0, 196.0, 256.0, 300.0, 355.0, 327.0, 360.0\\n350.0, 391.0, 367.0, 322.0, 264.0, 215.0, 198.0, 154.0\\n106.0, 81.0, 61.0, 48.0, 24.0, 52.0]'),\n",
              " Text(0.4375, 0.75, '  False'),\n",
              " Text(0.25, 0.375, 'international <= -0.32\\ngini = 0.849\\nsamples = 1978\\nvalue = [0, 184, 196, 256, 300, 355, 327, 360, 0, 0, 0, 0\\n0, 0, 0, 0, 0, 0, 0, 0, 0, 0]'),\n",
              " Text(0.125, 0.125, 'gini = 0.824\\nsamples = 1618\\nvalue = [0.0, 184.0, 196.0, 256.0, 300.0, 355.0, 327.0, 0.0\\n0.0, 0.0, 0.0, 0.0, 0.0, 0.0, 0.0, 0.0, 0.0, 0.0\\n0.0, 0.0, 0.0, 0.0]'),\n",
              " Text(0.375, 0.125, 'gini = 0.0\\nsamples = 360\\nvalue = [0, 0, 0, 0, 0, 0, 0, 360, 0, 0, 0, 0, 0, 0\\n0, 0, 0, 0, 0, 0, 0, 0]'),\n",
              " Text(0.75, 0.375, 'international <= 0.085\\ngini = 0.896\\nsamples = 2633\\nvalue = [0.0, 0.0, 0.0, 0.0, 0.0, 0.0, 0.0, 0.0, 350.0, 391.0\\n367.0, 322.0, 264.0, 215.0, 198.0, 154.0, 106.0, 81.0\\n61.0, 48.0, 24.0, 52.0]'),\n",
              " Text(0.625, 0.125, 'gini = 0.0\\nsamples = 350\\nvalue = [0, 0, 0, 0, 0, 0, 0, 0, 350, 0, 0, 0, 0, 0\\n0, 0, 0, 0, 0, 0, 0, 0]'),\n",
              " Text(0.875, 0.125, 'gini = 0.885\\nsamples = 2283\\nvalue = [0, 0, 0, 0, 0, 0, 0, 0, 0, 391, 367, 322, 264\\n215, 198, 154, 106, 81, 61, 48, 24, 52]')]"
            ]
          },
          "metadata": {},
          "execution_count": 40
        },
        {
          "output_type": "display_data",
          "data": {
            "text/plain": [
              "<Figure size 640x480 with 1 Axes>"
            ],
            "image/png": "[encoded data removed]"
          },
          "metadata": {}
        }
      ]
    },
    {
      "cell_type": "code",
      "source": [],
      "metadata": {
        "id": "JkdGMPbYQnQV"
      },
      "execution_count": 38,
      "outputs": []
    }
  ]
}