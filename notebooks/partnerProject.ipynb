{
  "nbformat": 4,
  "nbformat_minor": 0,
  "metadata": {
    "colab": {
      "provenance": [],
      "toc_visible": true,
      "include_colab_link": true
    },
    "kernelspec": {
      "name": "python3",
      "display_name": "Python 3"
    },
    "language_info": {
      "name": "python"
    }
  },
  "cells": [
    {
      "cell_type": "markdown",
      "metadata": {
        "id": "view-in-github",
        "colab_type": "text"
      },
      "source": [
        "<a href=\"https://colab.research.google.com/github/michaeledge27/CSCI290/blob/main/notebooks/partnerProject.ipynb\" target=\"_parent\"><img src=\"https://colab.research.google.com/assets/colab-badge.svg\" alt=\"Open In Colab\"/></a>"
      ]
    },
    {
      "cell_type": "code",
      "source": [
        "import pandas as pd"
      ],
      "metadata": {
        "id": "amSrA3xR5i8s"
      },
      "execution_count": 1,
      "outputs": []
    },
    {
      "cell_type": "code",
      "execution_count": 2,
      "metadata": {
        "id": "GlTPR22lsVXO"
      },
      "outputs": [],
      "source": [
        "url = \"https://github.com/michaeledge27/CSCI290/raw/refs/heads/main/data/MBA.csv\"\n",
        "MBAdf = pd.read_csv(url)"
      ]
    },
    {
      "cell_type": "code",
      "source": [
        "colsInUse = ['gpa', 'major', 'gmat']\n",
        "mbadf = MBAdf[colsInUse]\n",
        "mbadf.head()"
      ],
      "metadata": {
        "id": "jwVdQ3T85gpz",
        "outputId": "923fb043-244a-4226-d173-042e15ce86e1",
        "colab": {
          "base_uri": "https://localhost:8080/",
          "height": 206
        }
      },
      "execution_count": 3,
      "outputs": [
        {
          "output_type": "execute_result",
          "data": {
            "text/plain": [
              "    gpa       major   gmat\n",
              "0  3.30    Business  620.0\n",
              "1  3.28  Humanities  680.0\n",
              "2  3.30    Business  710.0\n",
              "3  3.47        STEM  690.0\n",
              "4  3.35        STEM  590.0"
            ],
            "text/html": [
              "\n",
              "  <div id=\"df-b4db1ea2-37c2-4622-ac11-38cdc0361628\" class=\"colab-df-container\">\n",
              "    <div>\n",
              "<style scoped>\n",
              "    .dataframe tbody tr th:only-of-type {\n",
              "        vertical-align: middle;\n",
              "    }\n",
              "\n",
              "    .dataframe tbody tr th {\n",
              "        vertical-align: top;\n",
              "    }\n",
              "\n",
              "    .dataframe thead th {\n",
              "        text-align: right;\n",
              "    }\n",
              "</style>\n",
              "<table border=\"1\" class=\"dataframe\">\n",
              "  <thead>\n",
              "    <tr style=\"text-align: right;\">\n",
              "      <th></th>\n",
              "      <th>gpa</th>\n",
              "      <th>major</th>\n",
              "      <th>gmat</th>\n",
              "    </tr>\n",
              "  </thead>\n",
              "  <tbody>\n",
              "    <tr>\n",
              "      <th>0</th>\n",
              "      <td>3.30</td>\n",
              "      <td>Business</td>\n",
              "      <td>620.0</td>\n",
              "    </tr>\n",
              "    <tr>\n",
              "      <th>1</th>\n",
              "      <td>3.28</td>\n",
              "      <td>Humanities</td>\n",
              "      <td>680.0</td>\n",
              "    </tr>\n",
              "    <tr>\n",
              "      <th>2</th>\n",
              "      <td>3.30</td>\n",
              "      <td>Business</td>\n",
              "      <td>710.0</td>\n",
              "    </tr>\n",
              "    <tr>\n",
              "      <th>3</th>\n",
              "      <td>3.47</td>\n",
              "      <td>STEM</td>\n",
              "      <td>690.0</td>\n",
              "    </tr>\n",
              "    <tr>\n",
              "      <th>4</th>\n",
              "      <td>3.35</td>\n",
              "      <td>STEM</td>\n",
              "      <td>590.0</td>\n",
              "    </tr>\n",
              "  </tbody>\n",
              "</table>\n",
              "</div>\n",
              "    <div class=\"colab-df-buttons\">\n",
              "\n",
              "  <div class=\"colab-df-container\">\n",
              "    <button class=\"colab-df-convert\" onclick=\"convertToInteractive('df-b4db1ea2-37c2-4622-ac11-38cdc0361628')\"\n",
              "            title=\"Convert this dataframe to an interactive table.\"\n",
              "            style=\"display:none;\">\n",
              "\n",
              "  <svg xmlns=\"http://www.w3.org/2000/svg\" height=\"24px\" viewBox=\"0 -960 960 960\">\n",
              "    <path d=\"M120-120v-720h720v720H120Zm60-500h600v-160H180v160Zm220 220h160v-160H400v160Zm0 220h160v-160H400v160ZM180-400h160v-160H180v160Zm440 0h160v-160H620v160ZM180-180h160v-160H180v160Zm440 0h160v-160H620v160Z\"/>\n",
              "  </svg>\n",
              "    </button>\n",
              "\n",
              "  <style>\n",
              "    .colab-df-container {\n",
              "      display:flex;\n",
              "      gap: 12px;\n",
              "    }\n",
              "\n",
              "    .colab-df-convert {\n",
              "      background-color: #E8F0FE;\n",
              "      border: none;\n",
              "      border-radius: 50%;\n",
              "      cursor: pointer;\n",
              "      display: none;\n",
              "      fill: #1967D2;\n",
              "      height: 32px;\n",
              "      padding: 0 0 0 0;\n",
              "      width: 32px;\n",
              "    }\n",
              "\n",
              "    .colab-df-convert:hover {\n",
              "      background-color: #E2EBFA;\n",
              "      box-shadow: 0px 1px 2px rgba(60, 64, 67, 0.3), 0px 1px 3px 1px rgba(60, 64, 67, 0.15);\n",
              "      fill: #174EA6;\n",
              "    }\n",
              "\n",
              "    .colab-df-buttons div {\n",
              "      margin-bottom: 4px;\n",
              "    }\n",
              "\n",
              "    [theme=dark] .colab-df-convert {\n",
              "      background-color: #3B4455;\n",
              "      fill: #D2E3FC;\n",
              "    }\n",
              "\n",
              "    [theme=dark] .colab-df-convert:hover {\n",
              "      background-color: #434B5C;\n",
              "      box-shadow: 0px 1px 3px 1px rgba(0, 0, 0, 0.15);\n",
              "      filter: drop-shadow(0px 1px 2px rgba(0, 0, 0, 0.3));\n",
              "      fill: #FFFFFF;\n",
              "    }\n",
              "  </style>\n",
              "\n",
              "    <script>\n",
              "      const buttonEl =\n",
              "        document.querySelector('#df-b4db1ea2-37c2-4622-ac11-38cdc0361628 button.colab-df-convert');\n",
              "      buttonEl.style.display =\n",
              "        google.colab.kernel.accessAllowed ? 'block' : 'none';\n",
              "\n",
              "      async function convertToInteractive(key) {\n",
              "        const element = document.querySelector('#df-b4db1ea2-37c2-4622-ac11-38cdc0361628');\n",
              "        const dataTable =\n",
              "          await google.colab.kernel.invokeFunction('convertToInteractive',\n",
              "                                                    [key], {});\n",
              "        if (!dataTable) return;\n",
              "\n",
              "        const docLinkHtml = 'Like what you see? Visit the ' +\n",
              "          '<a target=\"_blank\" href=https://colab.research.google.com/notebooks/data_table.ipynb>data table notebook</a>'\n",
              "          + ' to learn more about interactive tables.';\n",
              "        element.innerHTML = '';\n",
              "        dataTable['output_type'] = 'display_data';\n",
              "        await google.colab.output.renderOutput(dataTable, element);\n",
              "        const docLink = document.createElement('div');\n",
              "        docLink.innerHTML = docLinkHtml;\n",
              "        element.appendChild(docLink);\n",
              "      }\n",
              "    </script>\n",
              "  </div>\n",
              "\n",
              "\n",
              "<div id=\"df-e80424e1-54c0-4e06-bc95-7c42d23ec2ac\">\n",
              "  <button class=\"colab-df-quickchart\" onclick=\"quickchart('df-e80424e1-54c0-4e06-bc95-7c42d23ec2ac')\"\n",
              "            title=\"Suggest charts\"\n",
              "            style=\"display:none;\">\n",
              "\n",
              "<svg xmlns=\"http://www.w3.org/2000/svg\" height=\"24px\"viewBox=\"0 0 24 24\"\n",
              "     width=\"24px\">\n",
              "    <g>\n",
              "        <path d=\"M19 3H5c-1.1 0-2 .9-2 2v14c0 1.1.9 2 2 2h14c1.1 0 2-.9 2-2V5c0-1.1-.9-2-2-2zM9 17H7v-7h2v7zm4 0h-2V7h2v10zm4 0h-2v-4h2v4z\"/>\n",
              "    </g>\n",
              "</svg>\n",
              "  </button>\n",
              "\n",
              "<style>\n",
              "  .colab-df-quickchart {\n",
              "      --bg-color: #E8F0FE;\n",
              "      --fill-color: #1967D2;\n",
              "      --hover-bg-color: #E2EBFA;\n",
              "      --hover-fill-color: #174EA6;\n",
              "      --disabled-fill-color: #AAA;\n",
              "      --disabled-bg-color: #DDD;\n",
              "  }\n",
              "\n",
              "  [theme=dark] .colab-df-quickchart {\n",
              "      --bg-color: #3B4455;\n",
              "      --fill-color: #D2E3FC;\n",
              "      --hover-bg-color: #434B5C;\n",
              "      --hover-fill-color: #FFFFFF;\n",
              "      --disabled-bg-color: #3B4455;\n",
              "      --disabled-fill-color: #666;\n",
              "  }\n",
              "\n",
              "  .colab-df-quickchart {\n",
              "    background-color: var(--bg-color);\n",
              "    border: none;\n",
              "    border-radius: 50%;\n",
              "    cursor: pointer;\n",
              "    display: none;\n",
              "    fill: var(--fill-color);\n",
              "    height: 32px;\n",
              "    padding: 0;\n",
              "    width: 32px;\n",
              "  }\n",
              "\n",
              "  .colab-df-quickchart:hover {\n",
              "    background-color: var(--hover-bg-color);\n",
              "    box-shadow: 0 1px 2px rgba(60, 64, 67, 0.3), 0 1px 3px 1px rgba(60, 64, 67, 0.15);\n",
              "    fill: var(--button-hover-fill-color);\n",
              "  }\n",
              "\n",
              "  .colab-df-quickchart-complete:disabled,\n",
              "  .colab-df-quickchart-complete:disabled:hover {\n",
              "    background-color: var(--disabled-bg-color);\n",
              "    fill: var(--disabled-fill-color);\n",
              "    box-shadow: none;\n",
              "  }\n",
              "\n",
              "  .colab-df-spinner {\n",
              "    border: 2px solid var(--fill-color);\n",
              "    border-color: transparent;\n",
              "    border-bottom-color: var(--fill-color);\n",
              "    animation:\n",
              "      spin 1s steps(1) infinite;\n",
              "  }\n",
              "\n",
              "  @keyframes spin {\n",
              "    0% {\n",
              "      border-color: transparent;\n",
              "      border-bottom-color: var(--fill-color);\n",
              "      border-left-color: var(--fill-color);\n",
              "    }\n",
              "    20% {\n",
              "      border-color: transparent;\n",
              "      border-left-color: var(--fill-color);\n",
              "      border-top-color: var(--fill-color);\n",
              "    }\n",
              "    30% {\n",
              "      border-color: transparent;\n",
              "      border-left-color: var(--fill-color);\n",
              "      border-top-color: var(--fill-color);\n",
              "      border-right-color: var(--fill-color);\n",
              "    }\n",
              "    40% {\n",
              "      border-color: transparent;\n",
              "      border-right-color: var(--fill-color);\n",
              "      border-top-color: var(--fill-color);\n",
              "    }\n",
              "    60% {\n",
              "      border-color: transparent;\n",
              "      border-right-color: var(--fill-color);\n",
              "    }\n",
              "    80% {\n",
              "      border-color: transparent;\n",
              "      border-right-color: var(--fill-color);\n",
              "      border-bottom-color: var(--fill-color);\n",
              "    }\n",
              "    90% {\n",
              "      border-color: transparent;\n",
              "      border-bottom-color: var(--fill-color);\n",
              "    }\n",
              "  }\n",
              "</style>\n",
              "\n",
              "  <script>\n",
              "    async function quickchart(key) {\n",
              "      const quickchartButtonEl =\n",
              "        document.querySelector('#' + key + ' button');\n",
              "      quickchartButtonEl.disabled = true;  // To prevent multiple clicks.\n",
              "      quickchartButtonEl.classList.add('colab-df-spinner');\n",
              "      try {\n",
              "        const charts = await google.colab.kernel.invokeFunction(\n",
              "            'suggestCharts', [key], {});\n",
              "      } catch (error) {\n",
              "        console.error('Error during call to suggestCharts:', error);\n",
              "      }\n",
              "      quickchartButtonEl.classList.remove('colab-df-spinner');\n",
              "      quickchartButtonEl.classList.add('colab-df-quickchart-complete');\n",
              "    }\n",
              "    (() => {\n",
              "      let quickchartButtonEl =\n",
              "        document.querySelector('#df-e80424e1-54c0-4e06-bc95-7c42d23ec2ac button');\n",
              "      quickchartButtonEl.style.display =\n",
              "        google.colab.kernel.accessAllowed ? 'block' : 'none';\n",
              "    })();\n",
              "  </script>\n",
              "</div>\n",
              "\n",
              "    </div>\n",
              "  </div>\n"
            ],
            "application/vnd.google.colaboratory.intrinsic+json": {
              "type": "dataframe",
              "variable_name": "mbadf",
              "summary": "{\n  \"name\": \"mbadf\",\n  \"rows\": 6194,\n  \"fields\": [\n    {\n      \"column\": \"gpa\",\n      \"properties\": {\n        \"dtype\": \"number\",\n        \"std\": 0.15154111487341657,\n        \"min\": 2.65,\n        \"max\": 3.77,\n        \"num_unique_values\": 101,\n        \"samples\": [\n          2.81,\n          2.97,\n          3.61\n        ],\n        \"semantic_type\": \"\",\n        \"description\": \"\"\n      }\n    },\n    {\n      \"column\": \"major\",\n      \"properties\": {\n        \"dtype\": \"category\",\n        \"num_unique_values\": 3,\n        \"samples\": [\n          \"Business\",\n          \"Humanities\",\n          \"STEM\"\n        ],\n        \"semantic_type\": \"\",\n        \"description\": \"\"\n      }\n    },\n    {\n      \"column\": \"gmat\",\n      \"properties\": {\n        \"dtype\": \"number\",\n        \"std\": 49.294883485510994,\n        \"min\": 570.0,\n        \"max\": 780.0,\n        \"num_unique_values\": 22,\n        \"samples\": [\n          620.0,\n          730.0,\n          640.0\n        ],\n        \"semantic_type\": \"\",\n        \"description\": \"\"\n      }\n    }\n  ]\n}"
            }
          },
          "metadata": {},
          "execution_count": 3
        }
      ]
    },
    {
      "cell_type": "code",
      "source": [
        "mbadf.info()"
      ],
      "metadata": {
        "id": "vJj2Ipeu9FOl",
        "outputId": "40603b11-837f-4bc5-dcfd-edccab488108",
        "colab": {
          "base_uri": "https://localhost:8080/"
        }
      },
      "execution_count": 4,
      "outputs": [
        {
          "output_type": "stream",
          "name": "stdout",
          "text": [
            "<class 'pandas.core.frame.DataFrame'>\n",
            "RangeIndex: 6194 entries, 0 to 6193\n",
            "Data columns (total 3 columns):\n",
            " #   Column  Non-Null Count  Dtype  \n",
            "---  ------  --------------  -----  \n",
            " 0   gpa     6194 non-null   float64\n",
            " 1   major   6194 non-null   object \n",
            " 2   gmat    6194 non-null   float64\n",
            "dtypes: float64(2), object(1)\n",
            "memory usage: 145.3+ KB\n"
          ]
        }
      ]
    },
    {
      "cell_type": "code",
      "source": [
        "colsInUseNotTarget = ['gpa', 'major']"
      ],
      "metadata": {
        "id": "J5HwBLco6Kfr"
      },
      "execution_count": 5,
      "outputs": []
    },
    {
      "cell_type": "code",
      "source": [],
      "metadata": {
        "id": "Pb-dIkhR6Q6m"
      },
      "execution_count": 5,
      "outputs": []
    },
    {
      "cell_type": "markdown",
      "source": [
        "# Attribute Selection Method"
      ],
      "metadata": {
        "id": "CNvW_jBosXtY"
      }
    },
    {
      "cell_type": "code",
      "source": [
        "import numpy as np\n",
        "import math"
      ],
      "metadata": {
        "id": "bfj_nvUUsZ24"
      },
      "execution_count": 6,
      "outputs": []
    },
    {
      "cell_type": "code",
      "source": [
        "# Calculate the entropy for a categorical feature\n",
        "def categorical_entropy(df, target, feature):\n",
        "    entropyList = []  # List to store entropy values\n",
        "    uniqueVals = df[feature].unique()  # Get unique values for the feature\n",
        "    overall = len(df)  # Total number of rows\n",
        "    for val in uniqueVals:\n",
        "        entropy = 0  # Initialize entropy for each unique value\n",
        "        subset_size = len(df[df[feature] == val])  # Size of subset for the current value\n",
        "        weight = subset_size / overall  # Weight of the subset\n",
        "        props = df[df[feature] == val][target].value_counts(normalize=True)  # Get the proportion of target values\n",
        "        for p in props:\n",
        "          entropy -= weight * (p * math.log2(p))  # Calculate entropy for the current value\n",
        "          entropyList.append(entropy)  # Append entropy value to the list\n",
        "    return min(entropyList)  # Return the minimum entropy value"
      ],
      "metadata": {
        "id": "QQBI9p6rq8j9"
      },
      "execution_count": 7,
      "outputs": []
    },
    {
      "cell_type": "code",
      "source": [
        "# Calculate the Gini index for a categorical feature\n",
        "def categorical_gini(df, target, feature):\n",
        "    giniList = []  # List to store Gini values\n",
        "    uniqueVals = df[feature].unique()  # Get unique values for the feature\n",
        "    overall = len(df)  # Total number of rows\n",
        "    for val in uniqueVals:\n",
        "        subset_size = len(df[df[feature] == val])  # Size of subset for the current value\n",
        "        weight = subset_size / overall  # Weight of the subset\n",
        "        props = df[df[feature] == val][target].value_counts(normalize=True)  # Get the proportion of target values\n",
        "        gini = 1 - np.sum(np.square(props))  # Calculate Gini for the current value\n",
        "        giniList.append(weight * gini)  # Append weighted Gini value to the list\n",
        "    return min(giniList)  # Return the minimum Gini value"
      ],
      "metadata": {
        "id": "VcFrXMS-rCs0"
      },
      "execution_count": 8,
      "outputs": []
    },
    {
      "cell_type": "code",
      "source": [
        "# Calculate the entropy for a quantitative feature\n",
        "def quantitative_entropy(df, target, feature):\n",
        "    entropyList = []  # List to store entropy values\n",
        "    splitPoints = []  # List to store split points\n",
        "    uniqueVals = np.sort(df[feature].unique())  # Sorted unique values for the feature\n",
        "    overall = len(df)  # Total number of rows\n",
        "    for val in uniqueVals:\n",
        "        entropy = 0  # Initialize entropy for each unique value\n",
        "        # Split the data into two subsets: <= val and > val\n",
        "        left = df[df[feature] <= val][[feature, target]]\n",
        "        right = df[df[feature] > val][[feature, target]]\n",
        "\n",
        "        # Calculate the entropy for the left subset\n",
        "        props_left = left[target].value_counts(normalize=True)\n",
        "        weight_left = len(left) / overall\n",
        "        for prop in props_left:\n",
        "            if prop > 0:\n",
        "                entropy -= weight_left * prop * math.log2(prop)\n",
        "\n",
        "        # Calculate the entropy for the right subset\n",
        "        props_right = right[target].value_counts(normalize=True)\n",
        "        weight_right = len(right) / overall\n",
        "        for prop in props_right:\n",
        "            if prop > 0:\n",
        "                entropy -= weight_right * prop * math.log2(prop)\n",
        "\n",
        "        entropyList.append(entropy)  # Append entropy value to the list\n",
        "        splitPoints.append(val)  # Append split point to the list\n",
        "\n",
        "    min_entropy = np.min(entropyList)  # Get the minimum entropy value\n",
        "    best_split = splitPoints[np.argmin(entropyList)]  # Find the corresponding split point\n",
        "    return min_entropy, best_split\n"
      ],
      "metadata": {
        "id": "YMj_4LAmrbDo"
      },
      "execution_count": 9,
      "outputs": []
    },
    {
      "cell_type": "code",
      "source": [
        "# Calculate the Gini index for a quantitative feature\n",
        "def quantitative_gini(df, target, feature):\n",
        "    giniList = []  # List to store Gini values\n",
        "    splitPoints = []  # List to store split points\n",
        "    uniqueVals = np.sort(df[feature].unique())  # Sorted unique values for the feature\n",
        "    overall = len(df)  # Total number of rows\n",
        "    for val in uniqueVals:\n",
        "        gini = 0  # Initialize Gini index for each unique value\n",
        "        # Split the data into two subsets: <= val and > val\n",
        "        left = df[df[feature] <= val][[feature, target]]\n",
        "        right = df[df[feature] > val][[feature, target]]\n",
        "\n",
        "        # Calculate the Gini for the left subset\n",
        "        props_left = left[target].value_counts(normalize=True)\n",
        "        weight_left = len(left) / overall\n",
        "        gini_left = 1 - np.sum(np.square(props_left))\n",
        "\n",
        "        # Calculate the Gini for the right subset\n",
        "        props_right = right[target].value_counts(normalize=True)\n",
        "        weight_right = len(right) / overall\n",
        "        gini_right = 1 - np.sum(np.square(props_right))\n",
        "\n",
        "        # Combine Gini values and append to the list\n",
        "        gini = weight_left * gini_left + weight_right * gini_right\n",
        "        giniList.append(gini)\n",
        "        splitPoints.append(val)\n",
        "\n",
        "    min_gini = np.min(giniList)  # Get the minimum Gini value\n",
        "    best_split = splitPoints[np.argmin(giniList)]  # Find the corresponding split point\n",
        "    return min_gini, best_split"
      ],
      "metadata": {
        "id": "4J0RZ5jTsGZG"
      },
      "execution_count": 10,
      "outputs": []
    },
    {
      "cell_type": "code",
      "source": [
        "# Helper function to check if a feature is categorical\n",
        "def isCategorical(df, feature):\n",
        "    return df[feature].nunique() < 8  # A feature is considered categorical if it has fewer than 8 unique values\n"
      ],
      "metadata": {
        "id": "ktDb7968sJQ_"
      },
      "execution_count": 11,
      "outputs": []
    },
    {
      "cell_type": "code",
      "source": [
        "# Main attribute selection method function\n",
        "def attribute_selection_method(df, target, measure):\n",
        "    categoricalList = []  # Store results for categorical features\n",
        "    categoricalFeatureList = []  # Store categorical feature names\n",
        "    quantitativeList = []  # Store results for quantitative features\n",
        "    quantitativeFeatureList = []  # Store quantitative feature names\n",
        "    splitList = []  # Store best split points for quantitative features\n",
        "    features = df.columns.drop(target)  # Get all features except the target\n",
        "\n",
        "    for feature in features:\n",
        "        if isCategorical(df, feature):  # If feature is categorical\n",
        "            if measure == 'entropy':\n",
        "                result = categorical_entropy(df, target, feature)\n",
        "            elif measure == 'gini':\n",
        "                result = categorical_gini(df, target, feature)\n",
        "            categoricalList.append(result)\n",
        "            categoricalFeatureList.append(feature)\n",
        "        else:  # If feature is quantitative\n",
        "            if measure == 'entropy':\n",
        "                min_entropy, best_split = quantitative_entropy(df, target, feature)\n",
        "                quantitativeList.append(min_entropy)\n",
        "                splitList.append(best_split)\n",
        "            elif measure == 'gini':\n",
        "                min_gini, best_split = quantitative_gini(df, target, feature)\n",
        "                quantitativeList.append(min_gini)\n",
        "                splitList.append(best_split)\n",
        "            quantitativeFeatureList.append(feature)\n",
        "\n",
        "    # Determine the best feature and split point\n",
        "    if categoricalList and min(categoricalList) <= min(quantitativeList):\n",
        "        return categoricalFeatureList[np.argmin(categoricalList)]\n",
        "    else:\n",
        "        best_index = np.argmin(quantitativeList)\n",
        "        return quantitativeFeatureList[best_index], splitList[best_index]"
      ],
      "metadata": {
        "id": "8f_5-V-6sL8t"
      },
      "execution_count": 12,
      "outputs": []
    },
    {
      "cell_type": "code",
      "source": [],
      "metadata": {
        "id": "mxitDf_8sRYJ"
      },
      "execution_count": 12,
      "outputs": []
    },
    {
      "cell_type": "markdown",
      "source": [
        "# Mean Squared Error"
      ],
      "metadata": {
        "id": "l36Mu2a5se3R"
      }
    },
    {
      "cell_type": "code",
      "source": [
        "# Mean Squared Error for quantitative features for regression\n",
        "def regression_mse_quantitative(df, target, feature):\n",
        "    mseList = []\n",
        "    splitPoints = []\n",
        "    uniqueVals = np.sort(df[feature].unique())\n",
        "    overall = len(df)\n",
        "\n",
        "    for val in uniqueVals:\n",
        "        # Split into left and right subsets\n",
        "        left = df[df[feature] <= val][target]\n",
        "        right = df[df[feature] > val][target]\n",
        "\n",
        "        # Calculate MSE for left and right subsets\n",
        "        if len(left) > 0:\n",
        "            mse_left = np.mean((left - left.mean()) ** 2)\n",
        "        else:\n",
        "            mse_left = 0\n",
        "\n",
        "        if len(right) > 0:\n",
        "            mse_right = np.mean((right - right.mean()) ** 2)\n",
        "        else:\n",
        "            mse_right = 0\n",
        "\n",
        "        # Weighted average of the MSEs\n",
        "        weight_left = len(left) / overall\n",
        "        weight_right = len(right) / overall\n",
        "        mse = weight_left * mse_left + weight_right * mse_right\n",
        "\n",
        "        mseList.append(mse)\n",
        "        splitPoints.append(val)\n",
        "\n",
        "    #return the minimum mean squared errror value as well as the split at the matching index\n",
        "    min_mse = np.min(mseList)\n",
        "    best_split = splitPoints[np.argmin(mseList)]\n",
        "    return min_mse, best_split"
      ],
      "metadata": {
        "id": "jTiWZOYkwuq5"
      },
      "execution_count": 13,
      "outputs": []
    },
    {
      "cell_type": "code",
      "source": [
        "# Mean Squared Error for regression with categorical features\n",
        "def regression_mse_categorical(df, target, feature):\n",
        "    mseList = []\n",
        "    splitPoints = []\n",
        "    uniqueVals = df[feature].unique()\n",
        "    overall = len(df)\n",
        "\n",
        "    for val in uniqueVals:\n",
        "        # Split into left (matching category) and right (not matching category) subsets\n",
        "        left = df[df[feature] == val][target]\n",
        "        right = df[df[feature] != val][target]\n",
        "\n",
        "        # Calculate MSE for left and right subsets\n",
        "        if len(left) > 0:\n",
        "            mse_left = np.mean((left - left.mean()) ** 2)\n",
        "        else:\n",
        "            mse_left = 0\n",
        "\n",
        "        if len(right) > 0:\n",
        "            mse_right = np.mean((right - right.mean()) ** 2)\n",
        "        else:\n",
        "            mse_right = 0\n",
        "\n",
        "        # Weighted average of the MSEs\n",
        "        weight_left = len(left) / overall\n",
        "        weight_right = len(right) / overall\n",
        "        mse = weight_left * mse_left + weight_right * mse_right\n",
        "\n",
        "        mseList.append(mse)\n",
        "        splitPoints.append(val)\n",
        "\n",
        "    # Return the minimum MSE value and the best category split\n",
        "    min_mse = np.min(mseList)\n",
        "    best_split = splitPoints[np.argmin(mseList)]\n",
        "    return min_mse, best_split"
      ],
      "metadata": {
        "id": "8SPxCyZU6AJp"
      },
      "execution_count": 14,
      "outputs": []
    },
    {
      "cell_type": "code",
      "source": [
        "regression_mse_quantitative(mbadf, 'gmat', 'gpa')"
      ],
      "metadata": {
        "id": "dI9z7LHg6XPl",
        "outputId": "4e3a41c4-c146-4c19-a720-09abfba5fb33",
        "colab": {
          "base_uri": "https://localhost:8080/"
        }
      },
      "execution_count": 15,
      "outputs": [
        {
          "output_type": "execute_result",
          "data": {
            "text/plain": [
              "(1882.2081312947516, 3.25)"
            ]
          },
          "metadata": {},
          "execution_count": 15
        }
      ]
    },
    {
      "cell_type": "code",
      "source": [
        "regression_mse_quantitative(mbadf, 'gmat', 'major')"
      ],
      "metadata": {
        "id": "sP9ClCA06kNh",
        "outputId": "6ac856b5-e229-464d-c868-06f630530fb0",
        "colab": {
          "base_uri": "https://localhost:8080/"
        }
      },
      "execution_count": 16,
      "outputs": [
        {
          "output_type": "execute_result",
          "data": {
            "text/plain": [
              "(2429.3693132952044, 'Business')"
            ]
          },
          "metadata": {},
          "execution_count": 16
        }
      ]
    },
    {
      "cell_type": "code",
      "source": [
        "regression_mse_categorical(mbadf, 'gmat', 'major')"
      ],
      "metadata": {
        "id": "toumMVk86xFa",
        "outputId": "7668f132-af58-4f98-e40c-c67c1466e9e5",
        "colab": {
          "base_uri": "https://localhost:8080/"
        }
      },
      "execution_count": 17,
      "outputs": [
        {
          "output_type": "execute_result",
          "data": {
            "text/plain": [
              "(2429.2303680295686, 'Humanities')"
            ]
          },
          "metadata": {},
          "execution_count": 17
        }
      ]
    },
    {
      "cell_type": "markdown",
      "source": [
        "# SciKit Learn Stuff"
      ],
      "metadata": {
        "id": "DPQH-goz8KzO"
      }
    },
    {
      "cell_type": "code",
      "source": [
        "from sklearn.model_selection import train_test_split"
      ],
      "metadata": {
        "id": "eAFkXGXg6mqx"
      },
      "execution_count": null,
      "outputs": []
    },
    {
      "cell_type": "code",
      "source": [
        "target = mbadf['gmat']"
      ],
      "metadata": {
        "id": "99LE1tL47fQJ"
      },
      "execution_count": null,
      "outputs": []
    },
    {
      "cell_type": "code",
      "source": [
        "train_set, test_set = train_test_split(mbadf, test_size=0.2)"
      ],
      "metadata": {
        "id": "bs_w-4Kt680m"
      },
      "execution_count": null,
      "outputs": []
    },
    {
      "cell_type": "code",
      "source": [
        "X_train = train_set[colsInUseNotTarget]\n",
        "y_train = train_set['gmat']\n",
        "X_test = test_set[colsInUseNotTarget]\n",
        "y_test = test_set['gmat']"
      ],
      "metadata": {
        "id": "9SrD201H7DyR"
      },
      "execution_count": null,
      "outputs": []
    },
    {
      "cell_type": "code",
      "source": [
        "from sklearn.tree import DecisionTreeRegressor\n",
        "from sklearn.preprocessing import StandardScaler, OneHotEncoder\n",
        "from sklearn.pipeline import Pipeline\n",
        "from sklearn.compose import ColumnTransformer\n",
        "from sklearn.model_selection import cross_val_score\n",
        "from sklearn.tree import plot_tree"
      ],
      "metadata": {
        "id": "CCOLDzqv7SOK"
      },
      "execution_count": null,
      "outputs": []
    },
    {
      "cell_type": "code",
      "source": [
        "X_train.info()"
      ],
      "metadata": {
        "id": "XWwaEvtX79pm",
        "outputId": "1e73493a-40b5-4dd2-ca33-76e92994d095",
        "colab": {
          "base_uri": "https://localhost:8080/"
        }
      },
      "execution_count": null,
      "outputs": [
        {
          "output_type": "stream",
          "name": "stdout",
          "text": [
            "<class 'pandas.core.frame.DataFrame'>\n",
            "Index: 4955 entries, 5227 to 532\n",
            "Data columns (total 2 columns):\n",
            " #   Column  Non-Null Count  Dtype  \n",
            "---  ------  --------------  -----  \n",
            " 0   gpa     4955 non-null   float64\n",
            " 1   major   4955 non-null   object \n",
            "dtypes: float64(1), object(1)\n",
            "memory usage: 116.1+ KB\n"
          ]
        }
      ]
    },
    {
      "cell_type": "code",
      "source": [
        "num_attributes = X_train.select_dtypes(include = ['float64']).columns\n",
        "cat_attributes = X_train.select_dtypes(include = ['object']).columns"
      ],
      "metadata": {
        "id": "6xYBZSbc8Adj"
      },
      "execution_count": null,
      "outputs": []
    },
    {
      "cell_type": "code",
      "source": [
        "trf = [\n",
        "       ('cat', OneHotEncoder( handle_unknown='ignore'), cat_attributes) ]\n",
        "col_transform = ColumnTransformer( transformers = trf )"
      ],
      "metadata": {
        "id": "CA83iAY-8JPI"
      },
      "execution_count": null,
      "outputs": []
    },
    {
      "cell_type": "code",
      "source": [
        "pipeline = Pipeline( steps = [('pre', col_transform),\n",
        " ('clf', DecisionTreeRegressor(max_depth=3))])"
      ],
      "metadata": {
        "id": "3bsCR_Uj8TPu"
      },
      "execution_count": null,
      "outputs": []
    },
    {
      "cell_type": "code",
      "source": [
        "cv_scores = cross_val_score( pipeline, X_train, y_train, cv=5, scoring='neg_mean_squared_error')\n",
        "cv_scores"
      ],
      "metadata": {
        "id": "8tPhuDxL8VzB",
        "outputId": "5d286920-d2f2-4ae3-dff8-7384b1f391f8",
        "colab": {
          "base_uri": "https://localhost:8080/"
        }
      },
      "execution_count": null,
      "outputs": [
        {
          "output_type": "execute_result",
          "data": {
            "text/plain": [
              "array([-1584.80974861, -1682.05069525, -1722.59650572, -1639.29508188,\n",
              "       -1650.42258339])"
            ]
          },
          "metadata": {},
          "execution_count": 34
        }
      ]
    },
    {
      "cell_type": "code",
      "source": [
        "mse_scores = -cv_scores\n",
        "mse_scores"
      ],
      "metadata": {
        "id": "S_jKUKmY8fKP",
        "outputId": "b2737909-3bb6-4577-dd41-7edb552d2a37",
        "colab": {
          "base_uri": "https://localhost:8080/"
        }
      },
      "execution_count": null,
      "outputs": [
        {
          "output_type": "execute_result",
          "data": {
            "text/plain": [
              "array([1584.80974861, 1682.05069525, 1722.59650572, 1639.29508188,\n",
              "       1650.42258339])"
            ]
          },
          "metadata": {},
          "execution_count": 35
        }
      ]
    },
    {
      "cell_type": "code",
      "source": [
        "model = DecisionTreeRegressor(max_depth=3)"
      ],
      "metadata": {
        "id": "QqWBcH8b8hqC"
      },
      "execution_count": null,
      "outputs": []
    },
    {
      "cell_type": "code",
      "source": [
        "encoded = col_transform.fit_transform(train_set['major'].to_frame())"
      ],
      "metadata": {
        "id": "4j9Dvtt9-udc"
      },
      "execution_count": null,
      "outputs": []
    },
    {
      "cell_type": "code",
      "source": [
        "fittedModel = model.fit(encoded, train_set['gmat'])"
      ],
      "metadata": {
        "id": "GcGwsF0d9o6d"
      },
      "execution_count": null,
      "outputs": []
    },
    {
      "cell_type": "code",
      "source": [
        "predictions = fittedModel.predict(X_test)"
      ],
      "metadata": {
        "id": "LQjdv3Gn9zuu",
        "outputId": "c595375d-cb49-4e21-d7d3-12477deade08",
        "colab": {
          "base_uri": "https://localhost:8080/",
          "height": 402
        }
      },
      "execution_count": null,
      "outputs": [
        {
          "output_type": "stream",
          "name": "stderr",
          "text": [
            "/usr/local/lib/python3.10/dist-packages/sklearn/base.py:486: UserWarning: X has feature names, but DecisionTreeRegressor was fitted without feature names\n",
            "  warnings.warn(\n"
          ]
        },
        {
          "output_type": "error",
          "ename": "ValueError",
          "evalue": "could not convert string to float: 'Business'",
          "traceback": [
            "\u001b[0;31m---------------------------------------------------------------------------\u001b[0m",
            "\u001b[0;31mValueError\u001b[0m                                Traceback (most recent call last)",
            "\u001b[0;32m<ipython-input-54-2d3f729682c0>\u001b[0m in \u001b[0;36m<cell line: 1>\u001b[0;34m()\u001b[0m\n\u001b[0;32m----> 1\u001b[0;31m \u001b[0mpredictions\u001b[0m \u001b[0;34m=\u001b[0m \u001b[0mfittedModel\u001b[0m\u001b[0;34m.\u001b[0m\u001b[0mpredict\u001b[0m\u001b[0;34m(\u001b[0m\u001b[0mX_test\u001b[0m\u001b[0;34m)\u001b[0m\u001b[0;34m\u001b[0m\u001b[0;34m\u001b[0m\u001b[0m\n\u001b[0m",
            "\u001b[0;32m/usr/local/lib/python3.10/dist-packages/sklearn/tree/_classes.py\u001b[0m in \u001b[0;36mpredict\u001b[0;34m(self, X, check_input)\u001b[0m\n\u001b[1;32m    527\u001b[0m         \"\"\"\n\u001b[1;32m    528\u001b[0m         \u001b[0mcheck_is_fitted\u001b[0m\u001b[0;34m(\u001b[0m\u001b[0mself\u001b[0m\u001b[0;34m)\u001b[0m\u001b[0;34m\u001b[0m\u001b[0;34m\u001b[0m\u001b[0m\n\u001b[0;32m--> 529\u001b[0;31m         \u001b[0mX\u001b[0m \u001b[0;34m=\u001b[0m \u001b[0mself\u001b[0m\u001b[0;34m.\u001b[0m\u001b[0m_validate_X_predict\u001b[0m\u001b[0;34m(\u001b[0m\u001b[0mX\u001b[0m\u001b[0;34m,\u001b[0m \u001b[0mcheck_input\u001b[0m\u001b[0;34m)\u001b[0m\u001b[0;34m\u001b[0m\u001b[0;34m\u001b[0m\u001b[0m\n\u001b[0m\u001b[1;32m    530\u001b[0m         \u001b[0mproba\u001b[0m \u001b[0;34m=\u001b[0m \u001b[0mself\u001b[0m\u001b[0;34m.\u001b[0m\u001b[0mtree_\u001b[0m\u001b[0;34m.\u001b[0m\u001b[0mpredict\u001b[0m\u001b[0;34m(\u001b[0m\u001b[0mX\u001b[0m\u001b[0;34m)\u001b[0m\u001b[0;34m\u001b[0m\u001b[0;34m\u001b[0m\u001b[0m\n\u001b[1;32m    531\u001b[0m         \u001b[0mn_samples\u001b[0m \u001b[0;34m=\u001b[0m \u001b[0mX\u001b[0m\u001b[0;34m.\u001b[0m\u001b[0mshape\u001b[0m\u001b[0;34m[\u001b[0m\u001b[0;36m0\u001b[0m\u001b[0;34m]\u001b[0m\u001b[0;34m\u001b[0m\u001b[0;34m\u001b[0m\u001b[0m\n",
            "\u001b[0;32m/usr/local/lib/python3.10/dist-packages/sklearn/tree/_classes.py\u001b[0m in \u001b[0;36m_validate_X_predict\u001b[0;34m(self, X, check_input)\u001b[0m\n\u001b[1;32m    487\u001b[0m             \u001b[0;32melse\u001b[0m\u001b[0;34m:\u001b[0m\u001b[0;34m\u001b[0m\u001b[0;34m\u001b[0m\u001b[0m\n\u001b[1;32m    488\u001b[0m                 \u001b[0mforce_all_finite\u001b[0m \u001b[0;34m=\u001b[0m \u001b[0;32mTrue\u001b[0m\u001b[0;34m\u001b[0m\u001b[0;34m\u001b[0m\u001b[0m\n\u001b[0;32m--> 489\u001b[0;31m             X = self._validate_data(\n\u001b[0m\u001b[1;32m    490\u001b[0m                 \u001b[0mX\u001b[0m\u001b[0;34m,\u001b[0m\u001b[0;34m\u001b[0m\u001b[0;34m\u001b[0m\u001b[0m\n\u001b[1;32m    491\u001b[0m                 \u001b[0mdtype\u001b[0m\u001b[0;34m=\u001b[0m\u001b[0mDTYPE\u001b[0m\u001b[0;34m,\u001b[0m\u001b[0;34m\u001b[0m\u001b[0;34m\u001b[0m\u001b[0m\n",
            "\u001b[0;32m/usr/local/lib/python3.10/dist-packages/sklearn/base.py\u001b[0m in \u001b[0;36m_validate_data\u001b[0;34m(self, X, y, reset, validate_separately, cast_to_ndarray, **check_params)\u001b[0m\n\u001b[1;32m    631\u001b[0m                 \u001b[0mout\u001b[0m \u001b[0;34m=\u001b[0m \u001b[0mX\u001b[0m\u001b[0;34m,\u001b[0m \u001b[0my\u001b[0m\u001b[0;34m\u001b[0m\u001b[0;34m\u001b[0m\u001b[0m\n\u001b[1;32m    632\u001b[0m         \u001b[0;32melif\u001b[0m \u001b[0;32mnot\u001b[0m \u001b[0mno_val_X\u001b[0m \u001b[0;32mand\u001b[0m \u001b[0mno_val_y\u001b[0m\u001b[0;34m:\u001b[0m\u001b[0;34m\u001b[0m\u001b[0;34m\u001b[0m\u001b[0m\n\u001b[0;32m--> 633\u001b[0;31m             \u001b[0mout\u001b[0m \u001b[0;34m=\u001b[0m \u001b[0mcheck_array\u001b[0m\u001b[0;34m(\u001b[0m\u001b[0mX\u001b[0m\u001b[0;34m,\u001b[0m \u001b[0minput_name\u001b[0m\u001b[0;34m=\u001b[0m\u001b[0;34m\"X\"\u001b[0m\u001b[0;34m,\u001b[0m \u001b[0;34m**\u001b[0m\u001b[0mcheck_params\u001b[0m\u001b[0;34m)\u001b[0m\u001b[0;34m\u001b[0m\u001b[0;34m\u001b[0m\u001b[0m\n\u001b[0m\u001b[1;32m    634\u001b[0m         \u001b[0;32melif\u001b[0m \u001b[0mno_val_X\u001b[0m \u001b[0;32mand\u001b[0m \u001b[0;32mnot\u001b[0m \u001b[0mno_val_y\u001b[0m\u001b[0;34m:\u001b[0m\u001b[0;34m\u001b[0m\u001b[0;34m\u001b[0m\u001b[0m\n\u001b[1;32m    635\u001b[0m             \u001b[0mout\u001b[0m \u001b[0;34m=\u001b[0m \u001b[0m_check_y\u001b[0m\u001b[0;34m(\u001b[0m\u001b[0my\u001b[0m\u001b[0;34m,\u001b[0m \u001b[0;34m**\u001b[0m\u001b[0mcheck_params\u001b[0m\u001b[0;34m)\u001b[0m\u001b[0;34m\u001b[0m\u001b[0;34m\u001b[0m\u001b[0m\n",
            "\u001b[0;32m/usr/local/lib/python3.10/dist-packages/sklearn/utils/validation.py\u001b[0m in \u001b[0;36mcheck_array\u001b[0;34m(array, accept_sparse, accept_large_sparse, dtype, order, copy, force_writeable, force_all_finite, ensure_2d, allow_nd, ensure_min_samples, ensure_min_features, estimator, input_name)\u001b[0m\n\u001b[1;32m   1010\u001b[0m                     \u001b[0marray\u001b[0m \u001b[0;34m=\u001b[0m \u001b[0mxp\u001b[0m\u001b[0;34m.\u001b[0m\u001b[0mastype\u001b[0m\u001b[0;34m(\u001b[0m\u001b[0marray\u001b[0m\u001b[0;34m,\u001b[0m \u001b[0mdtype\u001b[0m\u001b[0;34m,\u001b[0m \u001b[0mcopy\u001b[0m\u001b[0;34m=\u001b[0m\u001b[0;32mFalse\u001b[0m\u001b[0;34m)\u001b[0m\u001b[0;34m\u001b[0m\u001b[0;34m\u001b[0m\u001b[0m\n\u001b[1;32m   1011\u001b[0m                 \u001b[0;32melse\u001b[0m\u001b[0;34m:\u001b[0m\u001b[0;34m\u001b[0m\u001b[0;34m\u001b[0m\u001b[0m\n\u001b[0;32m-> 1012\u001b[0;31m                     \u001b[0marray\u001b[0m \u001b[0;34m=\u001b[0m \u001b[0m_asarray_with_order\u001b[0m\u001b[0;34m(\u001b[0m\u001b[0marray\u001b[0m\u001b[0;34m,\u001b[0m \u001b[0morder\u001b[0m\u001b[0;34m=\u001b[0m\u001b[0morder\u001b[0m\u001b[0;34m,\u001b[0m \u001b[0mdtype\u001b[0m\u001b[0;34m=\u001b[0m\u001b[0mdtype\u001b[0m\u001b[0;34m,\u001b[0m \u001b[0mxp\u001b[0m\u001b[0;34m=\u001b[0m\u001b[0mxp\u001b[0m\u001b[0;34m)\u001b[0m\u001b[0;34m\u001b[0m\u001b[0;34m\u001b[0m\u001b[0m\n\u001b[0m\u001b[1;32m   1013\u001b[0m             \u001b[0;32mexcept\u001b[0m \u001b[0mComplexWarning\u001b[0m \u001b[0;32mas\u001b[0m \u001b[0mcomplex_warning\u001b[0m\u001b[0;34m:\u001b[0m\u001b[0;34m\u001b[0m\u001b[0;34m\u001b[0m\u001b[0m\n\u001b[1;32m   1014\u001b[0m                 raise ValueError(\n",
            "\u001b[0;32m/usr/local/lib/python3.10/dist-packages/sklearn/utils/_array_api.py\u001b[0m in \u001b[0;36m_asarray_with_order\u001b[0;34m(array, dtype, order, copy, xp, device)\u001b[0m\n\u001b[1;32m    743\u001b[0m             \u001b[0marray\u001b[0m \u001b[0;34m=\u001b[0m \u001b[0mnumpy\u001b[0m\u001b[0;34m.\u001b[0m\u001b[0marray\u001b[0m\u001b[0;34m(\u001b[0m\u001b[0marray\u001b[0m\u001b[0;34m,\u001b[0m \u001b[0morder\u001b[0m\u001b[0;34m=\u001b[0m\u001b[0morder\u001b[0m\u001b[0;34m,\u001b[0m \u001b[0mdtype\u001b[0m\u001b[0;34m=\u001b[0m\u001b[0mdtype\u001b[0m\u001b[0;34m)\u001b[0m\u001b[0;34m\u001b[0m\u001b[0;34m\u001b[0m\u001b[0m\n\u001b[1;32m    744\u001b[0m         \u001b[0;32melse\u001b[0m\u001b[0;34m:\u001b[0m\u001b[0;34m\u001b[0m\u001b[0;34m\u001b[0m\u001b[0m\n\u001b[0;32m--> 745\u001b[0;31m             \u001b[0marray\u001b[0m \u001b[0;34m=\u001b[0m \u001b[0mnumpy\u001b[0m\u001b[0;34m.\u001b[0m\u001b[0masarray\u001b[0m\u001b[0;34m(\u001b[0m\u001b[0marray\u001b[0m\u001b[0;34m,\u001b[0m \u001b[0morder\u001b[0m\u001b[0;34m=\u001b[0m\u001b[0morder\u001b[0m\u001b[0;34m,\u001b[0m \u001b[0mdtype\u001b[0m\u001b[0;34m=\u001b[0m\u001b[0mdtype\u001b[0m\u001b[0;34m)\u001b[0m\u001b[0;34m\u001b[0m\u001b[0;34m\u001b[0m\u001b[0m\n\u001b[0m\u001b[1;32m    746\u001b[0m \u001b[0;34m\u001b[0m\u001b[0m\n\u001b[1;32m    747\u001b[0m         \u001b[0;31m# At this point array is a NumPy ndarray. We convert it to an array\u001b[0m\u001b[0;34m\u001b[0m\u001b[0;34m\u001b[0m\u001b[0m\n",
            "\u001b[0;32m/usr/local/lib/python3.10/dist-packages/pandas/core/generic.py\u001b[0m in \u001b[0;36m__array__\u001b[0;34m(self, dtype, copy)\u001b[0m\n\u001b[1;32m   2151\u001b[0m     ) -> np.ndarray:\n\u001b[1;32m   2152\u001b[0m         \u001b[0mvalues\u001b[0m \u001b[0;34m=\u001b[0m \u001b[0mself\u001b[0m\u001b[0;34m.\u001b[0m\u001b[0m_values\u001b[0m\u001b[0;34m\u001b[0m\u001b[0;34m\u001b[0m\u001b[0m\n\u001b[0;32m-> 2153\u001b[0;31m         \u001b[0marr\u001b[0m \u001b[0;34m=\u001b[0m \u001b[0mnp\u001b[0m\u001b[0;34m.\u001b[0m\u001b[0masarray\u001b[0m\u001b[0;34m(\u001b[0m\u001b[0mvalues\u001b[0m\u001b[0;34m,\u001b[0m \u001b[0mdtype\u001b[0m\u001b[0;34m=\u001b[0m\u001b[0mdtype\u001b[0m\u001b[0;34m)\u001b[0m\u001b[0;34m\u001b[0m\u001b[0;34m\u001b[0m\u001b[0m\n\u001b[0m\u001b[1;32m   2154\u001b[0m         if (\n\u001b[1;32m   2155\u001b[0m             \u001b[0mastype_is_view\u001b[0m\u001b[0;34m(\u001b[0m\u001b[0mvalues\u001b[0m\u001b[0;34m.\u001b[0m\u001b[0mdtype\u001b[0m\u001b[0;34m,\u001b[0m \u001b[0marr\u001b[0m\u001b[0;34m.\u001b[0m\u001b[0mdtype\u001b[0m\u001b[0;34m)\u001b[0m\u001b[0;34m\u001b[0m\u001b[0;34m\u001b[0m\u001b[0m\n",
            "\u001b[0;31mValueError\u001b[0m: could not convert string to float: 'Business'"
          ]
        }
      ]
    },
    {
      "cell_type": "code",
      "source": [],
      "metadata": {
        "id": "uLrEPLnIA-Rs"
      },
      "execution_count": null,
      "outputs": []
    }
  ]
}