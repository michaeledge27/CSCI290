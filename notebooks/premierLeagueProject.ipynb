{
  "nbformat": 4,
  "nbformat_minor": 0,
  "metadata": {
    "colab": {
      "provenance": [],
      "authorship_tag": "ABX9TyMpEjWbyQ0bBtlaaXtIUtqN",
      "include_colab_link": true
    },
    "kernelspec": {
      "name": "python3",
      "display_name": "Python 3"
    },
    "language_info": {
      "name": "python"
    }
  },
  "cells": [
    {
      "cell_type": "markdown",
      "metadata": {
        "id": "view-in-github",
        "colab_type": "text"
      },
      "source": [
        "<a href=\"https://colab.research.google.com/github/michaeledge27/CSCI290/blob/main/notebooks/premierLeagueProject.ipynb\" target=\"_parent\"><img src=\"https://colab.research.google.com/assets/colab-badge.svg\" alt=\"Open In Colab\"/></a>"
      ]
    },
    {
      "cell_type": "code",
      "execution_count": null,
      "metadata": {
        "id": "85C_i3OuWfRr"
      },
      "outputs": [],
      "source": [
        "dimport pandas as pd\n",
        "import matplotlib.pyplot as plt\n",
        "import numpy as np\n",
        "import math"
      ]
    },
    {
      "cell_type": "code",
      "source": [
        "url = \"https://github.com/michaeledge27/CSCI290/raw/main/data/matches.csv\"\n",
        "df = pd.read_csv(url)\n",
        "df.head()"
      ],
      "metadata": {
        "colab": {
          "base_uri": "https://localhost:8080/",
          "height": 360
        },
        "id": "8UoLHS2ZWxpF",
        "outputId": "8c3608ae-013f-4fca-9a8d-26b74b6bb68e"
      },
      "execution_count": null,
      "outputs": [
        {
          "output_type": "execute_result",
          "data": {
            "text/plain": [
              "   Unnamed: 0        date           time            comp        round  day  \\\n",
              "0           0  2020-09-21  20:15 (21:15)  Premier League  Matchweek 2  Mon   \n",
              "1           2  2020-09-27  16:30 (17:30)  Premier League  Matchweek 3  Sun   \n",
              "2           4  2020-10-03  17:30 (18:30)  Premier League  Matchweek 4  Sat   \n",
              "3           5  2020-10-17  17:30 (18:30)  Premier League  Matchweek 5  Sat   \n",
              "4           7  2020-10-24  12:30 (13:30)  Premier League  Matchweek 6  Sat   \n",
              "\n",
              "  venue result  gf  ga  ...  match report  notes  sh  sot  dist fk pk pkatt  \\\n",
              "0  Away      W   3   1  ...  Match Report    NaN  13    8  21.1  2  1     1   \n",
              "1  Home      L   2   5  ...  Match Report    NaN  16    5  19.8  1  0     0   \n",
              "2  Away      D   1   1  ...  Match Report    NaN  23    1  18.2  1  0     0   \n",
              "3  Home      W   1   0  ...  Match Report    NaN  13    5  17.7  0  0     0   \n",
              "4  Away      D   1   1  ...  Match Report    NaN  14    7  20.9  1  0     0   \n",
              "\n",
              "  season             team  \n",
              "0   2024  Manchester City  \n",
              "1   2024  Manchester City  \n",
              "2   2024  Manchester City  \n",
              "3   2024  Manchester City  \n",
              "4   2024  Manchester City  \n",
              "\n",
              "[5 rows x 28 columns]"
            ],
            "text/html": [
              "\n",
              "  <div id=\"df-771ddd6c-5b04-471e-86b4-eb63e42f7262\" class=\"colab-df-container\">\n",
              "    <div>\n",
              "<style scoped>\n",
              "    .dataframe tbody tr th:only-of-type {\n",
              "        vertical-align: middle;\n",
              "    }\n",
              "\n",
              "    .dataframe tbody tr th {\n",
              "        vertical-align: top;\n",
              "    }\n",
              "\n",
              "    .dataframe thead th {\n",
              "        text-align: right;\n",
              "    }\n",
              "</style>\n",
              "<table border=\"1\" class=\"dataframe\">\n",
              "  <thead>\n",
              "    <tr style=\"text-align: right;\">\n",
              "      <th></th>\n",
              "      <th>Unnamed: 0</th>\n",
              "      <th>date</th>\n",
              "      <th>time</th>\n",
              "      <th>comp</th>\n",
              "      <th>round</th>\n",
              "      <th>day</th>\n",
              "      <th>venue</th>\n",
              "      <th>result</th>\n",
              "      <th>gf</th>\n",
              "      <th>ga</th>\n",
              "      <th>...</th>\n",
              "      <th>match report</th>\n",
              "      <th>notes</th>\n",
              "      <th>sh</th>\n",
              "      <th>sot</th>\n",
              "      <th>dist</th>\n",
              "      <th>fk</th>\n",
              "      <th>pk</th>\n",
              "      <th>pkatt</th>\n",
              "      <th>season</th>\n",
              "      <th>team</th>\n",
              "    </tr>\n",
              "  </thead>\n",
              "  <tbody>\n",
              "    <tr>\n",
              "      <th>0</th>\n",
              "      <td>0</td>\n",
              "      <td>2020-09-21</td>\n",
              "      <td>20:15 (21:15)</td>\n",
              "      <td>Premier League</td>\n",
              "      <td>Matchweek 2</td>\n",
              "      <td>Mon</td>\n",
              "      <td>Away</td>\n",
              "      <td>W</td>\n",
              "      <td>3</td>\n",
              "      <td>1</td>\n",
              "      <td>...</td>\n",
              "      <td>Match Report</td>\n",
              "      <td>NaN</td>\n",
              "      <td>13</td>\n",
              "      <td>8</td>\n",
              "      <td>21.1</td>\n",
              "      <td>2</td>\n",
              "      <td>1</td>\n",
              "      <td>1</td>\n",
              "      <td>2024</td>\n",
              "      <td>Manchester City</td>\n",
              "    </tr>\n",
              "    <tr>\n",
              "      <th>1</th>\n",
              "      <td>2</td>\n",
              "      <td>2020-09-27</td>\n",
              "      <td>16:30 (17:30)</td>\n",
              "      <td>Premier League</td>\n",
              "      <td>Matchweek 3</td>\n",
              "      <td>Sun</td>\n",
              "      <td>Home</td>\n",
              "      <td>L</td>\n",
              "      <td>2</td>\n",
              "      <td>5</td>\n",
              "      <td>...</td>\n",
              "      <td>Match Report</td>\n",
              "      <td>NaN</td>\n",
              "      <td>16</td>\n",
              "      <td>5</td>\n",
              "      <td>19.8</td>\n",
              "      <td>1</td>\n",
              "      <td>0</td>\n",
              "      <td>0</td>\n",
              "      <td>2024</td>\n",
              "      <td>Manchester City</td>\n",
              "    </tr>\n",
              "    <tr>\n",
              "      <th>2</th>\n",
              "      <td>4</td>\n",
              "      <td>2020-10-03</td>\n",
              "      <td>17:30 (18:30)</td>\n",
              "      <td>Premier League</td>\n",
              "      <td>Matchweek 4</td>\n",
              "      <td>Sat</td>\n",
              "      <td>Away</td>\n",
              "      <td>D</td>\n",
              "      <td>1</td>\n",
              "      <td>1</td>\n",
              "      <td>...</td>\n",
              "      <td>Match Report</td>\n",
              "      <td>NaN</td>\n",
              "      <td>23</td>\n",
              "      <td>1</td>\n",
              "      <td>18.2</td>\n",
              "      <td>1</td>\n",
              "      <td>0</td>\n",
              "      <td>0</td>\n",
              "      <td>2024</td>\n",
              "      <td>Manchester City</td>\n",
              "    </tr>\n",
              "    <tr>\n",
              "      <th>3</th>\n",
              "      <td>5</td>\n",
              "      <td>2020-10-17</td>\n",
              "      <td>17:30 (18:30)</td>\n",
              "      <td>Premier League</td>\n",
              "      <td>Matchweek 5</td>\n",
              "      <td>Sat</td>\n",
              "      <td>Home</td>\n",
              "      <td>W</td>\n",
              "      <td>1</td>\n",
              "      <td>0</td>\n",
              "      <td>...</td>\n",
              "      <td>Match Report</td>\n",
              "      <td>NaN</td>\n",
              "      <td>13</td>\n",
              "      <td>5</td>\n",
              "      <td>17.7</td>\n",
              "      <td>0</td>\n",
              "      <td>0</td>\n",
              "      <td>0</td>\n",
              "      <td>2024</td>\n",
              "      <td>Manchester City</td>\n",
              "    </tr>\n",
              "    <tr>\n",
              "      <th>4</th>\n",
              "      <td>7</td>\n",
              "      <td>2020-10-24</td>\n",
              "      <td>12:30 (13:30)</td>\n",
              "      <td>Premier League</td>\n",
              "      <td>Matchweek 6</td>\n",
              "      <td>Sat</td>\n",
              "      <td>Away</td>\n",
              "      <td>D</td>\n",
              "      <td>1</td>\n",
              "      <td>1</td>\n",
              "      <td>...</td>\n",
              "      <td>Match Report</td>\n",
              "      <td>NaN</td>\n",
              "      <td>14</td>\n",
              "      <td>7</td>\n",
              "      <td>20.9</td>\n",
              "      <td>1</td>\n",
              "      <td>0</td>\n",
              "      <td>0</td>\n",
              "      <td>2024</td>\n",
              "      <td>Manchester City</td>\n",
              "    </tr>\n",
              "  </tbody>\n",
              "</table>\n",
              "<p>5 rows × 28 columns</p>\n",
              "</div>\n",
              "    <div class=\"colab-df-buttons\">\n",
              "\n",
              "  <div class=\"colab-df-container\">\n",
              "    <button class=\"colab-df-convert\" onclick=\"convertToInteractive('df-771ddd6c-5b04-471e-86b4-eb63e42f7262')\"\n",
              "            title=\"Convert this dataframe to an interactive table.\"\n",
              "            style=\"display:none;\">\n",
              "\n",
              "  <svg xmlns=\"http://www.w3.org/2000/svg\" height=\"24px\" viewBox=\"0 -960 960 960\">\n",
              "    <path d=\"M120-120v-720h720v720H120Zm60-500h600v-160H180v160Zm220 220h160v-160H400v160Zm0 220h160v-160H400v160ZM180-400h160v-160H180v160Zm440 0h160v-160H620v160ZM180-180h160v-160H180v160Zm440 0h160v-160H620v160Z\"/>\n",
              "  </svg>\n",
              "    </button>\n",
              "\n",
              "  <style>\n",
              "    .colab-df-container {\n",
              "      display:flex;\n",
              "      gap: 12px;\n",
              "    }\n",
              "\n",
              "    .colab-df-convert {\n",
              "      background-color: #E8F0FE;\n",
              "      border: none;\n",
              "      border-radius: 50%;\n",
              "      cursor: pointer;\n",
              "      display: none;\n",
              "      fill: #1967D2;\n",
              "      height: 32px;\n",
              "      padding: 0 0 0 0;\n",
              "      width: 32px;\n",
              "    }\n",
              "\n",
              "    .colab-df-convert:hover {\n",
              "      background-color: #E2EBFA;\n",
              "      box-shadow: 0px 1px 2px rgba(60, 64, 67, 0.3), 0px 1px 3px 1px rgba(60, 64, 67, 0.15);\n",
              "      fill: #174EA6;\n",
              "    }\n",
              "\n",
              "    .colab-df-buttons div {\n",
              "      margin-bottom: 4px;\n",
              "    }\n",
              "\n",
              "    [theme=dark] .colab-df-convert {\n",
              "      background-color: #3B4455;\n",
              "      fill: #D2E3FC;\n",
              "    }\n",
              "\n",
              "    [theme=dark] .colab-df-convert:hover {\n",
              "      background-color: #434B5C;\n",
              "      box-shadow: 0px 1px 3px 1px rgba(0, 0, 0, 0.15);\n",
              "      filter: drop-shadow(0px 1px 2px rgba(0, 0, 0, 0.3));\n",
              "      fill: #FFFFFF;\n",
              "    }\n",
              "  </style>\n",
              "\n",
              "    <script>\n",
              "      const buttonEl =\n",
              "        document.querySelector('#df-771ddd6c-5b04-471e-86b4-eb63e42f7262 button.colab-df-convert');\n",
              "      buttonEl.style.display =\n",
              "        google.colab.kernel.accessAllowed ? 'block' : 'none';\n",
              "\n",
              "      async function convertToInteractive(key) {\n",
              "        const element = document.querySelector('#df-771ddd6c-5b04-471e-86b4-eb63e42f7262');\n",
              "        const dataTable =\n",
              "          await google.colab.kernel.invokeFunction('convertToInteractive',\n",
              "                                                    [key], {});\n",
              "        if (!dataTable) return;\n",
              "\n",
              "        const docLinkHtml = 'Like what you see? Visit the ' +\n",
              "          '<a target=\"_blank\" href=https://colab.research.google.com/notebooks/data_table.ipynb>data table notebook</a>'\n",
              "          + ' to learn more about interactive tables.';\n",
              "        element.innerHTML = '';\n",
              "        dataTable['output_type'] = 'display_data';\n",
              "        await google.colab.output.renderOutput(dataTable, element);\n",
              "        const docLink = document.createElement('div');\n",
              "        docLink.innerHTML = docLinkHtml;\n",
              "        element.appendChild(docLink);\n",
              "      }\n",
              "    </script>\n",
              "  </div>\n",
              "\n",
              "\n",
              "<div id=\"df-3e33d47f-ebb9-41a9-98dd-dc711573ef20\">\n",
              "  <button class=\"colab-df-quickchart\" onclick=\"quickchart('df-3e33d47f-ebb9-41a9-98dd-dc711573ef20')\"\n",
              "            title=\"Suggest charts\"\n",
              "            style=\"display:none;\">\n",
              "\n",
              "<svg xmlns=\"http://www.w3.org/2000/svg\" height=\"24px\"viewBox=\"0 0 24 24\"\n",
              "     width=\"24px\">\n",
              "    <g>\n",
              "        <path d=\"M19 3H5c-1.1 0-2 .9-2 2v14c0 1.1.9 2 2 2h14c1.1 0 2-.9 2-2V5c0-1.1-.9-2-2-2zM9 17H7v-7h2v7zm4 0h-2V7h2v10zm4 0h-2v-4h2v4z\"/>\n",
              "    </g>\n",
              "</svg>\n",
              "  </button>\n",
              "\n",
              "<style>\n",
              "  .colab-df-quickchart {\n",
              "      --bg-color: #E8F0FE;\n",
              "      --fill-color: #1967D2;\n",
              "      --hover-bg-color: #E2EBFA;\n",
              "      --hover-fill-color: #174EA6;\n",
              "      --disabled-fill-color: #AAA;\n",
              "      --disabled-bg-color: #DDD;\n",
              "  }\n",
              "\n",
              "  [theme=dark] .colab-df-quickchart {\n",
              "      --bg-color: #3B4455;\n",
              "      --fill-color: #D2E3FC;\n",
              "      --hover-bg-color: #434B5C;\n",
              "      --hover-fill-color: #FFFFFF;\n",
              "      --disabled-bg-color: #3B4455;\n",
              "      --disabled-fill-color: #666;\n",
              "  }\n",
              "\n",
              "  .colab-df-quickchart {\n",
              "    background-color: var(--bg-color);\n",
              "    border: none;\n",
              "    border-radius: 50%;\n",
              "    cursor: pointer;\n",
              "    display: none;\n",
              "    fill: var(--fill-color);\n",
              "    height: 32px;\n",
              "    padding: 0;\n",
              "    width: 32px;\n",
              "  }\n",
              "\n",
              "  .colab-df-quickchart:hover {\n",
              "    background-color: var(--hover-bg-color);\n",
              "    box-shadow: 0 1px 2px rgba(60, 64, 67, 0.3), 0 1px 3px 1px rgba(60, 64, 67, 0.15);\n",
              "    fill: var(--button-hover-fill-color);\n",
              "  }\n",
              "\n",
              "  .colab-df-quickchart-complete:disabled,\n",
              "  .colab-df-quickchart-complete:disabled:hover {\n",
              "    background-color: var(--disabled-bg-color);\n",
              "    fill: var(--disabled-fill-color);\n",
              "    box-shadow: none;\n",
              "  }\n",
              "\n",
              "  .colab-df-spinner {\n",
              "    border: 2px solid var(--fill-color);\n",
              "    border-color: transparent;\n",
              "    border-bottom-color: var(--fill-color);\n",
              "    animation:\n",
              "      spin 1s steps(1) infinite;\n",
              "  }\n",
              "\n",
              "  @keyframes spin {\n",
              "    0% {\n",
              "      border-color: transparent;\n",
              "      border-bottom-color: var(--fill-color);\n",
              "      border-left-color: var(--fill-color);\n",
              "    }\n",
              "    20% {\n",
              "      border-color: transparent;\n",
              "      border-left-color: var(--fill-color);\n",
              "      border-top-color: var(--fill-color);\n",
              "    }\n",
              "    30% {\n",
              "      border-color: transparent;\n",
              "      border-left-color: var(--fill-color);\n",
              "      border-top-color: var(--fill-color);\n",
              "      border-right-color: var(--fill-color);\n",
              "    }\n",
              "    40% {\n",
              "      border-color: transparent;\n",
              "      border-right-color: var(--fill-color);\n",
              "      border-top-color: var(--fill-color);\n",
              "    }\n",
              "    60% {\n",
              "      border-color: transparent;\n",
              "      border-right-color: var(--fill-color);\n",
              "    }\n",
              "    80% {\n",
              "      border-color: transparent;\n",
              "      border-right-color: var(--fill-color);\n",
              "      border-bottom-color: var(--fill-color);\n",
              "    }\n",
              "    90% {\n",
              "      border-color: transparent;\n",
              "      border-bottom-color: var(--fill-color);\n",
              "    }\n",
              "  }\n",
              "</style>\n",
              "\n",
              "  <script>\n",
              "    async function quickchart(key) {\n",
              "      const quickchartButtonEl =\n",
              "        document.querySelector('#' + key + ' button');\n",
              "      quickchartButtonEl.disabled = true;  // To prevent multiple clicks.\n",
              "      quickchartButtonEl.classList.add('colab-df-spinner');\n",
              "      try {\n",
              "        const charts = await google.colab.kernel.invokeFunction(\n",
              "            'suggestCharts', [key], {});\n",
              "      } catch (error) {\n",
              "        console.error('Error during call to suggestCharts:', error);\n",
              "      }\n",
              "      quickchartButtonEl.classList.remove('colab-df-spinner');\n",
              "      quickchartButtonEl.classList.add('colab-df-quickchart-complete');\n",
              "    }\n",
              "    (() => {\n",
              "      let quickchartButtonEl =\n",
              "        document.querySelector('#df-3e33d47f-ebb9-41a9-98dd-dc711573ef20 button');\n",
              "      quickchartButtonEl.style.display =\n",
              "        google.colab.kernel.accessAllowed ? 'block' : 'none';\n",
              "    })();\n",
              "  </script>\n",
              "</div>\n",
              "\n",
              "    </div>\n",
              "  </div>\n"
            ],
            "application/vnd.google.colaboratory.intrinsic+json": {
              "type": "dataframe",
              "variable_name": "df"
            }
          },
          "metadata": {},
          "execution_count": 89
        }
      ]
    },
    {
      "cell_type": "code",
      "source": [
        "\n",
        "df['win'] = (df['result']=='W') * 1\n",
        "df['win'].head()"
      ],
      "metadata": {
        "colab": {
          "base_uri": "https://localhost:8080/",
          "height": 241
        },
        "id": "znAz-uLbStt-",
        "outputId": "abb22b9b-68e3-44da-c15d-5ed85ca7047b"
      },
      "execution_count": null,
      "outputs": [
        {
          "output_type": "execute_result",
          "data": {
            "text/plain": [
              "0    1\n",
              "1    0\n",
              "2    0\n",
              "3    1\n",
              "4    0\n",
              "Name: win, dtype: int64"
            ],
            "text/html": [
              "<div>\n",
              "<style scoped>\n",
              "    .dataframe tbody tr th:only-of-type {\n",
              "        vertical-align: middle;\n",
              "    }\n",
              "\n",
              "    .dataframe tbody tr th {\n",
              "        vertical-align: top;\n",
              "    }\n",
              "\n",
              "    .dataframe thead th {\n",
              "        text-align: right;\n",
              "    }\n",
              "</style>\n",
              "<table border=\"1\" class=\"dataframe\">\n",
              "  <thead>\n",
              "    <tr style=\"text-align: right;\">\n",
              "      <th></th>\n",
              "      <th>win</th>\n",
              "    </tr>\n",
              "  </thead>\n",
              "  <tbody>\n",
              "    <tr>\n",
              "      <th>0</th>\n",
              "      <td>1</td>\n",
              "    </tr>\n",
              "    <tr>\n",
              "      <th>1</th>\n",
              "      <td>0</td>\n",
              "    </tr>\n",
              "    <tr>\n",
              "      <th>2</th>\n",
              "      <td>0</td>\n",
              "    </tr>\n",
              "    <tr>\n",
              "      <th>3</th>\n",
              "      <td>1</td>\n",
              "    </tr>\n",
              "    <tr>\n",
              "      <th>4</th>\n",
              "      <td>0</td>\n",
              "    </tr>\n",
              "  </tbody>\n",
              "</table>\n",
              "</div><br><label><b>dtype:</b> int64</label>"
            ]
          },
          "metadata": {},
          "execution_count": 90
        }
      ]
    },
    {
      "cell_type": "code",
      "source": [
        "from sklearn.model_selection import train_test_split"
      ],
      "metadata": {
        "id": "R3-QjfFnXw3L"
      },
      "execution_count": null,
      "outputs": []
    },
    {
      "cell_type": "code",
      "source": [
        "train_set, test_set = train_test_split(df, test_size = 0.2, shuffle = True)"
      ],
      "metadata": {
        "id": "HSn8zFjrsRub"
      },
      "execution_count": null,
      "outputs": []
    },
    {
      "cell_type": "code",
      "source": [
        "def Attribute_selection_method(dataFrame, target, measure):\n",
        "  features = dataFrame.columns[dataFrame.columns != target]\n",
        "  # splittingMeasure = dataFrame.columns[df.columns[1] if df.columns[1] != target else df.columns[2]]\n",
        "  if measure == 'entropy':\n",
        "    # calculate max entropy\n",
        "    for feature in features:\n",
        "      entropiesList = []\n",
        "      counts = np.bincount(feature) #change to props stuff\n",
        "      countProb = counts/len(features)\n",
        "      entropyValue = -np.sum(countProb * np.log2(countProb))\n",
        "      entropiesList.append(entropyValue)\n",
        "      return features[entropiesList.index(min(entropiesList))]\n",
        "\n",
        "\n",
        "  elif measure == 'gini':\n",
        "    # calculate max entropy\n",
        "    for feature in features:\n",
        "      giniList = []\n",
        "      counts = np.bincount(feature)\n",
        "      countProb = counts/len(features)\n",
        "      giniValue = 1 - np.sum(np.square(countProb))\n",
        "      giniList.append(giniValue)\n",
        "      return features[giniList.index(max(giniList))]\n",
        "\n",
        "  else:\n",
        "    return None\n"
      ],
      "metadata": {
        "id": "sDqFc6k44sC_"
      },
      "execution_count": null,
      "outputs": []
    },
    {
      "cell_type": "code",
      "source": [
        "target = \"win\"\n",
        "attribute = \"xga\""
      ],
      "metadata": {
        "id": "VXV2kCeNWF1N"
      },
      "execution_count": null,
      "outputs": []
    },
    {
      "cell_type": "code",
      "source": [
        "vals = df[attribute].unique()\n",
        "vals"
      ],
      "metadata": {
        "colab": {
          "base_uri": "https://localhost:8080/"
        },
        "id": "79uCCPYuWY7E",
        "outputId": "add6587d-d052-4070-9468-2aad60a3b7db"
      },
      "execution_count": null,
      "outputs": [
        {
          "output_type": "execute_result",
          "data": {
            "text/plain": [
              "array([0.6, 2.9, 2.4, 0.9, 0.3, 0.5, 1.2, 0.7, 0.4, 0.8, 0.2, 0.1, 1. ,\n",
              "       1.5, 1.7, 1.6, 2.2, 1.1, 2.5, 3.4, 2. , 1.3, 1.8, 1.4, 2.7, 2.3,\n",
              "       3.5, 1.9, 2.1, 3.1, 2.6, 4.1, 3.6, 0. , 3.3, 3. , 3.2, 3.9, 2.8,\n",
              "       4.7, 3.7, 4. , 3.8, 7. , 4.5, 4.2, 5.2, 4.4, 4.3, 5.9, 4.6])"
            ]
          },
          "metadata": {},
          "execution_count": 95
        }
      ]
    },
    {
      "cell_type": "code",
      "source": [
        "props = df[df[attribute] == vals[8]][target].value_counts(normalize=True)\n",
        "props"
      ],
      "metadata": {
        "colab": {
          "base_uri": "https://localhost:8080/",
          "height": 178
        },
        "id": "-IXgcPE0WZLf",
        "outputId": "a9801132-7968-40b4-809c-18b560d65095"
      },
      "execution_count": null,
      "outputs": [
        {
          "output_type": "execute_result",
          "data": {
            "text/plain": [
              "win\n",
              "1    0.649425\n",
              "0    0.350575\n",
              "Name: proportion, dtype: float64"
            ],
            "text/html": [
              "<div>\n",
              "<style scoped>\n",
              "    .dataframe tbody tr th:only-of-type {\n",
              "        vertical-align: middle;\n",
              "    }\n",
              "\n",
              "    .dataframe tbody tr th {\n",
              "        vertical-align: top;\n",
              "    }\n",
              "\n",
              "    .dataframe thead th {\n",
              "        text-align: right;\n",
              "    }\n",
              "</style>\n",
              "<table border=\"1\" class=\"dataframe\">\n",
              "  <thead>\n",
              "    <tr style=\"text-align: right;\">\n",
              "      <th></th>\n",
              "      <th>proportion</th>\n",
              "    </tr>\n",
              "    <tr>\n",
              "      <th>win</th>\n",
              "      <th></th>\n",
              "    </tr>\n",
              "  </thead>\n",
              "  <tbody>\n",
              "    <tr>\n",
              "      <th>1</th>\n",
              "      <td>0.649425</td>\n",
              "    </tr>\n",
              "    <tr>\n",
              "      <th>0</th>\n",
              "      <td>0.350575</td>\n",
              "    </tr>\n",
              "  </tbody>\n",
              "</table>\n",
              "</div><br><label><b>dtype:</b> float64</label>"
            ]
          },
          "metadata": {},
          "execution_count": 96
        }
      ]
    },
    {
      "cell_type": "code",
      "source": [
        "entropy = 0\n",
        "for i in range(len(props)):\n",
        "  entropy = entropy - props[i]*math.log2(props[i])\n",
        "entropy"
      ],
      "metadata": {
        "colab": {
          "base_uri": "https://localhost:8080/"
        },
        "id": "wXtgTg1FWZgW",
        "outputId": "e3693444-40fa-4d54-e476-9888a490ea60"
      },
      "execution_count": null,
      "outputs": [
        {
          "output_type": "execute_result",
          "data": {
            "text/plain": [
              "0.9345802754794623"
            ]
          },
          "metadata": {},
          "execution_count": 97
        }
      ]
    },
    {
      "cell_type": "code",
      "source": [
        "entropy = 0\n",
        "entropyLists = []\n",
        "for val in vals:\n",
        "  weight = (len(df[df[attribute] == val])) /(len(df))\n",
        "  props = df[df[attribute] == val][target].value_counts(normalize=True)\n",
        "  for p in range(len(props)):\n",
        "    entropy = entropy - weight*(p*(np.log2)(p))\n",
        "    entropyLists.append(entropy)\n",
        "returnValue = vals[entropyLists.index(min(entropyLists))]\n",
        "returnValue\n"
      ],
      "metadata": {
        "colab": {
          "base_uri": "https://localhost:8080/"
        },
        "id": "_YkXsgoQXcDf",
        "outputId": "367e3e16-1d14-4028-b279-008a2c59e3be"
      },
      "execution_count": null,
      "outputs": [
        {
          "output_type": "stream",
          "name": "stderr",
          "text": [
            "<ipython-input-98-60b436c7c705>:7: RuntimeWarning: divide by zero encountered in log2\n",
            "  entropy = entropy - weight*(p*(np.log2)(p))\n",
            "<ipython-input-98-60b436c7c705>:7: RuntimeWarning: invalid value encountered in scalar multiply\n",
            "  entropy = entropy - weight*(p*(np.log2)(p))\n"
          ]
        },
        {
          "output_type": "execute_result",
          "data": {
            "text/plain": [
              "0.6"
            ]
          },
          "metadata": {},
          "execution_count": 98
        }
      ]
    },
    {
      "cell_type": "code",
      "source": [
        "giniImpurity = 0\n",
        "giniLists = []\n",
        "for val in vals:\n",
        "  weight = (len(df[df[attribute] == val])) /(len(df))\n",
        "  props = df[df[attribute] == val][target].value_counts(normalize=True)\n",
        "  for p in range(len(props)):\n",
        "    gini = 1 - np.sum(np.square(p))\n",
        "    giniLists.append(gini)\n",
        "returnValue = vals[giniLists.index(max(giniLists))]\n",
        "returnValue"
      ],
      "metadata": {
        "colab": {
          "base_uri": "https://localhost:8080/"
        },
        "id": "vfG_d_FSXcTU",
        "outputId": "dca2bd38-a0c7-4cbb-a87a-2d7122640e0b"
      },
      "execution_count": null,
      "outputs": [
        {
          "output_type": "execute_result",
          "data": {
            "text/plain": [
              "0.6"
            ]
          },
          "metadata": {},
          "execution_count": 99
        }
      ]
    },
    {
      "cell_type": "code",
      "source": [
        "\n",
        "def attribute_selection_method2(df, target, measure):\n",
        "\n",
        "  vals = df[target].unique()\n",
        "  features = df.columns.drop(target)\n",
        "\n",
        "  if measure == 'entropy':\n",
        "    entropyLists = []\n",
        "    for feature in features:\n",
        "      entropy = 0\n",
        "      for val in vals:\n",
        "        weight = (len(df[df[feature] != val])) /(len(df))\n",
        "        props = df[df[feature] == val][target].value_counts(normalize=True)\n",
        "        for p in props:\n",
        "          entropy = entropy - weight*(p*(np.log2)(p))\n",
        "          entropyLists.append(entropy)\n",
        "    return features[np.argmin(entropyLists)]\n",
        "\n",
        "  if measure == 'gini':\n",
        "    giniLists = []\n",
        "    for feature in features:\n",
        "      gini = 0\n",
        "      for val in vals:\n",
        "        weight = (len(df[df[feature] == val])) /(len(df))\n",
        "        props = df[df[feature] == val][target].value_counts(normalize=True)\n",
        "        for p in props:\n",
        "          gini = 1 - (weight * np.sum(np.square(p)))\n",
        "          giniLists.append(gini)\n",
        "    return features[np.argmin(giniLists)]\n",
        "\n",
        "  else:\n",
        "    raise ValueError(\"Measure must be 'entropy' or 'gini'\")\n",
        "\n",
        "\n",
        "\n",
        "\n"
      ],
      "metadata": {
        "id": "5384pe3FXci7"
      },
      "execution_count": null,
      "outputs": []
    },
    {
      "cell_type": "code",
      "source": [
        "def attribute_selection_method3(df, target, measure):\n",
        "    # ... (rest of the function code)\n",
        "    if measure == 'entropy':\n",
        "        entropyList = []\n",
        "        features = df.columns.drop(target)\n",
        "        for feature in features:\n",
        "            classes = df[target].unique()\n",
        "            entropy = 0\n",
        "            # Calculate Gini index for each feature\n",
        "            for Class in classes:\n",
        "                df_sub = df[df[target] == Class]\n",
        "                p = len(df_sub)/len(df)\n",
        "                if len(df[feature].unique()) == 1: # If the feature has only one value\n",
        "                    entropy = 0\n",
        "                else:\n",
        "                    for value in df[feature].unique():\n",
        "                        df_sub2 = df_sub[df_sub[feature] == value]\n",
        "                        weight = len(df_sub2)/len(df_sub)\n",
        "                        p = len(df_sub2)/len(df)\n",
        "                        # Calculate Gini impurity for each value of the feature\n",
        "                        entropy = entropy - weight*(p*(np.log2)(p))\n",
        "                entropyList.append(entropy) # Append the calculated Gini index to the list\n",
        "        return features[np.argmin(entropyList)] # Return the feature with the lowest Gini index\n",
        "\n",
        "\n",
        "    if measure == 'gini':\n",
        "        giniLists = []\n",
        "        features = df.columns.drop(target)\n",
        "        for feature in features:\n",
        "            classes = df[target].unique()\n",
        "            gini = 0\n",
        "            # Calculate Gini index for each feature\n",
        "            for Class in classes:\n",
        "                df_sub = df[df[target] == Class]\n",
        "                p = len(df_sub)/len(df)\n",
        "                if len(df[feature].unique()) == 1: # If the feature has only one value\n",
        "                    gini = 0\n",
        "                else:\n",
        "                    for value in df[feature].unique():\n",
        "                        df_sub2 = df_sub[df_sub[feature] == value]\n",
        "                        weight = len(df_sub2)/len(df_sub)\n",
        "                        p = len(df_sub2)/len(df)\n",
        "                        # Calculate Gini impurity for each value of the feature\n",
        "                        gini = 1 - (weight * np.sum(np.square(p)))\n",
        "                giniLists.append(gini) # Append the calculated Gini index to the list\n",
        "        return features[np.argmin(giniLists)] # Return the feature with the lowest Gini index\n",
        "\n",
        "\n",
        "    else:\n",
        "            raise ValueError(\"Measure must be 'entropy' or 'gini'\")\n",
        "\n",
        "    # ... (rest of the function code)"
      ],
      "metadata": {
        "id": "x1Enl97HXczV"
      },
      "execution_count": null,
      "outputs": []
    },
    {
      "cell_type": "code",
      "source": [
        "def compute_entropy(df, feature, target, vals):\n",
        "    entropy = 0\n",
        "    for val in vals:\n",
        "        subset = df[df[feature] == val]\n",
        "        weight = len(subset) / len(df)\n",
        "        props = subset[target].value_counts(normalize=True)\n",
        "        for p in props:\n",
        "            entropy -= weight * p * np.log2(p) if p > 0 else 0\n",
        "    return entropy\n",
        "\n",
        "def compute_gini(df, feature, target, vals):\n",
        "    gini = 0\n",
        "    for val in vals:\n",
        "        subset = df[df[feature] == val]\n",
        "        weight = len(subset) / len(df)\n",
        "        props = subset[target].value_counts(normalize=True)\n",
        "        gini += weight * (1 - np.sum(np.square(props)))\n",
        "    return gini\n",
        "\n",
        "def attribute_selection_method4(df, target, measure):\n",
        "    vals = df[target].unique()\n",
        "    features = df.columns.drop(target)\n",
        "\n",
        "    if measure == 'entropy':\n",
        "        entropy_values = [compute_entropy(df, feature, target, vals) for feature in features]\n",
        "        return features[np.argmin(entropy_values)]\n",
        "\n",
        "    elif measure == 'gini':\n",
        "        gini_values = [compute_gini(df, feature, target, vals) for feature in features]\n",
        "        return features[np.argmin(gini_values)]\n",
        "\n",
        "    else:\n",
        "        raise ValueError(\"Measure must be 'entropy' or 'gini'\")"
      ],
      "metadata": {
        "id": "0SaIxyBI1CQq"
      },
      "execution_count": null,
      "outputs": []
    },
    {
      "cell_type": "code",
      "source": [
        "train_set.columns"
      ],
      "metadata": {
        "colab": {
          "base_uri": "https://localhost:8080/"
        },
        "id": "-K2F9BYRA26a",
        "outputId": "d2d9c853-7f5a-4293-e01c-928e757ef483"
      },
      "execution_count": null,
      "outputs": [
        {
          "output_type": "execute_result",
          "data": {
            "text/plain": [
              "Index(['Unnamed: 0', 'date', 'time', 'comp', 'round', 'day', 'venue', 'result',\n",
              "       'gf', 'ga', 'opponent', 'xg', 'xga', 'poss', 'attendance', 'captain',\n",
              "       'formation', 'referee', 'match report', 'notes', 'sh', 'sot', 'dist',\n",
              "       'fk', 'pk', 'pkatt', 'season', 'team', 'win'],\n",
              "      dtype='object')"
            ]
          },
          "metadata": {},
          "execution_count": 103
        }
      ]
    },
    {
      "cell_type": "code",
      "source": [
        "train_set = train_set[['date', 'time', 'comp', 'day', 'round', 'venue', 'xga', 'poss', 'sot', 'fk', 'pk', 'win']]"
      ],
      "metadata": {
        "id": "VRm53wNhA5_j"
      },
      "execution_count": null,
      "outputs": []
    },
    {
      "cell_type": "code",
      "source": [
        "test_set = test_set[['round', 'venue', 'xga', 'poss', 'sot', 'fk', 'pk', 'win']]"
      ],
      "metadata": {
        "id": "yN2c-cgwD2Js"
      },
      "execution_count": null,
      "outputs": []
    },
    {
      "cell_type": "code",
      "source": [
        "X_train = train_set[['round', 'venue', 'xga', 'poss', 'sot', 'fk', 'pk']]\n",
        "y_train = train_set[['win']]"
      ],
      "metadata": {
        "id": "_PB8gKM_EyQN"
      },
      "execution_count": null,
      "outputs": []
    },
    {
      "cell_type": "code",
      "source": [
        "X_test = test_set[['round', 'venue', 'xga', 'poss', 'sot', 'fk', 'pk']]\n",
        "y_test = test_set[['win']]"
      ],
      "metadata": {
        "id": "f6Hvc82rFAU_"
      },
      "execution_count": null,
      "outputs": []
    },
    {
      "cell_type": "code",
      "source": [
        "from sklearn.tree import DecisionTreeClassifier"
      ],
      "metadata": {
        "id": "1i36PYcbFPMv"
      },
      "execution_count": null,
      "outputs": []
    },
    {
      "cell_type": "code",
      "source": [
        "from sklearn.preprocessing import StandardScaler, OneHotEncoder\n",
        "from sklearn.pipeline import Pipeline\n",
        "from sklearn.compose import ColumnTransformer\n",
        "from sklearn.model_selection import cross_val_score\n",
        "from sklearn.tree import plot_tree"
      ],
      "metadata": {
        "id": "-CQO9FM1FSLB"
      },
      "execution_count": null,
      "outputs": []
    },
    {
      "cell_type": "code",
      "source": [
        "X_train.info()"
      ],
      "metadata": {
        "colab": {
          "base_uri": "https://localhost:8080/"
        },
        "id": "m1qF0PALFVJV",
        "outputId": "f066d9e9-0018-47e9-a93c-308dff7160d2"
      },
      "execution_count": null,
      "outputs": [
        {
          "output_type": "stream",
          "name": "stdout",
          "text": [
            "<class 'pandas.core.frame.DataFrame'>\n",
            "Index: 3830 entries, 1927 to 1517\n",
            "Data columns (total 7 columns):\n",
            " #   Column  Non-Null Count  Dtype  \n",
            "---  ------  --------------  -----  \n",
            " 0   round   3830 non-null   object \n",
            " 1   venue   3830 non-null   object \n",
            " 2   xga     3830 non-null   float64\n",
            " 3   poss    3830 non-null   int64  \n",
            " 4   sot     3830 non-null   int64  \n",
            " 5   fk      3830 non-null   int64  \n",
            " 6   pk      3830 non-null   int64  \n",
            "dtypes: float64(1), int64(4), object(2)\n",
            "memory usage: 239.4+ KB\n"
          ]
        }
      ]
    },
    {
      "cell_type": "code",
      "source": [
        "num_attributes = X_train.select_dtypes(include = ['int64', 'float64']).columns\n",
        "cat_attributes = X_train.select_dtypes(include = ['object']).columns"
      ],
      "metadata": {
        "id": "xpHVTdm8Fkiq"
      },
      "execution_count": null,
      "outputs": []
    },
    {
      "cell_type": "code",
      "source": [
        "trf = [ ('num', StandardScaler(), num_attributes),\n",
        "       ('cat', OneHotEncoder( handle_unknown='ignore'), cat_attributes) ]\n",
        "col_transform = ColumnTransformer( transformers = trf )"
      ],
      "metadata": {
        "id": "3B-eg6NcGK0y"
      },
      "execution_count": null,
      "outputs": []
    },
    {
      "cell_type": "code",
      "source": [
        "pipeline = Pipeline( steps = [('pre', col_transform),\n",
        " ('clf', DecisionTreeClassifier(max_depth=4))])"
      ],
      "metadata": {
        "id": "_fwhn0aRmGJR"
      },
      "execution_count": null,
      "outputs": []
    },
    {
      "cell_type": "code",
      "source": [
        "cross_val_score( pipeline, X_train, y_train, cv=5, scoring='accuracy')"
      ],
      "metadata": {
        "id": "pZG0znESmNCN",
        "outputId": "3cacd555-d08c-4ab1-ac33-b164a0e0f0e5",
        "colab": {
          "base_uri": "https://localhost:8080/"
        }
      },
      "execution_count": null,
      "outputs": [
        {
          "output_type": "execute_result",
          "data": {
            "text/plain": [
              "array([0.73890339, 0.72976501, 0.69843342, 0.72976501, 0.72976501])"
            ]
          },
          "metadata": {},
          "execution_count": 114
        }
      ]
    },
    {
      "cell_type": "code",
      "source": [
        "cross_val_score( pipeline, X_train, y_train, cv=5, scoring='f1')"
      ],
      "metadata": {
        "colab": {
          "base_uri": "https://localhost:8080/"
        },
        "id": "IPY9x-WmpGCg",
        "outputId": "50f35509-ca03-4edc-be2c-6bcecfdaecf1"
      },
      "execution_count": null,
      "outputs": [
        {
          "output_type": "execute_result",
          "data": {
            "text/plain": [
              "array([0.64788732, 0.57494867, 0.54794521, 0.59491194, 0.60115607])"
            ]
          },
          "metadata": {},
          "execution_count": 115
        }
      ]
    },
    {
      "cell_type": "code",
      "source": [
        "model = pipeline.fit( X_train, y_train )\n",
        "model"
      ],
      "metadata": {
        "id": "783g0GQYnDxK",
        "outputId": "eb3188a5-79fd-41ba-e819-8d5487137a12",
        "colab": {
          "base_uri": "https://localhost:8080/",
          "height": 192
        }
      },
      "execution_count": null,
      "outputs": [
        {
          "output_type": "execute_result",
          "data": {
            "text/plain": [
              "Pipeline(steps=[('pre',\n",
              "                 ColumnTransformer(transformers=[('num', StandardScaler(),\n",
              "                                                  Index(['xga', 'poss', 'sot', 'fk', 'pk'], dtype='object')),\n",
              "                                                 ('cat',\n",
              "                                                  OneHotEncoder(handle_unknown='ignore'),\n",
              "                                                  Index(['round', 'venue'], dtype='object'))])),\n",
              "                ('clf', DecisionTreeClassifier(max_depth=4))])"
            ],
            "text/html": [
              "<style>#sk-container-id-3 {color: black;}#sk-container-id-3 pre{padding: 0;}#sk-container-id-3 div.sk-toggleable {background-color: white;}#sk-container-id-3 label.sk-toggleable__label {cursor: pointer;display: block;width: 100%;margin-bottom: 0;padding: 0.3em;box-sizing: border-box;text-align: center;}#sk-container-id-3 label.sk-toggleable__label-arrow:before {content: \"▸\";float: left;margin-right: 0.25em;color: #696969;}#sk-container-id-3 label.sk-toggleable__label-arrow:hover:before {color: black;}#sk-container-id-3 div.sk-estimator:hover label.sk-toggleable__label-arrow:before {color: black;}#sk-container-id-3 div.sk-toggleable__content {max-height: 0;max-width: 0;overflow: hidden;text-align: left;background-color: #f0f8ff;}#sk-container-id-3 div.sk-toggleable__content pre {margin: 0.2em;color: black;border-radius: 0.25em;background-color: #f0f8ff;}#sk-container-id-3 input.sk-toggleable__control:checked~div.sk-toggleable__content {max-height: 200px;max-width: 100%;overflow: auto;}#sk-container-id-3 input.sk-toggleable__control:checked~label.sk-toggleable__label-arrow:before {content: \"▾\";}#sk-container-id-3 div.sk-estimator input.sk-toggleable__control:checked~label.sk-toggleable__label {background-color: #d4ebff;}#sk-container-id-3 div.sk-label input.sk-toggleable__control:checked~label.sk-toggleable__label {background-color: #d4ebff;}#sk-container-id-3 input.sk-hidden--visually {border: 0;clip: rect(1px 1px 1px 1px);clip: rect(1px, 1px, 1px, 1px);height: 1px;margin: -1px;overflow: hidden;padding: 0;position: absolute;width: 1px;}#sk-container-id-3 div.sk-estimator {font-family: monospace;background-color: #f0f8ff;border: 1px dotted black;border-radius: 0.25em;box-sizing: border-box;margin-bottom: 0.5em;}#sk-container-id-3 div.sk-estimator:hover {background-color: #d4ebff;}#sk-container-id-3 div.sk-parallel-item::after {content: \"\";width: 100%;border-bottom: 1px solid gray;flex-grow: 1;}#sk-container-id-3 div.sk-label:hover label.sk-toggleable__label {background-color: #d4ebff;}#sk-container-id-3 div.sk-serial::before {content: \"\";position: absolute;border-left: 1px solid gray;box-sizing: border-box;top: 0;bottom: 0;left: 50%;z-index: 0;}#sk-container-id-3 div.sk-serial {display: flex;flex-direction: column;align-items: center;background-color: white;padding-right: 0.2em;padding-left: 0.2em;position: relative;}#sk-container-id-3 div.sk-item {position: relative;z-index: 1;}#sk-container-id-3 div.sk-parallel {display: flex;align-items: stretch;justify-content: center;background-color: white;position: relative;}#sk-container-id-3 div.sk-item::before, #sk-container-id-3 div.sk-parallel-item::before {content: \"\";position: absolute;border-left: 1px solid gray;box-sizing: border-box;top: 0;bottom: 0;left: 50%;z-index: -1;}#sk-container-id-3 div.sk-parallel-item {display: flex;flex-direction: column;z-index: 1;position: relative;background-color: white;}#sk-container-id-3 div.sk-parallel-item:first-child::after {align-self: flex-end;width: 50%;}#sk-container-id-3 div.sk-parallel-item:last-child::after {align-self: flex-start;width: 50%;}#sk-container-id-3 div.sk-parallel-item:only-child::after {width: 0;}#sk-container-id-3 div.sk-dashed-wrapped {border: 1px dashed gray;margin: 0 0.4em 0.5em 0.4em;box-sizing: border-box;padding-bottom: 0.4em;background-color: white;}#sk-container-id-3 div.sk-label label {font-family: monospace;font-weight: bold;display: inline-block;line-height: 1.2em;}#sk-container-id-3 div.sk-label-container {text-align: center;}#sk-container-id-3 div.sk-container {/* jupyter's `normalize.less` sets `[hidden] { display: none; }` but bootstrap.min.css set `[hidden] { display: none !important; }` so we also need the `!important` here to be able to override the default hidden behavior on the sphinx rendered scikit-learn.org. See: https://github.com/scikit-learn/scikit-learn/issues/21755 */display: inline-block !important;position: relative;}#sk-container-id-3 div.sk-text-repr-fallback {display: none;}</style><div id=\"sk-container-id-3\" class=\"sk-top-container\"><div class=\"sk-text-repr-fallback\"><pre>Pipeline(steps=[(&#x27;pre&#x27;,\n",
              "                 ColumnTransformer(transformers=[(&#x27;num&#x27;, StandardScaler(),\n",
              "                                                  Index([&#x27;xga&#x27;, &#x27;poss&#x27;, &#x27;sot&#x27;, &#x27;fk&#x27;, &#x27;pk&#x27;], dtype=&#x27;object&#x27;)),\n",
              "                                                 (&#x27;cat&#x27;,\n",
              "                                                  OneHotEncoder(handle_unknown=&#x27;ignore&#x27;),\n",
              "                                                  Index([&#x27;round&#x27;, &#x27;venue&#x27;], dtype=&#x27;object&#x27;))])),\n",
              "                (&#x27;clf&#x27;, DecisionTreeClassifier(max_depth=4))])</pre><b>In a Jupyter environment, please rerun this cell to show the HTML representation or trust the notebook. <br />On GitHub, the HTML representation is unable to render, please try loading this page with nbviewer.org.</b></div><div class=\"sk-container\" hidden><div class=\"sk-item sk-dashed-wrapped\"><div class=\"sk-label-container\"><div class=\"sk-label sk-toggleable\"><input class=\"sk-toggleable__control sk-hidden--visually\" id=\"sk-estimator-id-15\" type=\"checkbox\" ><label for=\"sk-estimator-id-15\" class=\"sk-toggleable__label sk-toggleable__label-arrow\">Pipeline</label><div class=\"sk-toggleable__content\"><pre>Pipeline(steps=[(&#x27;pre&#x27;,\n",
              "                 ColumnTransformer(transformers=[(&#x27;num&#x27;, StandardScaler(),\n",
              "                                                  Index([&#x27;xga&#x27;, &#x27;poss&#x27;, &#x27;sot&#x27;, &#x27;fk&#x27;, &#x27;pk&#x27;], dtype=&#x27;object&#x27;)),\n",
              "                                                 (&#x27;cat&#x27;,\n",
              "                                                  OneHotEncoder(handle_unknown=&#x27;ignore&#x27;),\n",
              "                                                  Index([&#x27;round&#x27;, &#x27;venue&#x27;], dtype=&#x27;object&#x27;))])),\n",
              "                (&#x27;clf&#x27;, DecisionTreeClassifier(max_depth=4))])</pre></div></div></div><div class=\"sk-serial\"><div class=\"sk-item sk-dashed-wrapped\"><div class=\"sk-label-container\"><div class=\"sk-label sk-toggleable\"><input class=\"sk-toggleable__control sk-hidden--visually\" id=\"sk-estimator-id-16\" type=\"checkbox\" ><label for=\"sk-estimator-id-16\" class=\"sk-toggleable__label sk-toggleable__label-arrow\">pre: ColumnTransformer</label><div class=\"sk-toggleable__content\"><pre>ColumnTransformer(transformers=[(&#x27;num&#x27;, StandardScaler(),\n",
              "                                 Index([&#x27;xga&#x27;, &#x27;poss&#x27;, &#x27;sot&#x27;, &#x27;fk&#x27;, &#x27;pk&#x27;], dtype=&#x27;object&#x27;)),\n",
              "                                (&#x27;cat&#x27;, OneHotEncoder(handle_unknown=&#x27;ignore&#x27;),\n",
              "                                 Index([&#x27;round&#x27;, &#x27;venue&#x27;], dtype=&#x27;object&#x27;))])</pre></div></div></div><div class=\"sk-parallel\"><div class=\"sk-parallel-item\"><div class=\"sk-item\"><div class=\"sk-label-container\"><div class=\"sk-label sk-toggleable\"><input class=\"sk-toggleable__control sk-hidden--visually\" id=\"sk-estimator-id-17\" type=\"checkbox\" ><label for=\"sk-estimator-id-17\" class=\"sk-toggleable__label sk-toggleable__label-arrow\">num</label><div class=\"sk-toggleable__content\"><pre>Index([&#x27;xga&#x27;, &#x27;poss&#x27;, &#x27;sot&#x27;, &#x27;fk&#x27;, &#x27;pk&#x27;], dtype=&#x27;object&#x27;)</pre></div></div></div><div class=\"sk-serial\"><div class=\"sk-item\"><div class=\"sk-estimator sk-toggleable\"><input class=\"sk-toggleable__control sk-hidden--visually\" id=\"sk-estimator-id-18\" type=\"checkbox\" ><label for=\"sk-estimator-id-18\" class=\"sk-toggleable__label sk-toggleable__label-arrow\">StandardScaler</label><div class=\"sk-toggleable__content\"><pre>StandardScaler()</pre></div></div></div></div></div></div><div class=\"sk-parallel-item\"><div class=\"sk-item\"><div class=\"sk-label-container\"><div class=\"sk-label sk-toggleable\"><input class=\"sk-toggleable__control sk-hidden--visually\" id=\"sk-estimator-id-19\" type=\"checkbox\" ><label for=\"sk-estimator-id-19\" class=\"sk-toggleable__label sk-toggleable__label-arrow\">cat</label><div class=\"sk-toggleable__content\"><pre>Index([&#x27;round&#x27;, &#x27;venue&#x27;], dtype=&#x27;object&#x27;)</pre></div></div></div><div class=\"sk-serial\"><div class=\"sk-item\"><div class=\"sk-estimator sk-toggleable\"><input class=\"sk-toggleable__control sk-hidden--visually\" id=\"sk-estimator-id-20\" type=\"checkbox\" ><label for=\"sk-estimator-id-20\" class=\"sk-toggleable__label sk-toggleable__label-arrow\">OneHotEncoder</label><div class=\"sk-toggleable__content\"><pre>OneHotEncoder(handle_unknown=&#x27;ignore&#x27;)</pre></div></div></div></div></div></div></div></div><div class=\"sk-item\"><div class=\"sk-estimator sk-toggleable\"><input class=\"sk-toggleable__control sk-hidden--visually\" id=\"sk-estimator-id-21\" type=\"checkbox\" ><label for=\"sk-estimator-id-21\" class=\"sk-toggleable__label sk-toggleable__label-arrow\">DecisionTreeClassifier</label><div class=\"sk-toggleable__content\"><pre>DecisionTreeClassifier(max_depth=4)</pre></div></div></div></div></div></div></div>"
            ]
          },
          "metadata": {},
          "execution_count": 116
        }
      ]
    },
    {
      "cell_type": "code",
      "source": [
        "predictions = pipeline.predict( X_test )"
      ],
      "metadata": {
        "id": "5f6hyWsonQ7L"
      },
      "execution_count": null,
      "outputs": []
    },
    {
      "cell_type": "code",
      "source": [
        "from sklearn.metrics import confusion_matrix, ConfusionMatrixDisplay"
      ],
      "metadata": {
        "id": "1HtmA2jznee_"
      },
      "execution_count": null,
      "outputs": []
    },
    {
      "cell_type": "code",
      "source": [
        "cm = confusion_matrix( y_test, predictions )\n",
        "cm"
      ],
      "metadata": {
        "id": "pqufYZh8nTXv",
        "outputId": "6953e805-0b6f-4d70-f285-8c677717219d",
        "colab": {
          "base_uri": "https://localhost:8080/"
        }
      },
      "execution_count": null,
      "outputs": [
        {
          "output_type": "execute_result",
          "data": {
            "text/plain": [
              "array([[515,  84],\n",
              "       [157, 202]])"
            ]
          },
          "metadata": {},
          "execution_count": 119
        }
      ]
    },
    {
      "cell_type": "code",
      "source": [
        "plot_tree(pipeline.named_steps['clf'])"
      ],
      "metadata": {
        "colab": {
          "base_uri": "https://localhost:8080/",
          "height": 960
        },
        "id": "dvqgbnwJiB02",
        "outputId": "3181207f-28df-47a4-dbcf-29c5700c5964"
      },
      "execution_count": null,
      "outputs": [
        {
          "output_type": "execute_result",
          "data": {
            "text/plain": [
              "[Text(0.5, 0.9, 'x[2] <= 0.505\\ngini = 0.48\\nsamples = 3830\\nvalue = [2294, 1536]'),\n",
              " Text(0.25, 0.7, 'x[0] <= -0.26\\ngini = 0.414\\nsamples = 2763\\nvalue = [1953, 810]'),\n",
              " Text(0.125, 0.5, 'x[4] <= 1.13\\ngini = 0.496\\nsamples = 1155\\nvalue = [631, 524]'),\n",
              " Text(0.0625, 0.3, 'x[2] <= -0.717\\ngini = 0.481\\nsamples = 1009\\nvalue = [603, 406]'),\n",
              " Text(0.03125, 0.1, 'gini = 0.286\\nsamples = 272\\nvalue = [225, 47]'),\n",
              " Text(0.09375, 0.1, 'gini = 0.5\\nsamples = 737\\nvalue = [378, 359]'),\n",
              " Text(0.1875, 0.3, 'x[28] <= 0.5\\ngini = 0.31\\nsamples = 146\\nvalue = [28, 118]'),\n",
              " Text(0.15625, 0.1, 'gini = 0.296\\nsamples = 144\\nvalue = [26, 118]'),\n",
              " Text(0.21875, 0.1, 'gini = 0.0\\nsamples = 2\\nvalue = [2, 0]'),\n",
              " Text(0.375, 0.5, 'x[0] <= 0.608\\ngini = 0.292\\nsamples = 1608\\nvalue = [1322, 286]'),\n",
              " Text(0.3125, 0.3, 'x[2] <= -0.31\\ngini = 0.377\\nsamples = 826\\nvalue = [618, 208]'),\n",
              " Text(0.28125, 0.1, 'gini = 0.277\\nsamples = 493\\nvalue = [411, 82]'),\n",
              " Text(0.34375, 0.1, 'gini = 0.47\\nsamples = 333\\nvalue = [207, 126]'),\n",
              " Text(0.4375, 0.3, 'x[2] <= -1.124\\ngini = 0.18\\nsamples = 782\\nvalue = [704, 78]'),\n",
              " Text(0.40625, 0.1, 'gini = 0.021\\nsamples = 191\\nvalue = [189, 2]'),\n",
              " Text(0.46875, 0.1, 'gini = 0.224\\nsamples = 591\\nvalue = [515, 76]'),\n",
              " Text(0.75, 0.7, 'x[0] <= -0.26\\ngini = 0.435\\nsamples = 1067\\nvalue = [341, 726]'),\n",
              " Text(0.625, 0.5, 'x[21] <= 0.5\\ngini = 0.328\\nsamples = 628\\nvalue = [130, 498]'),\n",
              " Text(0.5625, 0.3, 'x[4] <= 1.13\\ngini = 0.319\\nsamples = 613\\nvalue = [122, 491]'),\n",
              " Text(0.53125, 0.1, 'gini = 0.343\\nsamples = 524\\nvalue = [115, 409]'),\n",
              " Text(0.59375, 0.1, 'gini = 0.145\\nsamples = 89\\nvalue = [7, 82]'),\n",
              " Text(0.6875, 0.3, 'x[1] <= 0.561\\ngini = 0.498\\nsamples = 15\\nvalue = [8, 7]'),\n",
              " Text(0.65625, 0.1, 'gini = 0.0\\nsamples = 5\\nvalue = [0, 5]'),\n",
              " Text(0.71875, 0.1, 'gini = 0.32\\nsamples = 10\\nvalue = [8, 2]'),\n",
              " Text(0.875, 0.5, 'x[0] <= 1.352\\ngini = 0.499\\nsamples = 439\\nvalue = [211, 228]'),\n",
              " Text(0.8125, 0.3, 'x[2] <= 1.727\\ngini = 0.493\\nsamples = 398\\nvalue = [175, 223]'),\n",
              " Text(0.78125, 0.1, 'gini = 0.499\\nsamples = 334\\nvalue = [161, 173]'),\n",
              " Text(0.84375, 0.1, 'gini = 0.342\\nsamples = 64\\nvalue = [14, 50]'),\n",
              " Text(0.9375, 0.3, 'x[41] <= 0.5\\ngini = 0.214\\nsamples = 41\\nvalue = [36, 5]'),\n",
              " Text(0.90625, 0.1, 'gini = 0.18\\nsamples = 40\\nvalue = [36, 4]'),\n",
              " Text(0.96875, 0.1, 'gini = 0.0\\nsamples = 1\\nvalue = [0, 1]')]"
            ]
          },
          "metadata": {},
          "execution_count": 120
        },
        {
          "output_type": "display_data",
          "data": {
            "text/plain": [
              "<Figure size 640x480 with 1 Axes>"
            ],
            "image/png": "[encoded data removed]"
          },
          "metadata": {}
        }
      ]
    },
    {
      "cell_type": "code",
      "source": [
        "attribute_selection_method4(df, 'win', 'gini')"
      ],
      "metadata": {
        "colab": {
          "base_uri": "https://localhost:8080/",
          "height": 35
        },
        "id": "wpF2k5TKdNbA",
        "outputId": "e9ec087a-fe75-4c8c-cc94-3a49a27c229e"
      },
      "execution_count": null,
      "outputs": [
        {
          "output_type": "execute_result",
          "data": {
            "text/plain": [
              "'date'"
            ],
            "application/vnd.google.colaboratory.intrinsic+json": {
              "type": "string"
            }
          },
          "metadata": {},
          "execution_count": 122
        }
      ]
    },
    {
      "cell_type": "code",
      "source": [],
      "metadata": {
        "id": "QgsUi1t4KiqL"
      },
      "execution_count": null,
      "outputs": []
    },
    {
      "cell_type": "code",
      "source": [],
      "metadata": {
        "id": "d2CtDAoiQt8X"
      },
      "execution_count": null,
      "outputs": []
    }
  ]
}