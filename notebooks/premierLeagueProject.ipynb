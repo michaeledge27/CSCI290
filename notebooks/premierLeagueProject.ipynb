{
  "nbformat": 4,
  "nbformat_minor": 0,
  "metadata": {
    "colab": {
      "provenance": [],
      "authorship_tag": "ABX9TyP59gBkKRhPpkwNpx+1cHpC",
      "include_colab_link": true
    },
    "kernelspec": {
      "name": "python3",
      "display_name": "Python 3"
    },
    "language_info": {
      "name": "python"
    }
  },
  "cells": [
    {
      "cell_type": "markdown",
      "metadata": {
        "id": "view-in-github",
        "colab_type": "text"
      },
      "source": [
        "<a href=\"https://colab.research.google.com/github/michaeledge27/CSCI290/blob/main/notebooks/premierLeagueProject.ipynb\" target=\"_parent\"><img src=\"https://colab.research.google.com/assets/colab-badge.svg\" alt=\"Open In Colab\"/></a>"
      ]
    },
    {
      "cell_type": "code",
      "execution_count": 36,
      "metadata": {
        "id": "85C_i3OuWfRr"
      },
      "outputs": [],
      "source": [
        "import pandas as pd\n",
        "import matplotlib.pyplot as plt\n",
        "import numpy as np\n",
        "import math"
      ]
    },
    {
      "cell_type": "code",
      "source": [
        "url = \"https://github.com/michaeledge27/CSCI290/raw/main/data/matches.csv\"\n",
        "df = pd.read_csv(url)\n",
        "df.head()"
      ],
      "metadata": {
        "colab": {
          "base_uri": "https://localhost:8080/",
          "height": 340
        },
        "id": "8UoLHS2ZWxpF",
        "outputId": "902fec1e-e43b-41dd-cdf4-1ec27c7570d9"
      },
      "execution_count": 37,
      "outputs": [
        {
          "output_type": "execute_result",
          "data": {
            "text/plain": [
              "   Unnamed: 0        date           time            comp        round  day  \\\n",
              "0           0  2020-09-21  20:15 (21:15)  Premier League  Matchweek 2  Mon   \n",
              "1           2  2020-09-27  16:30 (17:30)  Premier League  Matchweek 3  Sun   \n",
              "2           4  2020-10-03  17:30 (18:30)  Premier League  Matchweek 4  Sat   \n",
              "3           5  2020-10-17  17:30 (18:30)  Premier League  Matchweek 5  Sat   \n",
              "4           7  2020-10-24  12:30 (13:30)  Premier League  Matchweek 6  Sat   \n",
              "\n",
              "  venue result  gf  ga  ...  match report  notes  sh  sot  dist fk pk pkatt  \\\n",
              "0  Away      W   3   1  ...  Match Report    NaN  13    8  21.1  2  1     1   \n",
              "1  Home      L   2   5  ...  Match Report    NaN  16    5  19.8  1  0     0   \n",
              "2  Away      D   1   1  ...  Match Report    NaN  23    1  18.2  1  0     0   \n",
              "3  Home      W   1   0  ...  Match Report    NaN  13    5  17.7  0  0     0   \n",
              "4  Away      D   1   1  ...  Match Report    NaN  14    7  20.9  1  0     0   \n",
              "\n",
              "  season             team  \n",
              "0   2024  Manchester City  \n",
              "1   2024  Manchester City  \n",
              "2   2024  Manchester City  \n",
              "3   2024  Manchester City  \n",
              "4   2024  Manchester City  \n",
              "\n",
              "[5 rows x 28 columns]"
            ],
            "text/html": [
              "\n",
              "  <div id=\"df-1ed58962-425f-45c8-bb5d-955ab5b20537\" class=\"colab-df-container\">\n",
              "    <div>\n",
              "<style scoped>\n",
              "    .dataframe tbody tr th:only-of-type {\n",
              "        vertical-align: middle;\n",
              "    }\n",
              "\n",
              "    .dataframe tbody tr th {\n",
              "        vertical-align: top;\n",
              "    }\n",
              "\n",
              "    .dataframe thead th {\n",
              "        text-align: right;\n",
              "    }\n",
              "</style>\n",
              "<table border=\"1\" class=\"dataframe\">\n",
              "  <thead>\n",
              "    <tr style=\"text-align: right;\">\n",
              "      <th></th>\n",
              "      <th>Unnamed: 0</th>\n",
              "      <th>date</th>\n",
              "      <th>time</th>\n",
              "      <th>comp</th>\n",
              "      <th>round</th>\n",
              "      <th>day</th>\n",
              "      <th>venue</th>\n",
              "      <th>result</th>\n",
              "      <th>gf</th>\n",
              "      <th>ga</th>\n",
              "      <th>...</th>\n",
              "      <th>match report</th>\n",
              "      <th>notes</th>\n",
              "      <th>sh</th>\n",
              "      <th>sot</th>\n",
              "      <th>dist</th>\n",
              "      <th>fk</th>\n",
              "      <th>pk</th>\n",
              "      <th>pkatt</th>\n",
              "      <th>season</th>\n",
              "      <th>team</th>\n",
              "    </tr>\n",
              "  </thead>\n",
              "  <tbody>\n",
              "    <tr>\n",
              "      <th>0</th>\n",
              "      <td>0</td>\n",
              "      <td>2020-09-21</td>\n",
              "      <td>20:15 (21:15)</td>\n",
              "      <td>Premier League</td>\n",
              "      <td>Matchweek 2</td>\n",
              "      <td>Mon</td>\n",
              "      <td>Away</td>\n",
              "      <td>W</td>\n",
              "      <td>3</td>\n",
              "      <td>1</td>\n",
              "      <td>...</td>\n",
              "      <td>Match Report</td>\n",
              "      <td>NaN</td>\n",
              "      <td>13</td>\n",
              "      <td>8</td>\n",
              "      <td>21.1</td>\n",
              "      <td>2</td>\n",
              "      <td>1</td>\n",
              "      <td>1</td>\n",
              "      <td>2024</td>\n",
              "      <td>Manchester City</td>\n",
              "    </tr>\n",
              "    <tr>\n",
              "      <th>1</th>\n",
              "      <td>2</td>\n",
              "      <td>2020-09-27</td>\n",
              "      <td>16:30 (17:30)</td>\n",
              "      <td>Premier League</td>\n",
              "      <td>Matchweek 3</td>\n",
              "      <td>Sun</td>\n",
              "      <td>Home</td>\n",
              "      <td>L</td>\n",
              "      <td>2</td>\n",
              "      <td>5</td>\n",
              "      <td>...</td>\n",
              "      <td>Match Report</td>\n",
              "      <td>NaN</td>\n",
              "      <td>16</td>\n",
              "      <td>5</td>\n",
              "      <td>19.8</td>\n",
              "      <td>1</td>\n",
              "      <td>0</td>\n",
              "      <td>0</td>\n",
              "      <td>2024</td>\n",
              "      <td>Manchester City</td>\n",
              "    </tr>\n",
              "    <tr>\n",
              "      <th>2</th>\n",
              "      <td>4</td>\n",
              "      <td>2020-10-03</td>\n",
              "      <td>17:30 (18:30)</td>\n",
              "      <td>Premier League</td>\n",
              "      <td>Matchweek 4</td>\n",
              "      <td>Sat</td>\n",
              "      <td>Away</td>\n",
              "      <td>D</td>\n",
              "      <td>1</td>\n",
              "      <td>1</td>\n",
              "      <td>...</td>\n",
              "      <td>Match Report</td>\n",
              "      <td>NaN</td>\n",
              "      <td>23</td>\n",
              "      <td>1</td>\n",
              "      <td>18.2</td>\n",
              "      <td>1</td>\n",
              "      <td>0</td>\n",
              "      <td>0</td>\n",
              "      <td>2024</td>\n",
              "      <td>Manchester City</td>\n",
              "    </tr>\n",
              "    <tr>\n",
              "      <th>3</th>\n",
              "      <td>5</td>\n",
              "      <td>2020-10-17</td>\n",
              "      <td>17:30 (18:30)</td>\n",
              "      <td>Premier League</td>\n",
              "      <td>Matchweek 5</td>\n",
              "      <td>Sat</td>\n",
              "      <td>Home</td>\n",
              "      <td>W</td>\n",
              "      <td>1</td>\n",
              "      <td>0</td>\n",
              "      <td>...</td>\n",
              "      <td>Match Report</td>\n",
              "      <td>NaN</td>\n",
              "      <td>13</td>\n",
              "      <td>5</td>\n",
              "      <td>17.7</td>\n",
              "      <td>0</td>\n",
              "      <td>0</td>\n",
              "      <td>0</td>\n",
              "      <td>2024</td>\n",
              "      <td>Manchester City</td>\n",
              "    </tr>\n",
              "    <tr>\n",
              "      <th>4</th>\n",
              "      <td>7</td>\n",
              "      <td>2020-10-24</td>\n",
              "      <td>12:30 (13:30)</td>\n",
              "      <td>Premier League</td>\n",
              "      <td>Matchweek 6</td>\n",
              "      <td>Sat</td>\n",
              "      <td>Away</td>\n",
              "      <td>D</td>\n",
              "      <td>1</td>\n",
              "      <td>1</td>\n",
              "      <td>...</td>\n",
              "      <td>Match Report</td>\n",
              "      <td>NaN</td>\n",
              "      <td>14</td>\n",
              "      <td>7</td>\n",
              "      <td>20.9</td>\n",
              "      <td>1</td>\n",
              "      <td>0</td>\n",
              "      <td>0</td>\n",
              "      <td>2024</td>\n",
              "      <td>Manchester City</td>\n",
              "    </tr>\n",
              "  </tbody>\n",
              "</table>\n",
              "<p>5 rows × 28 columns</p>\n",
              "</div>\n",
              "    <div class=\"colab-df-buttons\">\n",
              "\n",
              "  <div class=\"colab-df-container\">\n",
              "    <button class=\"colab-df-convert\" onclick=\"convertToInteractive('df-1ed58962-425f-45c8-bb5d-955ab5b20537')\"\n",
              "            title=\"Convert this dataframe to an interactive table.\"\n",
              "            style=\"display:none;\">\n",
              "\n",
              "  <svg xmlns=\"http://www.w3.org/2000/svg\" height=\"24px\" viewBox=\"0 -960 960 960\">\n",
              "    <path d=\"M120-120v-720h720v720H120Zm60-500h600v-160H180v160Zm220 220h160v-160H400v160Zm0 220h160v-160H400v160ZM180-400h160v-160H180v160Zm440 0h160v-160H620v160ZM180-180h160v-160H180v160Zm440 0h160v-160H620v160Z\"/>\n",
              "  </svg>\n",
              "    </button>\n",
              "\n",
              "  <style>\n",
              "    .colab-df-container {\n",
              "      display:flex;\n",
              "      gap: 12px;\n",
              "    }\n",
              "\n",
              "    .colab-df-convert {\n",
              "      background-color: #E8F0FE;\n",
              "      border: none;\n",
              "      border-radius: 50%;\n",
              "      cursor: pointer;\n",
              "      display: none;\n",
              "      fill: #1967D2;\n",
              "      height: 32px;\n",
              "      padding: 0 0 0 0;\n",
              "      width: 32px;\n",
              "    }\n",
              "\n",
              "    .colab-df-convert:hover {\n",
              "      background-color: #E2EBFA;\n",
              "      box-shadow: 0px 1px 2px rgba(60, 64, 67, 0.3), 0px 1px 3px 1px rgba(60, 64, 67, 0.15);\n",
              "      fill: #174EA6;\n",
              "    }\n",
              "\n",
              "    .colab-df-buttons div {\n",
              "      margin-bottom: 4px;\n",
              "    }\n",
              "\n",
              "    [theme=dark] .colab-df-convert {\n",
              "      background-color: #3B4455;\n",
              "      fill: #D2E3FC;\n",
              "    }\n",
              "\n",
              "    [theme=dark] .colab-df-convert:hover {\n",
              "      background-color: #434B5C;\n",
              "      box-shadow: 0px 1px 3px 1px rgba(0, 0, 0, 0.15);\n",
              "      filter: drop-shadow(0px 1px 2px rgba(0, 0, 0, 0.3));\n",
              "      fill: #FFFFFF;\n",
              "    }\n",
              "  </style>\n",
              "\n",
              "    <script>\n",
              "      const buttonEl =\n",
              "        document.querySelector('#df-1ed58962-425f-45c8-bb5d-955ab5b20537 button.colab-df-convert');\n",
              "      buttonEl.style.display =\n",
              "        google.colab.kernel.accessAllowed ? 'block' : 'none';\n",
              "\n",
              "      async function convertToInteractive(key) {\n",
              "        const element = document.querySelector('#df-1ed58962-425f-45c8-bb5d-955ab5b20537');\n",
              "        const dataTable =\n",
              "          await google.colab.kernel.invokeFunction('convertToInteractive',\n",
              "                                                    [key], {});\n",
              "        if (!dataTable) return;\n",
              "\n",
              "        const docLinkHtml = 'Like what you see? Visit the ' +\n",
              "          '<a target=\"_blank\" href=https://colab.research.google.com/notebooks/data_table.ipynb>data table notebook</a>'\n",
              "          + ' to learn more about interactive tables.';\n",
              "        element.innerHTML = '';\n",
              "        dataTable['output_type'] = 'display_data';\n",
              "        await google.colab.output.renderOutput(dataTable, element);\n",
              "        const docLink = document.createElement('div');\n",
              "        docLink.innerHTML = docLinkHtml;\n",
              "        element.appendChild(docLink);\n",
              "      }\n",
              "    </script>\n",
              "  </div>\n",
              "\n",
              "\n",
              "<div id=\"df-56fefd3a-0574-4acc-b58b-4ec3dd4849cf\">\n",
              "  <button class=\"colab-df-quickchart\" onclick=\"quickchart('df-56fefd3a-0574-4acc-b58b-4ec3dd4849cf')\"\n",
              "            title=\"Suggest charts\"\n",
              "            style=\"display:none;\">\n",
              "\n",
              "<svg xmlns=\"http://www.w3.org/2000/svg\" height=\"24px\"viewBox=\"0 0 24 24\"\n",
              "     width=\"24px\">\n",
              "    <g>\n",
              "        <path d=\"M19 3H5c-1.1 0-2 .9-2 2v14c0 1.1.9 2 2 2h14c1.1 0 2-.9 2-2V5c0-1.1-.9-2-2-2zM9 17H7v-7h2v7zm4 0h-2V7h2v10zm4 0h-2v-4h2v4z\"/>\n",
              "    </g>\n",
              "</svg>\n",
              "  </button>\n",
              "\n",
              "<style>\n",
              "  .colab-df-quickchart {\n",
              "      --bg-color: #E8F0FE;\n",
              "      --fill-color: #1967D2;\n",
              "      --hover-bg-color: #E2EBFA;\n",
              "      --hover-fill-color: #174EA6;\n",
              "      --disabled-fill-color: #AAA;\n",
              "      --disabled-bg-color: #DDD;\n",
              "  }\n",
              "\n",
              "  [theme=dark] .colab-df-quickchart {\n",
              "      --bg-color: #3B4455;\n",
              "      --fill-color: #D2E3FC;\n",
              "      --hover-bg-color: #434B5C;\n",
              "      --hover-fill-color: #FFFFFF;\n",
              "      --disabled-bg-color: #3B4455;\n",
              "      --disabled-fill-color: #666;\n",
              "  }\n",
              "\n",
              "  .colab-df-quickchart {\n",
              "    background-color: var(--bg-color);\n",
              "    border: none;\n",
              "    border-radius: 50%;\n",
              "    cursor: pointer;\n",
              "    display: none;\n",
              "    fill: var(--fill-color);\n",
              "    height: 32px;\n",
              "    padding: 0;\n",
              "    width: 32px;\n",
              "  }\n",
              "\n",
              "  .colab-df-quickchart:hover {\n",
              "    background-color: var(--hover-bg-color);\n",
              "    box-shadow: 0 1px 2px rgba(60, 64, 67, 0.3), 0 1px 3px 1px rgba(60, 64, 67, 0.15);\n",
              "    fill: var(--button-hover-fill-color);\n",
              "  }\n",
              "\n",
              "  .colab-df-quickchart-complete:disabled,\n",
              "  .colab-df-quickchart-complete:disabled:hover {\n",
              "    background-color: var(--disabled-bg-color);\n",
              "    fill: var(--disabled-fill-color);\n",
              "    box-shadow: none;\n",
              "  }\n",
              "\n",
              "  .colab-df-spinner {\n",
              "    border: 2px solid var(--fill-color);\n",
              "    border-color: transparent;\n",
              "    border-bottom-color: var(--fill-color);\n",
              "    animation:\n",
              "      spin 1s steps(1) infinite;\n",
              "  }\n",
              "\n",
              "  @keyframes spin {\n",
              "    0% {\n",
              "      border-color: transparent;\n",
              "      border-bottom-color: var(--fill-color);\n",
              "      border-left-color: var(--fill-color);\n",
              "    }\n",
              "    20% {\n",
              "      border-color: transparent;\n",
              "      border-left-color: var(--fill-color);\n",
              "      border-top-color: var(--fill-color);\n",
              "    }\n",
              "    30% {\n",
              "      border-color: transparent;\n",
              "      border-left-color: var(--fill-color);\n",
              "      border-top-color: var(--fill-color);\n",
              "      border-right-color: var(--fill-color);\n",
              "    }\n",
              "    40% {\n",
              "      border-color: transparent;\n",
              "      border-right-color: var(--fill-color);\n",
              "      border-top-color: var(--fill-color);\n",
              "    }\n",
              "    60% {\n",
              "      border-color: transparent;\n",
              "      border-right-color: var(--fill-color);\n",
              "    }\n",
              "    80% {\n",
              "      border-color: transparent;\n",
              "      border-right-color: var(--fill-color);\n",
              "      border-bottom-color: var(--fill-color);\n",
              "    }\n",
              "    90% {\n",
              "      border-color: transparent;\n",
              "      border-bottom-color: var(--fill-color);\n",
              "    }\n",
              "  }\n",
              "</style>\n",
              "\n",
              "  <script>\n",
              "    async function quickchart(key) {\n",
              "      const quickchartButtonEl =\n",
              "        document.querySelector('#' + key + ' button');\n",
              "      quickchartButtonEl.disabled = true;  // To prevent multiple clicks.\n",
              "      quickchartButtonEl.classList.add('colab-df-spinner');\n",
              "      try {\n",
              "        const charts = await google.colab.kernel.invokeFunction(\n",
              "            'suggestCharts', [key], {});\n",
              "      } catch (error) {\n",
              "        console.error('Error during call to suggestCharts:', error);\n",
              "      }\n",
              "      quickchartButtonEl.classList.remove('colab-df-spinner');\n",
              "      quickchartButtonEl.classList.add('colab-df-quickchart-complete');\n",
              "    }\n",
              "    (() => {\n",
              "      let quickchartButtonEl =\n",
              "        document.querySelector('#df-56fefd3a-0574-4acc-b58b-4ec3dd4849cf button');\n",
              "      quickchartButtonEl.style.display =\n",
              "        google.colab.kernel.accessAllowed ? 'block' : 'none';\n",
              "    })();\n",
              "  </script>\n",
              "</div>\n",
              "\n",
              "    </div>\n",
              "  </div>\n"
            ],
            "application/vnd.google.colaboratory.intrinsic+json": {
              "type": "dataframe",
              "variable_name": "df"
            }
          },
          "metadata": {},
          "execution_count": 37
        }
      ]
    },
    {
      "cell_type": "code",
      "source": [
        "\n",
        "df['win'] = (df['result']=='W') * 1\n",
        "df['win'].head()"
      ],
      "metadata": {
        "colab": {
          "base_uri": "https://localhost:8080/",
          "height": 241
        },
        "id": "znAz-uLbStt-",
        "outputId": "6a6c21ec-803f-4ec8-a6b2-48347fd6839a"
      },
      "execution_count": 38,
      "outputs": [
        {
          "output_type": "execute_result",
          "data": {
            "text/plain": [
              "0    1\n",
              "1    0\n",
              "2    0\n",
              "3    1\n",
              "4    0\n",
              "Name: win, dtype: int64"
            ],
            "text/html": [
              "<div>\n",
              "<style scoped>\n",
              "    .dataframe tbody tr th:only-of-type {\n",
              "        vertical-align: middle;\n",
              "    }\n",
              "\n",
              "    .dataframe tbody tr th {\n",
              "        vertical-align: top;\n",
              "    }\n",
              "\n",
              "    .dataframe thead th {\n",
              "        text-align: right;\n",
              "    }\n",
              "</style>\n",
              "<table border=\"1\" class=\"dataframe\">\n",
              "  <thead>\n",
              "    <tr style=\"text-align: right;\">\n",
              "      <th></th>\n",
              "      <th>win</th>\n",
              "    </tr>\n",
              "  </thead>\n",
              "  <tbody>\n",
              "    <tr>\n",
              "      <th>0</th>\n",
              "      <td>1</td>\n",
              "    </tr>\n",
              "    <tr>\n",
              "      <th>1</th>\n",
              "      <td>0</td>\n",
              "    </tr>\n",
              "    <tr>\n",
              "      <th>2</th>\n",
              "      <td>0</td>\n",
              "    </tr>\n",
              "    <tr>\n",
              "      <th>3</th>\n",
              "      <td>1</td>\n",
              "    </tr>\n",
              "    <tr>\n",
              "      <th>4</th>\n",
              "      <td>0</td>\n",
              "    </tr>\n",
              "  </tbody>\n",
              "</table>\n",
              "</div><br><label><b>dtype:</b> int64</label>"
            ]
          },
          "metadata": {},
          "execution_count": 38
        }
      ]
    },
    {
      "cell_type": "code",
      "source": [
        "from sklearn.model_selection import train_test_split"
      ],
      "metadata": {
        "id": "R3-QjfFnXw3L"
      },
      "execution_count": 39,
      "outputs": []
    },
    {
      "cell_type": "code",
      "source": [
        "train_set, test_set = train_test_split(df, test_size = 0.2, shuffle = True)"
      ],
      "metadata": {
        "id": "HSn8zFjrsRub"
      },
      "execution_count": 40,
      "outputs": []
    },
    {
      "cell_type": "code",
      "source": [
        "def Attribute_selection_method(dataFrame, target, measure):\n",
        "  features = dataFrame.columns[dataFrame.columns != target]\n",
        "  # splittingMeasure = dataFrame.columns[df.columns[1] if df.columns[1] != target else df.columns[2]]\n",
        "  if measure == 'entropy':\n",
        "    # calculate max entropy\n",
        "    for feature in features:\n",
        "      entropiesList = []\n",
        "      counts = np.bincount(feature) #change to props stuff\n",
        "      countProb = counts/len(features)\n",
        "      entropyValue = -np.sum(countProb * np.log2(countProb))\n",
        "      entropiesList.append(entropyValue)\n",
        "      return features[entropiesList.index(min(entropiesList))]\n",
        "\n",
        "\n",
        "  elif measure == 'gini':\n",
        "    # calculate max entropy\n",
        "    for feature in features:\n",
        "      giniList = []\n",
        "      counts = np.bincount(feature)\n",
        "      countProb = counts/len(features)\n",
        "      giniValue = 1 - np.sum(np.square(countProb))\n",
        "      giniList.append(giniValue)\n",
        "      return features[giniList.index(max(giniList))]\n",
        "\n",
        "  else:\n",
        "    return None\n"
      ],
      "metadata": {
        "id": "sDqFc6k44sC_"
      },
      "execution_count": 41,
      "outputs": []
    },
    {
      "cell_type": "code",
      "source": [
        "target = \"win\"\n",
        "attribute = \"xga\""
      ],
      "metadata": {
        "id": "VXV2kCeNWF1N"
      },
      "execution_count": 42,
      "outputs": []
    },
    {
      "cell_type": "code",
      "source": [
        "vals = df[attribute].unique()\n",
        "vals"
      ],
      "metadata": {
        "colab": {
          "base_uri": "https://localhost:8080/"
        },
        "id": "79uCCPYuWY7E",
        "outputId": "efb35b48-fa80-4a22-daab-1cfbad8e9616"
      },
      "execution_count": 43,
      "outputs": [
        {
          "output_type": "execute_result",
          "data": {
            "text/plain": [
              "array([0.6, 2.9, 2.4, 0.9, 0.3, 0.5, 1.2, 0.7, 0.4, 0.8, 0.2, 0.1, 1. ,\n",
              "       1.5, 1.7, 1.6, 2.2, 1.1, 2.5, 3.4, 2. , 1.3, 1.8, 1.4, 2.7, 2.3,\n",
              "       3.5, 1.9, 2.1, 3.1, 2.6, 4.1, 3.6, 0. , 3.3, 3. , 3.2, 3.9, 2.8,\n",
              "       4.7, 3.7, 4. , 3.8, 7. , 4.5, 4.2, 5.2, 4.4, 4.3, 5.9, 4.6])"
            ]
          },
          "metadata": {},
          "execution_count": 43
        }
      ]
    },
    {
      "cell_type": "code",
      "source": [
        "props = df[df[attribute] == vals[8]][target].value_counts(normalize=True)\n",
        "props"
      ],
      "metadata": {
        "colab": {
          "base_uri": "https://localhost:8080/",
          "height": 178
        },
        "id": "-IXgcPE0WZLf",
        "outputId": "eac153df-a5fd-43d7-8501-af4d51e7b653"
      },
      "execution_count": 44,
      "outputs": [
        {
          "output_type": "execute_result",
          "data": {
            "text/plain": [
              "win\n",
              "1    0.649425\n",
              "0    0.350575\n",
              "Name: proportion, dtype: float64"
            ],
            "text/html": [
              "<div>\n",
              "<style scoped>\n",
              "    .dataframe tbody tr th:only-of-type {\n",
              "        vertical-align: middle;\n",
              "    }\n",
              "\n",
              "    .dataframe tbody tr th {\n",
              "        vertical-align: top;\n",
              "    }\n",
              "\n",
              "    .dataframe thead th {\n",
              "        text-align: right;\n",
              "    }\n",
              "</style>\n",
              "<table border=\"1\" class=\"dataframe\">\n",
              "  <thead>\n",
              "    <tr style=\"text-align: right;\">\n",
              "      <th></th>\n",
              "      <th>proportion</th>\n",
              "    </tr>\n",
              "    <tr>\n",
              "      <th>win</th>\n",
              "      <th></th>\n",
              "    </tr>\n",
              "  </thead>\n",
              "  <tbody>\n",
              "    <tr>\n",
              "      <th>1</th>\n",
              "      <td>0.649425</td>\n",
              "    </tr>\n",
              "    <tr>\n",
              "      <th>0</th>\n",
              "      <td>0.350575</td>\n",
              "    </tr>\n",
              "  </tbody>\n",
              "</table>\n",
              "</div><br><label><b>dtype:</b> float64</label>"
            ]
          },
          "metadata": {},
          "execution_count": 44
        }
      ]
    },
    {
      "cell_type": "code",
      "source": [
        "entropy = 0\n",
        "for i in range(len(props)):\n",
        "  entropy = entropy - props[i]*math.log2(props[i])\n",
        "entropy"
      ],
      "metadata": {
        "colab": {
          "base_uri": "https://localhost:8080/"
        },
        "id": "wXtgTg1FWZgW",
        "outputId": "2b5b4702-69bc-49d1-f855-681ce6a3c8e2"
      },
      "execution_count": 45,
      "outputs": [
        {
          "output_type": "execute_result",
          "data": {
            "text/plain": [
              "0.9345802754794623"
            ]
          },
          "metadata": {},
          "execution_count": 45
        }
      ]
    },
    {
      "cell_type": "code",
      "source": [
        "entropy = 0\n",
        "entropyLists = []\n",
        "for val in vals:\n",
        "  weight = (len(df[df[attribute] == val])) /(len(df))\n",
        "  props = df[df[attribute] == val][target].value_counts(normalize=True)\n",
        "  for p in range(len(props)):\n",
        "    entropy = entropy - weight*(p*(np.log2)(p))\n",
        "    entropyLists.append(entropy)\n",
        "returnValue = vals[entropyLists.index(min(entropyLists))]\n",
        "returnValue\n"
      ],
      "metadata": {
        "colab": {
          "base_uri": "https://localhost:8080/"
        },
        "id": "_YkXsgoQXcDf",
        "outputId": "3342e0b1-6934-4a7f-dcf4-489ba32ce727"
      },
      "execution_count": 46,
      "outputs": [
        {
          "output_type": "stream",
          "name": "stderr",
          "text": [
            "<ipython-input-46-60b436c7c705>:7: RuntimeWarning: divide by zero encountered in log2\n",
            "  entropy = entropy - weight*(p*(np.log2)(p))\n",
            "<ipython-input-46-60b436c7c705>:7: RuntimeWarning: invalid value encountered in scalar multiply\n",
            "  entropy = entropy - weight*(p*(np.log2)(p))\n"
          ]
        },
        {
          "output_type": "execute_result",
          "data": {
            "text/plain": [
              "0.6"
            ]
          },
          "metadata": {},
          "execution_count": 46
        }
      ]
    },
    {
      "cell_type": "code",
      "source": [
        "giniImpurity = 0\n",
        "giniLists = []\n",
        "for val in vals:\n",
        "  weight = (len(df[df[attribute] == val])) /(len(df))\n",
        "  props = df[df[attribute] == val][target].value_counts(normalize=True)\n",
        "  for p in range(len(props)):\n",
        "    gini = 1 - np.sum(np.square(p))\n",
        "    giniLists.append(gini)\n",
        "returnValue = vals[giniLists.index(max(giniLists))]\n",
        "returnValue"
      ],
      "metadata": {
        "colab": {
          "base_uri": "https://localhost:8080/"
        },
        "id": "vfG_d_FSXcTU",
        "outputId": "6b36356c-e9b3-4318-c70b-8c7a02cc6add"
      },
      "execution_count": 47,
      "outputs": [
        {
          "output_type": "execute_result",
          "data": {
            "text/plain": [
              "0.6"
            ]
          },
          "metadata": {},
          "execution_count": 47
        }
      ]
    },
    {
      "cell_type": "code",
      "source": [
        "entropy = 0\n",
        "giniImpurity = 0\n",
        "def attribute_selection_method2(df, attribute, measure):\n",
        "  vals = df[attribute].unique()\n",
        "\n",
        "  if measure == 'entropy':\n",
        "    entropyLists = []\n",
        "    for val in vals:\n",
        "      weight = (len(df[df[attribute] == val])) /(len(df))\n",
        "      props = df[df[attribute] == val][target].value_counts(normalize=True)\n",
        "      for p in range(len(props)):\n",
        "        entropy = entropy - weight*(p*(np.log2)(p))\n",
        "        entropyLists.append(entropy)\n",
        "    return vals[np.argmin(entropyLists)]\n",
        "\n",
        "  if measure == 'gini':\n",
        "    giniLists = []\n",
        "    for val in vals:\n",
        "      weight = (len(df[df[attribute] == val])) /(len(df))\n",
        "      props = df[df[attribute] == val][target].value_counts(normalize=True)\n",
        "      for p in range(len(props)):\n",
        "        gini = 1 - (weight * np.sum(np.square(p)))\n",
        "        giniLists.append(gini)\n",
        "    return vals[np.argmax(giniLists)]\n",
        "\n",
        "  else:\n",
        "    raise ValueError(\"Measure must be 'entropy' or 'gini'\")\n",
        "\n",
        "\n",
        "\n",
        "\n"
      ],
      "metadata": {
        "id": "5384pe3FXci7"
      },
      "execution_count": 48,
      "outputs": []
    },
    {
      "cell_type": "code",
      "source": [],
      "metadata": {
        "id": "x1Enl97HXczV"
      },
      "execution_count": 48,
      "outputs": []
    },
    {
      "cell_type": "code",
      "source": [
        "train_set.columns"
      ],
      "metadata": {
        "colab": {
          "base_uri": "https://localhost:8080/"
        },
        "id": "-K2F9BYRA26a",
        "outputId": "fb1944b6-e853-4a25-971e-9a9011f76d0e"
      },
      "execution_count": 49,
      "outputs": [
        {
          "output_type": "execute_result",
          "data": {
            "text/plain": [
              "Index(['Unnamed: 0', 'date', 'time', 'comp', 'round', 'day', 'venue', 'result',\n",
              "       'gf', 'ga', 'opponent', 'xg', 'xga', 'poss', 'attendance', 'captain',\n",
              "       'formation', 'referee', 'match report', 'notes', 'sh', 'sot', 'dist',\n",
              "       'fk', 'pk', 'pkatt', 'season', 'team', 'win'],\n",
              "      dtype='object')"
            ]
          },
          "metadata": {},
          "execution_count": 49
        }
      ]
    },
    {
      "cell_type": "code",
      "source": [
        "train_set = train_set[['round', 'venue', 'xga', 'poss', 'sot', 'fk', 'pk', 'win']]"
      ],
      "metadata": {
        "id": "VRm53wNhA5_j"
      },
      "execution_count": 50,
      "outputs": []
    },
    {
      "cell_type": "code",
      "source": [
        "test_set = test_set[['round', 'venue', 'xga', 'poss', 'sot', 'fk', 'pk', 'win']]"
      ],
      "metadata": {
        "id": "yN2c-cgwD2Js"
      },
      "execution_count": 51,
      "outputs": []
    },
    {
      "cell_type": "code",
      "source": [
        "X_train = train_set[['round', 'venue', 'xga', 'poss', 'sot', 'fk', 'pk']]\n",
        "y_train = train_set[['win']]"
      ],
      "metadata": {
        "id": "_PB8gKM_EyQN"
      },
      "execution_count": 52,
      "outputs": []
    },
    {
      "cell_type": "code",
      "source": [
        "X_test = test_set[['round', 'venue', 'xga', 'poss', 'sot', 'fk', 'pk']]\n",
        "y_test = test_set[['win']]"
      ],
      "metadata": {
        "id": "f6Hvc82rFAU_"
      },
      "execution_count": 53,
      "outputs": []
    },
    {
      "cell_type": "code",
      "source": [
        "from sklearn.tree import DecisionTreeClassifier"
      ],
      "metadata": {
        "id": "1i36PYcbFPMv"
      },
      "execution_count": 54,
      "outputs": []
    },
    {
      "cell_type": "code",
      "source": [
        "from sklearn.preprocessing import StandardScaler, OneHotEncoder\n",
        "from sklearn.pipeline import Pipeline\n",
        "from sklearn.compose import ColumnTransformer\n",
        "from sklearn.model_selection import cross_val_score\n",
        "from sklearn.tree import plot_tree"
      ],
      "metadata": {
        "id": "-CQO9FM1FSLB"
      },
      "execution_count": 55,
      "outputs": []
    },
    {
      "cell_type": "code",
      "source": [
        "X_train.info()"
      ],
      "metadata": {
        "colab": {
          "base_uri": "https://localhost:8080/"
        },
        "id": "m1qF0PALFVJV",
        "outputId": "8b6cb687-303f-44bf-e4ef-6082cc438341"
      },
      "execution_count": 56,
      "outputs": [
        {
          "output_type": "stream",
          "name": "stdout",
          "text": [
            "<class 'pandas.core.frame.DataFrame'>\n",
            "Index: 3830 entries, 940 to 4437\n",
            "Data columns (total 7 columns):\n",
            " #   Column  Non-Null Count  Dtype  \n",
            "---  ------  --------------  -----  \n",
            " 0   round   3830 non-null   object \n",
            " 1   venue   3830 non-null   object \n",
            " 2   xga     3830 non-null   float64\n",
            " 3   poss    3830 non-null   int64  \n",
            " 4   sot     3830 non-null   int64  \n",
            " 5   fk      3830 non-null   int64  \n",
            " 6   pk      3830 non-null   int64  \n",
            "dtypes: float64(1), int64(4), object(2)\n",
            "memory usage: 239.4+ KB\n"
          ]
        }
      ]
    },
    {
      "cell_type": "code",
      "source": [
        "num_attributes = X_train.select_dtypes(include = ['int64', 'float64']).columns\n",
        "cat_attributes = X_train.select_dtypes(include = ['object']).columns"
      ],
      "metadata": {
        "id": "xpHVTdm8Fkiq"
      },
      "execution_count": 57,
      "outputs": []
    },
    {
      "cell_type": "code",
      "source": [
        "trf = [ ('num', StandardScaler(), num_attributes),\n",
        "       ('cat', OneHotEncoder( handle_unknown='ignore'), cat_attributes) ]\n",
        "col_transform = ColumnTransformer( transformers = trf )"
      ],
      "metadata": {
        "id": "3B-eg6NcGK0y"
      },
      "execution_count": 58,
      "outputs": []
    },
    {
      "cell_type": "code",
      "source": [
        "pipeline = Pipeline( steps = [('pre', col_transform),\n",
        " ('clf', DecisionTreeClassifier(max_depth=4))])"
      ],
      "metadata": {
        "id": "_fwhn0aRmGJR"
      },
      "execution_count": 59,
      "outputs": []
    },
    {
      "cell_type": "code",
      "source": [
        "cross_val_score( pipeline, X_train, y_train, cv=5, scoring='accuracy')"
      ],
      "metadata": {
        "id": "pZG0znESmNCN",
        "outputId": "c57d088f-eab6-4d31-a2f3-2d85a1059325",
        "colab": {
          "base_uri": "https://localhost:8080/"
        }
      },
      "execution_count": 60,
      "outputs": [
        {
          "output_type": "execute_result",
          "data": {
            "text/plain": [
              "array([0.71148825, 0.72976501, 0.74804178, 0.72062663, 0.74412533])"
            ]
          },
          "metadata": {},
          "execution_count": 60
        }
      ]
    },
    {
      "cell_type": "code",
      "source": [
        "cross_val_score( pipeline, X_train, y_train, cv=5, scoring='f1')"
      ],
      "metadata": {
        "colab": {
          "base_uri": "https://localhost:8080/"
        },
        "id": "IPY9x-WmpGCg",
        "outputId": "2f2ab1f2-6f3b-4add-a0ca-3c921d266579"
      },
      "execution_count": 61,
      "outputs": [
        {
          "output_type": "execute_result",
          "data": {
            "text/plain": [
              "array([0.59165154, 0.65785124, 0.65099458, 0.56147541, 0.6329588 ])"
            ]
          },
          "metadata": {},
          "execution_count": 61
        }
      ]
    },
    {
      "cell_type": "code",
      "source": [
        "model = pipeline.fit( X_train, y_train )\n",
        "model"
      ],
      "metadata": {
        "id": "783g0GQYnDxK",
        "outputId": "be361d01-cde1-4254-db01-dd29a63c0e1d",
        "colab": {
          "base_uri": "https://localhost:8080/",
          "height": 192
        }
      },
      "execution_count": 62,
      "outputs": [
        {
          "output_type": "execute_result",
          "data": {
            "text/plain": [
              "Pipeline(steps=[('pre',\n",
              "                 ColumnTransformer(transformers=[('num', StandardScaler(),\n",
              "                                                  Index(['xga', 'poss', 'sot', 'fk', 'pk'], dtype='object')),\n",
              "                                                 ('cat',\n",
              "                                                  OneHotEncoder(handle_unknown='ignore'),\n",
              "                                                  Index(['round', 'venue'], dtype='object'))])),\n",
              "                ('clf', DecisionTreeClassifier(max_depth=4))])"
            ],
            "text/html": [
              "<style>#sk-container-id-2 {color: black;}#sk-container-id-2 pre{padding: 0;}#sk-container-id-2 div.sk-toggleable {background-color: white;}#sk-container-id-2 label.sk-toggleable__label {cursor: pointer;display: block;width: 100%;margin-bottom: 0;padding: 0.3em;box-sizing: border-box;text-align: center;}#sk-container-id-2 label.sk-toggleable__label-arrow:before {content: \"▸\";float: left;margin-right: 0.25em;color: #696969;}#sk-container-id-2 label.sk-toggleable__label-arrow:hover:before {color: black;}#sk-container-id-2 div.sk-estimator:hover label.sk-toggleable__label-arrow:before {color: black;}#sk-container-id-2 div.sk-toggleable__content {max-height: 0;max-width: 0;overflow: hidden;text-align: left;background-color: #f0f8ff;}#sk-container-id-2 div.sk-toggleable__content pre {margin: 0.2em;color: black;border-radius: 0.25em;background-color: #f0f8ff;}#sk-container-id-2 input.sk-toggleable__control:checked~div.sk-toggleable__content {max-height: 200px;max-width: 100%;overflow: auto;}#sk-container-id-2 input.sk-toggleable__control:checked~label.sk-toggleable__label-arrow:before {content: \"▾\";}#sk-container-id-2 div.sk-estimator input.sk-toggleable__control:checked~label.sk-toggleable__label {background-color: #d4ebff;}#sk-container-id-2 div.sk-label input.sk-toggleable__control:checked~label.sk-toggleable__label {background-color: #d4ebff;}#sk-container-id-2 input.sk-hidden--visually {border: 0;clip: rect(1px 1px 1px 1px);clip: rect(1px, 1px, 1px, 1px);height: 1px;margin: -1px;overflow: hidden;padding: 0;position: absolute;width: 1px;}#sk-container-id-2 div.sk-estimator {font-family: monospace;background-color: #f0f8ff;border: 1px dotted black;border-radius: 0.25em;box-sizing: border-box;margin-bottom: 0.5em;}#sk-container-id-2 div.sk-estimator:hover {background-color: #d4ebff;}#sk-container-id-2 div.sk-parallel-item::after {content: \"\";width: 100%;border-bottom: 1px solid gray;flex-grow: 1;}#sk-container-id-2 div.sk-label:hover label.sk-toggleable__label {background-color: #d4ebff;}#sk-container-id-2 div.sk-serial::before {content: \"\";position: absolute;border-left: 1px solid gray;box-sizing: border-box;top: 0;bottom: 0;left: 50%;z-index: 0;}#sk-container-id-2 div.sk-serial {display: flex;flex-direction: column;align-items: center;background-color: white;padding-right: 0.2em;padding-left: 0.2em;position: relative;}#sk-container-id-2 div.sk-item {position: relative;z-index: 1;}#sk-container-id-2 div.sk-parallel {display: flex;align-items: stretch;justify-content: center;background-color: white;position: relative;}#sk-container-id-2 div.sk-item::before, #sk-container-id-2 div.sk-parallel-item::before {content: \"\";position: absolute;border-left: 1px solid gray;box-sizing: border-box;top: 0;bottom: 0;left: 50%;z-index: -1;}#sk-container-id-2 div.sk-parallel-item {display: flex;flex-direction: column;z-index: 1;position: relative;background-color: white;}#sk-container-id-2 div.sk-parallel-item:first-child::after {align-self: flex-end;width: 50%;}#sk-container-id-2 div.sk-parallel-item:last-child::after {align-self: flex-start;width: 50%;}#sk-container-id-2 div.sk-parallel-item:only-child::after {width: 0;}#sk-container-id-2 div.sk-dashed-wrapped {border: 1px dashed gray;margin: 0 0.4em 0.5em 0.4em;box-sizing: border-box;padding-bottom: 0.4em;background-color: white;}#sk-container-id-2 div.sk-label label {font-family: monospace;font-weight: bold;display: inline-block;line-height: 1.2em;}#sk-container-id-2 div.sk-label-container {text-align: center;}#sk-container-id-2 div.sk-container {/* jupyter's `normalize.less` sets `[hidden] { display: none; }` but bootstrap.min.css set `[hidden] { display: none !important; }` so we also need the `!important` here to be able to override the default hidden behavior on the sphinx rendered scikit-learn.org. See: https://github.com/scikit-learn/scikit-learn/issues/21755 */display: inline-block !important;position: relative;}#sk-container-id-2 div.sk-text-repr-fallback {display: none;}</style><div id=\"sk-container-id-2\" class=\"sk-top-container\"><div class=\"sk-text-repr-fallback\"><pre>Pipeline(steps=[(&#x27;pre&#x27;,\n",
              "                 ColumnTransformer(transformers=[(&#x27;num&#x27;, StandardScaler(),\n",
              "                                                  Index([&#x27;xga&#x27;, &#x27;poss&#x27;, &#x27;sot&#x27;, &#x27;fk&#x27;, &#x27;pk&#x27;], dtype=&#x27;object&#x27;)),\n",
              "                                                 (&#x27;cat&#x27;,\n",
              "                                                  OneHotEncoder(handle_unknown=&#x27;ignore&#x27;),\n",
              "                                                  Index([&#x27;round&#x27;, &#x27;venue&#x27;], dtype=&#x27;object&#x27;))])),\n",
              "                (&#x27;clf&#x27;, DecisionTreeClassifier(max_depth=4))])</pre><b>In a Jupyter environment, please rerun this cell to show the HTML representation or trust the notebook. <br />On GitHub, the HTML representation is unable to render, please try loading this page with nbviewer.org.</b></div><div class=\"sk-container\" hidden><div class=\"sk-item sk-dashed-wrapped\"><div class=\"sk-label-container\"><div class=\"sk-label sk-toggleable\"><input class=\"sk-toggleable__control sk-hidden--visually\" id=\"sk-estimator-id-8\" type=\"checkbox\" ><label for=\"sk-estimator-id-8\" class=\"sk-toggleable__label sk-toggleable__label-arrow\">Pipeline</label><div class=\"sk-toggleable__content\"><pre>Pipeline(steps=[(&#x27;pre&#x27;,\n",
              "                 ColumnTransformer(transformers=[(&#x27;num&#x27;, StandardScaler(),\n",
              "                                                  Index([&#x27;xga&#x27;, &#x27;poss&#x27;, &#x27;sot&#x27;, &#x27;fk&#x27;, &#x27;pk&#x27;], dtype=&#x27;object&#x27;)),\n",
              "                                                 (&#x27;cat&#x27;,\n",
              "                                                  OneHotEncoder(handle_unknown=&#x27;ignore&#x27;),\n",
              "                                                  Index([&#x27;round&#x27;, &#x27;venue&#x27;], dtype=&#x27;object&#x27;))])),\n",
              "                (&#x27;clf&#x27;, DecisionTreeClassifier(max_depth=4))])</pre></div></div></div><div class=\"sk-serial\"><div class=\"sk-item sk-dashed-wrapped\"><div class=\"sk-label-container\"><div class=\"sk-label sk-toggleable\"><input class=\"sk-toggleable__control sk-hidden--visually\" id=\"sk-estimator-id-9\" type=\"checkbox\" ><label for=\"sk-estimator-id-9\" class=\"sk-toggleable__label sk-toggleable__label-arrow\">pre: ColumnTransformer</label><div class=\"sk-toggleable__content\"><pre>ColumnTransformer(transformers=[(&#x27;num&#x27;, StandardScaler(),\n",
              "                                 Index([&#x27;xga&#x27;, &#x27;poss&#x27;, &#x27;sot&#x27;, &#x27;fk&#x27;, &#x27;pk&#x27;], dtype=&#x27;object&#x27;)),\n",
              "                                (&#x27;cat&#x27;, OneHotEncoder(handle_unknown=&#x27;ignore&#x27;),\n",
              "                                 Index([&#x27;round&#x27;, &#x27;venue&#x27;], dtype=&#x27;object&#x27;))])</pre></div></div></div><div class=\"sk-parallel\"><div class=\"sk-parallel-item\"><div class=\"sk-item\"><div class=\"sk-label-container\"><div class=\"sk-label sk-toggleable\"><input class=\"sk-toggleable__control sk-hidden--visually\" id=\"sk-estimator-id-10\" type=\"checkbox\" ><label for=\"sk-estimator-id-10\" class=\"sk-toggleable__label sk-toggleable__label-arrow\">num</label><div class=\"sk-toggleable__content\"><pre>Index([&#x27;xga&#x27;, &#x27;poss&#x27;, &#x27;sot&#x27;, &#x27;fk&#x27;, &#x27;pk&#x27;], dtype=&#x27;object&#x27;)</pre></div></div></div><div class=\"sk-serial\"><div class=\"sk-item\"><div class=\"sk-estimator sk-toggleable\"><input class=\"sk-toggleable__control sk-hidden--visually\" id=\"sk-estimator-id-11\" type=\"checkbox\" ><label for=\"sk-estimator-id-11\" class=\"sk-toggleable__label sk-toggleable__label-arrow\">StandardScaler</label><div class=\"sk-toggleable__content\"><pre>StandardScaler()</pre></div></div></div></div></div></div><div class=\"sk-parallel-item\"><div class=\"sk-item\"><div class=\"sk-label-container\"><div class=\"sk-label sk-toggleable\"><input class=\"sk-toggleable__control sk-hidden--visually\" id=\"sk-estimator-id-12\" type=\"checkbox\" ><label for=\"sk-estimator-id-12\" class=\"sk-toggleable__label sk-toggleable__label-arrow\">cat</label><div class=\"sk-toggleable__content\"><pre>Index([&#x27;round&#x27;, &#x27;venue&#x27;], dtype=&#x27;object&#x27;)</pre></div></div></div><div class=\"sk-serial\"><div class=\"sk-item\"><div class=\"sk-estimator sk-toggleable\"><input class=\"sk-toggleable__control sk-hidden--visually\" id=\"sk-estimator-id-13\" type=\"checkbox\" ><label for=\"sk-estimator-id-13\" class=\"sk-toggleable__label sk-toggleable__label-arrow\">OneHotEncoder</label><div class=\"sk-toggleable__content\"><pre>OneHotEncoder(handle_unknown=&#x27;ignore&#x27;)</pre></div></div></div></div></div></div></div></div><div class=\"sk-item\"><div class=\"sk-estimator sk-toggleable\"><input class=\"sk-toggleable__control sk-hidden--visually\" id=\"sk-estimator-id-14\" type=\"checkbox\" ><label for=\"sk-estimator-id-14\" class=\"sk-toggleable__label sk-toggleable__label-arrow\">DecisionTreeClassifier</label><div class=\"sk-toggleable__content\"><pre>DecisionTreeClassifier(max_depth=4)</pre></div></div></div></div></div></div></div>"
            ]
          },
          "metadata": {},
          "execution_count": 62
        }
      ]
    },
    {
      "cell_type": "code",
      "source": [
        "predictions = pipeline.predict( X_test )"
      ],
      "metadata": {
        "id": "5f6hyWsonQ7L"
      },
      "execution_count": 63,
      "outputs": []
    },
    {
      "cell_type": "code",
      "source": [
        "from sklearn.metrics import confusion_matrix, ConfusionMatrixDisplay"
      ],
      "metadata": {
        "id": "1HtmA2jznee_"
      },
      "execution_count": 64,
      "outputs": []
    },
    {
      "cell_type": "code",
      "source": [
        "cm = confusion_matrix( y_test, predictions )\n",
        "cm"
      ],
      "metadata": {
        "id": "pqufYZh8nTXv",
        "outputId": "37e1a5ba-7588-459b-c000-74e20ce96075",
        "colab": {
          "base_uri": "https://localhost:8080/"
        }
      },
      "execution_count": 65,
      "outputs": [
        {
          "output_type": "execute_result",
          "data": {
            "text/plain": [
              "array([[495,  89],\n",
              "       [165, 209]])"
            ]
          },
          "metadata": {},
          "execution_count": 65
        }
      ]
    },
    {
      "cell_type": "code",
      "source": [
        "plot_tree(pipeline.named_steps['clf'])"
      ],
      "metadata": {
        "colab": {
          "base_uri": "https://localhost:8080/",
          "height": 960
        },
        "id": "dvqgbnwJiB02",
        "outputId": "3ba7b748-090d-4ac9-da6e-881de3d40a9f"
      },
      "execution_count": 66,
      "outputs": [
        {
          "output_type": "execute_result",
          "data": {
            "text/plain": [
              "[Text(0.5, 0.9, 'x[2] <= 0.505\\ngini = 0.479\\nsamples = 3830\\nvalue = [2309, 1521]'),\n",
              " Text(0.25, 0.7, 'x[0] <= -0.269\\ngini = 0.41\\nsamples = 2766\\nvalue = [1969, 797]'),\n",
              " Text(0.125, 0.5, 'x[4] <= 1.132\\ngini = 0.496\\nsamples = 1139\\nvalue = [621, 518]'),\n",
              " Text(0.0625, 0.3, 'x[2] <= -0.706\\ngini = 0.481\\nsamples = 1003\\nvalue = [598, 405]'),\n",
              " Text(0.03125, 0.1, 'gini = 0.319\\nsamples = 286\\nvalue = [229, 57]'),\n",
              " Text(0.09375, 0.1, 'gini = 0.5\\nsamples = 717\\nvalue = [369, 348]'),\n",
              " Text(0.1875, 0.3, 'x[39] <= 0.5\\ngini = 0.281\\nsamples = 136\\nvalue = [23, 113]'),\n",
              " Text(0.15625, 0.1, 'gini = 0.257\\nsamples = 132\\nvalue = [20, 112]'),\n",
              " Text(0.21875, 0.1, 'gini = 0.375\\nsamples = 4\\nvalue = [3, 1]'),\n",
              " Text(0.375, 0.5, 'x[2] <= -0.706\\ngini = 0.284\\nsamples = 1627\\nvalue = [1348, 279]'),\n",
              " Text(0.3125, 0.3, 'x[2] <= -1.11\\ngini = 0.149\\nsamples = 656\\nvalue = [603, 53]'),\n",
              " Text(0.28125, 0.1, 'gini = 0.052\\nsamples = 336\\nvalue = [327, 9]'),\n",
              " Text(0.34375, 0.1, 'gini = 0.237\\nsamples = 320\\nvalue = [276, 44]'),\n",
              " Text(0.4375, 0.3, 'x[0] <= 0.466\\ngini = 0.357\\nsamples = 971\\nvalue = [745, 226]'),\n",
              " Text(0.40625, 0.1, 'gini = 0.43\\nsamples = 486\\nvalue = [334, 152]'),\n",
              " Text(0.46875, 0.1, 'gini = 0.259\\nsamples = 485\\nvalue = [411, 74]'),\n",
              " Text(0.75, 0.7, 'x[0] <= -0.515\\ngini = 0.435\\nsamples = 1064\\nvalue = [340, 724]'),\n",
              " Text(0.625, 0.5, 'x[1] <= 0.331\\ngini = 0.293\\nsamples = 521\\nvalue = [93, 428]'),\n",
              " Text(0.5625, 0.3, 'x[7] <= 0.5\\ngini = 0.166\\nsamples = 175\\nvalue = [16, 159]'),\n",
              " Text(0.53125, 0.1, 'gini = 0.152\\nsamples = 169\\nvalue = [14, 155]'),\n",
              " Text(0.59375, 0.1, 'gini = 0.444\\nsamples = 6\\nvalue = [2, 4]'),\n",
              " Text(0.6875, 0.3, 'x[17] <= 0.5\\ngini = 0.346\\nsamples = 346\\nvalue = [77, 269]'),\n",
              " Text(0.65625, 0.1, 'gini = 0.332\\nsamples = 338\\nvalue = [71, 267]'),\n",
              " Text(0.71875, 0.1, 'gini = 0.375\\nsamples = 8\\nvalue = [6, 2]'),\n",
              " Text(0.875, 0.5, 'x[0] <= 1.325\\ngini = 0.496\\nsamples = 543\\nvalue = [247, 296]'),\n",
              " Text(0.8125, 0.3, 'x[2] <= 1.312\\ngini = 0.488\\nsamples = 502\\nvalue = [212, 290]'),\n",
              " Text(0.78125, 0.1, 'gini = 0.499\\nsamples = 326\\nvalue = [156, 170]'),\n",
              " Text(0.84375, 0.1, 'gini = 0.434\\nsamples = 176\\nvalue = [56, 120]'),\n",
              " Text(0.9375, 0.3, 'x[6] <= 0.5\\ngini = 0.25\\nsamples = 41\\nvalue = [35, 6]'),\n",
              " Text(0.90625, 0.1, 'gini = 0.188\\nsamples = 38\\nvalue = [34, 4]'),\n",
              " Text(0.96875, 0.1, 'gini = 0.444\\nsamples = 3\\nvalue = [1, 2]')]"
            ]
          },
          "metadata": {},
          "execution_count": 66
        },
        {
          "output_type": "display_data",
          "data": {
            "text/plain": [
              "<Figure size 640x480 with 1 Axes>"
            ],
            "image/png": "[encoded data removed]"
          },
          "metadata": {}
        }
      ]
    },
    {
      "cell_type": "code",
      "source": [
        "import sklearn.metrics as metrics"
      ],
      "metadata": {
        "id": "KxenoApGrlZ8"
      },
      "execution_count": 67,
      "outputs": []
    },
    {
      "cell_type": "code",
      "source": [
        "attribute_selection_method2(df, 'win', 'gini')"
      ],
      "metadata": {
        "colab": {
          "base_uri": "https://localhost:8080/"
        },
        "id": "wpF2k5TKdNbA",
        "outputId": "615c1f8d-367b-44ee-a634-f14584e27588"
      },
      "execution_count": 69,
      "outputs": [
        {
          "output_type": "execute_result",
          "data": {
            "text/plain": [
              "1"
            ]
          },
          "metadata": {},
          "execution_count": 69
        }
      ]
    }
  ]
}